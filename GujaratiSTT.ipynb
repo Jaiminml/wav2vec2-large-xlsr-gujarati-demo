{
  "nbformat": 4,
  "nbformat_minor": 0,
  "metadata": {
    "colab": {
      "name": "GujaratiSTT.ipynb",
      "provenance": [],
      "collapsed_sections": [],
      "machine_shape": "hm"
    },
    "kernelspec": {
      "name": "python3",
      "display_name": "Python 3"
    },
    "language_info": {
      "name": "python"
    },
    "accelerator": "GPU",
    "widgets": {
      "application/vnd.jupyter.widget-state+json": {
        "0e7c3f051b754b48a6ba55e0d5a46c41": {
          "model_module": "@jupyter-widgets/controls",
          "model_name": "HBoxModel",
          "state": {
            "_view_name": "HBoxView",
            "_dom_classes": [],
            "_model_name": "HBoxModel",
            "_view_module": "@jupyter-widgets/controls",
            "_model_module_version": "1.5.0",
            "_view_count": null,
            "_view_module_version": "1.5.0",
            "box_style": "",
            "layout": "IPY_MODEL_214ee5dd5e1c477aac6172f0ced87ccd",
            "_model_module": "@jupyter-widgets/controls",
            "children": [
              "IPY_MODEL_800184d2dbdf46108fbb2f349280a4f0",
              "IPY_MODEL_b0cd9d55677f4314a3b835aaf644752e"
            ]
          }
        },
        "214ee5dd5e1c477aac6172f0ced87ccd": {
          "model_module": "@jupyter-widgets/base",
          "model_name": "LayoutModel",
          "state": {
            "_view_name": "LayoutView",
            "grid_template_rows": null,
            "right": null,
            "justify_content": null,
            "_view_module": "@jupyter-widgets/base",
            "overflow": null,
            "_model_module_version": "1.2.0",
            "_view_count": null,
            "flex_flow": null,
            "width": null,
            "min_width": null,
            "border": null,
            "align_items": null,
            "bottom": null,
            "_model_module": "@jupyter-widgets/base",
            "top": null,
            "grid_column": null,
            "overflow_y": null,
            "overflow_x": null,
            "grid_auto_flow": null,
            "grid_area": null,
            "grid_template_columns": null,
            "flex": null,
            "_model_name": "LayoutModel",
            "justify_items": null,
            "grid_row": null,
            "max_height": null,
            "align_content": null,
            "visibility": null,
            "align_self": null,
            "height": null,
            "min_height": null,
            "padding": null,
            "grid_auto_rows": null,
            "grid_gap": null,
            "max_width": null,
            "order": null,
            "_view_module_version": "1.2.0",
            "grid_template_areas": null,
            "object_position": null,
            "object_fit": null,
            "grid_auto_columns": null,
            "margin": null,
            "display": null,
            "left": null
          }
        },
        "800184d2dbdf46108fbb2f349280a4f0": {
          "model_module": "@jupyter-widgets/controls",
          "model_name": "FloatProgressModel",
          "state": {
            "_view_name": "ProgressView",
            "style": "IPY_MODEL_79651f59497b47229e2a6b4d59f1ccb8",
            "_dom_classes": [],
            "description": "",
            "_model_name": "FloatProgressModel",
            "bar_style": "info",
            "max": 1,
            "_view_module": "@jupyter-widgets/controls",
            "_model_module_version": "1.5.0",
            "value": 1,
            "_view_count": null,
            "_view_module_version": "1.5.0",
            "orientation": "horizontal",
            "min": 0,
            "description_tooltip": null,
            "_model_module": "@jupyter-widgets/controls",
            "layout": "IPY_MODEL_937e8a5106f84967b02181da53613681"
          }
        },
        "b0cd9d55677f4314a3b835aaf644752e": {
          "model_module": "@jupyter-widgets/controls",
          "model_name": "HTMLModel",
          "state": {
            "_view_name": "HTMLView",
            "style": "IPY_MODEL_5eb8e9c708c54b49a0b7d00c093b1aa6",
            "_dom_classes": [],
            "description": "",
            "_model_name": "HTMLModel",
            "placeholder": "​",
            "_view_module": "@jupyter-widgets/controls",
            "_model_module_version": "1.5.0",
            "value": " 1/? [00:00&lt;00:00, 11.96 tables/s]",
            "_view_count": null,
            "_view_module_version": "1.5.0",
            "description_tooltip": null,
            "_model_module": "@jupyter-widgets/controls",
            "layout": "IPY_MODEL_eac7613ac04047b38b5dd7965aa10b35"
          }
        },
        "79651f59497b47229e2a6b4d59f1ccb8": {
          "model_module": "@jupyter-widgets/controls",
          "model_name": "ProgressStyleModel",
          "state": {
            "_view_name": "StyleView",
            "_model_name": "ProgressStyleModel",
            "description_width": "initial",
            "_view_module": "@jupyter-widgets/base",
            "_model_module_version": "1.5.0",
            "_view_count": null,
            "_view_module_version": "1.2.0",
            "bar_color": null,
            "_model_module": "@jupyter-widgets/controls"
          }
        },
        "937e8a5106f84967b02181da53613681": {
          "model_module": "@jupyter-widgets/base",
          "model_name": "LayoutModel",
          "state": {
            "_view_name": "LayoutView",
            "grid_template_rows": null,
            "right": null,
            "justify_content": null,
            "_view_module": "@jupyter-widgets/base",
            "overflow": null,
            "_model_module_version": "1.2.0",
            "_view_count": null,
            "flex_flow": null,
            "width": null,
            "min_width": null,
            "border": null,
            "align_items": null,
            "bottom": null,
            "_model_module": "@jupyter-widgets/base",
            "top": null,
            "grid_column": null,
            "overflow_y": null,
            "overflow_x": null,
            "grid_auto_flow": null,
            "grid_area": null,
            "grid_template_columns": null,
            "flex": null,
            "_model_name": "LayoutModel",
            "justify_items": null,
            "grid_row": null,
            "max_height": null,
            "align_content": null,
            "visibility": null,
            "align_self": null,
            "height": null,
            "min_height": null,
            "padding": null,
            "grid_auto_rows": null,
            "grid_gap": null,
            "max_width": null,
            "order": null,
            "_view_module_version": "1.2.0",
            "grid_template_areas": null,
            "object_position": null,
            "object_fit": null,
            "grid_auto_columns": null,
            "margin": null,
            "display": null,
            "left": null
          }
        },
        "5eb8e9c708c54b49a0b7d00c093b1aa6": {
          "model_module": "@jupyter-widgets/controls",
          "model_name": "DescriptionStyleModel",
          "state": {
            "_view_name": "StyleView",
            "_model_name": "DescriptionStyleModel",
            "description_width": "",
            "_view_module": "@jupyter-widgets/base",
            "_model_module_version": "1.5.0",
            "_view_count": null,
            "_view_module_version": "1.2.0",
            "_model_module": "@jupyter-widgets/controls"
          }
        },
        "eac7613ac04047b38b5dd7965aa10b35": {
          "model_module": "@jupyter-widgets/base",
          "model_name": "LayoutModel",
          "state": {
            "_view_name": "LayoutView",
            "grid_template_rows": null,
            "right": null,
            "justify_content": null,
            "_view_module": "@jupyter-widgets/base",
            "overflow": null,
            "_model_module_version": "1.2.0",
            "_view_count": null,
            "flex_flow": null,
            "width": null,
            "min_width": null,
            "border": null,
            "align_items": null,
            "bottom": null,
            "_model_module": "@jupyter-widgets/base",
            "top": null,
            "grid_column": null,
            "overflow_y": null,
            "overflow_x": null,
            "grid_auto_flow": null,
            "grid_area": null,
            "grid_template_columns": null,
            "flex": null,
            "_model_name": "LayoutModel",
            "justify_items": null,
            "grid_row": null,
            "max_height": null,
            "align_content": null,
            "visibility": null,
            "align_self": null,
            "height": null,
            "min_height": null,
            "padding": null,
            "grid_auto_rows": null,
            "grid_gap": null,
            "max_width": null,
            "order": null,
            "_view_module_version": "1.2.0",
            "grid_template_areas": null,
            "object_position": null,
            "object_fit": null,
            "grid_auto_columns": null,
            "margin": null,
            "display": null,
            "left": null
          }
        },
        "fe76ab117d0a4f0c9a1e20f585ce3e56": {
          "model_module": "@jupyter-widgets/controls",
          "model_name": "HBoxModel",
          "state": {
            "_view_name": "HBoxView",
            "_dom_classes": [],
            "_model_name": "HBoxModel",
            "_view_module": "@jupyter-widgets/controls",
            "_model_module_version": "1.5.0",
            "_view_count": null,
            "_view_module_version": "1.5.0",
            "box_style": "",
            "layout": "IPY_MODEL_7d24798c3d9848d6a768435ed884f765",
            "_model_module": "@jupyter-widgets/controls",
            "children": [
              "IPY_MODEL_4b459604be814b54b08e4e3dd5232354",
              "IPY_MODEL_290267c2524542888b0e9d4564dfcd9b"
            ]
          }
        },
        "7d24798c3d9848d6a768435ed884f765": {
          "model_module": "@jupyter-widgets/base",
          "model_name": "LayoutModel",
          "state": {
            "_view_name": "LayoutView",
            "grid_template_rows": null,
            "right": null,
            "justify_content": null,
            "_view_module": "@jupyter-widgets/base",
            "overflow": null,
            "_model_module_version": "1.2.0",
            "_view_count": null,
            "flex_flow": null,
            "width": null,
            "min_width": null,
            "border": null,
            "align_items": null,
            "bottom": null,
            "_model_module": "@jupyter-widgets/base",
            "top": null,
            "grid_column": null,
            "overflow_y": null,
            "overflow_x": null,
            "grid_auto_flow": null,
            "grid_area": null,
            "grid_template_columns": null,
            "flex": null,
            "_model_name": "LayoutModel",
            "justify_items": null,
            "grid_row": null,
            "max_height": null,
            "align_content": null,
            "visibility": null,
            "align_self": null,
            "height": null,
            "min_height": null,
            "padding": null,
            "grid_auto_rows": null,
            "grid_gap": null,
            "max_width": null,
            "order": null,
            "_view_module_version": "1.2.0",
            "grid_template_areas": null,
            "object_position": null,
            "object_fit": null,
            "grid_auto_columns": null,
            "margin": null,
            "display": null,
            "left": null
          }
        },
        "4b459604be814b54b08e4e3dd5232354": {
          "model_module": "@jupyter-widgets/controls",
          "model_name": "FloatProgressModel",
          "state": {
            "_view_name": "ProgressView",
            "style": "IPY_MODEL_b411bdf9292540dcbf84f6f36e658b63",
            "_dom_classes": [],
            "description": "",
            "_model_name": "FloatProgressModel",
            "bar_style": "info",
            "max": 1,
            "_view_module": "@jupyter-widgets/controls",
            "_model_module_version": "1.5.0",
            "value": 1,
            "_view_count": null,
            "_view_module_version": "1.5.0",
            "orientation": "horizontal",
            "min": 0,
            "description_tooltip": null,
            "_model_module": "@jupyter-widgets/controls",
            "layout": "IPY_MODEL_ea03ca81c95844468513336e9e49dbe8"
          }
        },
        "290267c2524542888b0e9d4564dfcd9b": {
          "model_module": "@jupyter-widgets/controls",
          "model_name": "HTMLModel",
          "state": {
            "_view_name": "HTMLView",
            "style": "IPY_MODEL_2bd77625ac744c009e85aed4e0c13255",
            "_dom_classes": [],
            "description": "",
            "_model_name": "HTMLModel",
            "placeholder": "​",
            "_view_module": "@jupyter-widgets/controls",
            "_model_module_version": "1.5.0",
            "value": " 1/? [00:00&lt;00:00, 21.99 tables/s]",
            "_view_count": null,
            "_view_module_version": "1.5.0",
            "description_tooltip": null,
            "_model_module": "@jupyter-widgets/controls",
            "layout": "IPY_MODEL_b1a8364e21fb41bc907193c08257aa92"
          }
        },
        "b411bdf9292540dcbf84f6f36e658b63": {
          "model_module": "@jupyter-widgets/controls",
          "model_name": "ProgressStyleModel",
          "state": {
            "_view_name": "StyleView",
            "_model_name": "ProgressStyleModel",
            "description_width": "initial",
            "_view_module": "@jupyter-widgets/base",
            "_model_module_version": "1.5.0",
            "_view_count": null,
            "_view_module_version": "1.2.0",
            "bar_color": null,
            "_model_module": "@jupyter-widgets/controls"
          }
        },
        "ea03ca81c95844468513336e9e49dbe8": {
          "model_module": "@jupyter-widgets/base",
          "model_name": "LayoutModel",
          "state": {
            "_view_name": "LayoutView",
            "grid_template_rows": null,
            "right": null,
            "justify_content": null,
            "_view_module": "@jupyter-widgets/base",
            "overflow": null,
            "_model_module_version": "1.2.0",
            "_view_count": null,
            "flex_flow": null,
            "width": null,
            "min_width": null,
            "border": null,
            "align_items": null,
            "bottom": null,
            "_model_module": "@jupyter-widgets/base",
            "top": null,
            "grid_column": null,
            "overflow_y": null,
            "overflow_x": null,
            "grid_auto_flow": null,
            "grid_area": null,
            "grid_template_columns": null,
            "flex": null,
            "_model_name": "LayoutModel",
            "justify_items": null,
            "grid_row": null,
            "max_height": null,
            "align_content": null,
            "visibility": null,
            "align_self": null,
            "height": null,
            "min_height": null,
            "padding": null,
            "grid_auto_rows": null,
            "grid_gap": null,
            "max_width": null,
            "order": null,
            "_view_module_version": "1.2.0",
            "grid_template_areas": null,
            "object_position": null,
            "object_fit": null,
            "grid_auto_columns": null,
            "margin": null,
            "display": null,
            "left": null
          }
        },
        "2bd77625ac744c009e85aed4e0c13255": {
          "model_module": "@jupyter-widgets/controls",
          "model_name": "DescriptionStyleModel",
          "state": {
            "_view_name": "StyleView",
            "_model_name": "DescriptionStyleModel",
            "description_width": "",
            "_view_module": "@jupyter-widgets/base",
            "_model_module_version": "1.5.0",
            "_view_count": null,
            "_view_module_version": "1.2.0",
            "_model_module": "@jupyter-widgets/controls"
          }
        },
        "b1a8364e21fb41bc907193c08257aa92": {
          "model_module": "@jupyter-widgets/base",
          "model_name": "LayoutModel",
          "state": {
            "_view_name": "LayoutView",
            "grid_template_rows": null,
            "right": null,
            "justify_content": null,
            "_view_module": "@jupyter-widgets/base",
            "overflow": null,
            "_model_module_version": "1.2.0",
            "_view_count": null,
            "flex_flow": null,
            "width": null,
            "min_width": null,
            "border": null,
            "align_items": null,
            "bottom": null,
            "_model_module": "@jupyter-widgets/base",
            "top": null,
            "grid_column": null,
            "overflow_y": null,
            "overflow_x": null,
            "grid_auto_flow": null,
            "grid_area": null,
            "grid_template_columns": null,
            "flex": null,
            "_model_name": "LayoutModel",
            "justify_items": null,
            "grid_row": null,
            "max_height": null,
            "align_content": null,
            "visibility": null,
            "align_self": null,
            "height": null,
            "min_height": null,
            "padding": null,
            "grid_auto_rows": null,
            "grid_gap": null,
            "max_width": null,
            "order": null,
            "_view_module_version": "1.2.0",
            "grid_template_areas": null,
            "object_position": null,
            "object_fit": null,
            "grid_auto_columns": null,
            "margin": null,
            "display": null,
            "left": null
          }
        },
        "8579341fa94946999bbfb24e224c31d0": {
          "model_module": "@jupyter-widgets/controls",
          "model_name": "HBoxModel",
          "state": {
            "_view_name": "HBoxView",
            "_dom_classes": [],
            "_model_name": "HBoxModel",
            "_view_module": "@jupyter-widgets/controls",
            "_model_module_version": "1.5.0",
            "_view_count": null,
            "_view_module_version": "1.5.0",
            "box_style": "",
            "layout": "IPY_MODEL_64f55abb3f934551ab7be3eb01daa57c",
            "_model_module": "@jupyter-widgets/controls",
            "children": [
              "IPY_MODEL_01f112052f0c4bceab83515d9a8f67ec",
              "IPY_MODEL_351cddff89b747b888d33943711fec41"
            ]
          }
        },
        "64f55abb3f934551ab7be3eb01daa57c": {
          "model_module": "@jupyter-widgets/base",
          "model_name": "LayoutModel",
          "state": {
            "_view_name": "LayoutView",
            "grid_template_rows": null,
            "right": null,
            "justify_content": null,
            "_view_module": "@jupyter-widgets/base",
            "overflow": null,
            "_model_module_version": "1.2.0",
            "_view_count": null,
            "flex_flow": null,
            "width": null,
            "min_width": null,
            "border": null,
            "align_items": null,
            "bottom": null,
            "_model_module": "@jupyter-widgets/base",
            "top": null,
            "grid_column": null,
            "overflow_y": null,
            "overflow_x": null,
            "grid_auto_flow": null,
            "grid_area": null,
            "grid_template_columns": null,
            "flex": null,
            "_model_name": "LayoutModel",
            "justify_items": null,
            "grid_row": null,
            "max_height": null,
            "align_content": null,
            "visibility": null,
            "align_self": null,
            "height": null,
            "min_height": null,
            "padding": null,
            "grid_auto_rows": null,
            "grid_gap": null,
            "max_width": null,
            "order": null,
            "_view_module_version": "1.2.0",
            "grid_template_areas": null,
            "object_position": null,
            "object_fit": null,
            "grid_auto_columns": null,
            "margin": null,
            "display": null,
            "left": null
          }
        },
        "01f112052f0c4bceab83515d9a8f67ec": {
          "model_module": "@jupyter-widgets/controls",
          "model_name": "FloatProgressModel",
          "state": {
            "_view_name": "ProgressView",
            "style": "IPY_MODEL_5a995b18862a46d0ae43d71c98b8b523",
            "_dom_classes": [],
            "description": "100%",
            "_model_name": "FloatProgressModel",
            "bar_style": "success",
            "max": 3410,
            "_view_module": "@jupyter-widgets/controls",
            "_model_module_version": "1.5.0",
            "value": 3410,
            "_view_count": null,
            "_view_module_version": "1.5.0",
            "orientation": "horizontal",
            "min": 0,
            "description_tooltip": null,
            "_model_module": "@jupyter-widgets/controls",
            "layout": "IPY_MODEL_d8a9919f2f734507b91d91e40770b3f3"
          }
        },
        "351cddff89b747b888d33943711fec41": {
          "model_module": "@jupyter-widgets/controls",
          "model_name": "HTMLModel",
          "state": {
            "_view_name": "HTMLView",
            "style": "IPY_MODEL_b3c1384d9f164fa68f6dcb87e78147f1",
            "_dom_classes": [],
            "description": "",
            "_model_name": "HTMLModel",
            "placeholder": "​",
            "_view_module": "@jupyter-widgets/controls",
            "_model_module_version": "1.5.0",
            "value": " 3410/3410 [00:04&lt;00:00, 732.10ex/s]",
            "_view_count": null,
            "_view_module_version": "1.5.0",
            "description_tooltip": null,
            "_model_module": "@jupyter-widgets/controls",
            "layout": "IPY_MODEL_0e3108bd2ad5406480c7d459f93898f7"
          }
        },
        "5a995b18862a46d0ae43d71c98b8b523": {
          "model_module": "@jupyter-widgets/controls",
          "model_name": "ProgressStyleModel",
          "state": {
            "_view_name": "StyleView",
            "_model_name": "ProgressStyleModel",
            "description_width": "initial",
            "_view_module": "@jupyter-widgets/base",
            "_model_module_version": "1.5.0",
            "_view_count": null,
            "_view_module_version": "1.2.0",
            "bar_color": null,
            "_model_module": "@jupyter-widgets/controls"
          }
        },
        "d8a9919f2f734507b91d91e40770b3f3": {
          "model_module": "@jupyter-widgets/base",
          "model_name": "LayoutModel",
          "state": {
            "_view_name": "LayoutView",
            "grid_template_rows": null,
            "right": null,
            "justify_content": null,
            "_view_module": "@jupyter-widgets/base",
            "overflow": null,
            "_model_module_version": "1.2.0",
            "_view_count": null,
            "flex_flow": null,
            "width": null,
            "min_width": null,
            "border": null,
            "align_items": null,
            "bottom": null,
            "_model_module": "@jupyter-widgets/base",
            "top": null,
            "grid_column": null,
            "overflow_y": null,
            "overflow_x": null,
            "grid_auto_flow": null,
            "grid_area": null,
            "grid_template_columns": null,
            "flex": null,
            "_model_name": "LayoutModel",
            "justify_items": null,
            "grid_row": null,
            "max_height": null,
            "align_content": null,
            "visibility": null,
            "align_self": null,
            "height": null,
            "min_height": null,
            "padding": null,
            "grid_auto_rows": null,
            "grid_gap": null,
            "max_width": null,
            "order": null,
            "_view_module_version": "1.2.0",
            "grid_template_areas": null,
            "object_position": null,
            "object_fit": null,
            "grid_auto_columns": null,
            "margin": null,
            "display": null,
            "left": null
          }
        },
        "b3c1384d9f164fa68f6dcb87e78147f1": {
          "model_module": "@jupyter-widgets/controls",
          "model_name": "DescriptionStyleModel",
          "state": {
            "_view_name": "StyleView",
            "_model_name": "DescriptionStyleModel",
            "description_width": "",
            "_view_module": "@jupyter-widgets/base",
            "_model_module_version": "1.5.0",
            "_view_count": null,
            "_view_module_version": "1.2.0",
            "_model_module": "@jupyter-widgets/controls"
          }
        },
        "0e3108bd2ad5406480c7d459f93898f7": {
          "model_module": "@jupyter-widgets/base",
          "model_name": "LayoutModel",
          "state": {
            "_view_name": "LayoutView",
            "grid_template_rows": null,
            "right": null,
            "justify_content": null,
            "_view_module": "@jupyter-widgets/base",
            "overflow": null,
            "_model_module_version": "1.2.0",
            "_view_count": null,
            "flex_flow": null,
            "width": null,
            "min_width": null,
            "border": null,
            "align_items": null,
            "bottom": null,
            "_model_module": "@jupyter-widgets/base",
            "top": null,
            "grid_column": null,
            "overflow_y": null,
            "overflow_x": null,
            "grid_auto_flow": null,
            "grid_area": null,
            "grid_template_columns": null,
            "flex": null,
            "_model_name": "LayoutModel",
            "justify_items": null,
            "grid_row": null,
            "max_height": null,
            "align_content": null,
            "visibility": null,
            "align_self": null,
            "height": null,
            "min_height": null,
            "padding": null,
            "grid_auto_rows": null,
            "grid_gap": null,
            "max_width": null,
            "order": null,
            "_view_module_version": "1.2.0",
            "grid_template_areas": null,
            "object_position": null,
            "object_fit": null,
            "grid_auto_columns": null,
            "margin": null,
            "display": null,
            "left": null
          }
        },
        "888c56e1063248338be9e452a7a01d99": {
          "model_module": "@jupyter-widgets/controls",
          "model_name": "HBoxModel",
          "state": {
            "_view_name": "HBoxView",
            "_dom_classes": [],
            "_model_name": "HBoxModel",
            "_view_module": "@jupyter-widgets/controls",
            "_model_module_version": "1.5.0",
            "_view_count": null,
            "_view_module_version": "1.5.0",
            "box_style": "",
            "layout": "IPY_MODEL_531cfcbbc47a49cbb61cf84efea4bfa1",
            "_model_module": "@jupyter-widgets/controls",
            "children": [
              "IPY_MODEL_f1ff9c8e80ee4ce09721b9d105f57f48",
              "IPY_MODEL_0d3b9f2b174e4aaa856bb621ff1701a2"
            ]
          }
        },
        "531cfcbbc47a49cbb61cf84efea4bfa1": {
          "model_module": "@jupyter-widgets/base",
          "model_name": "LayoutModel",
          "state": {
            "_view_name": "LayoutView",
            "grid_template_rows": null,
            "right": null,
            "justify_content": null,
            "_view_module": "@jupyter-widgets/base",
            "overflow": null,
            "_model_module_version": "1.2.0",
            "_view_count": null,
            "flex_flow": null,
            "width": null,
            "min_width": null,
            "border": null,
            "align_items": null,
            "bottom": null,
            "_model_module": "@jupyter-widgets/base",
            "top": null,
            "grid_column": null,
            "overflow_y": null,
            "overflow_x": null,
            "grid_auto_flow": null,
            "grid_area": null,
            "grid_template_columns": null,
            "flex": null,
            "_model_name": "LayoutModel",
            "justify_items": null,
            "grid_row": null,
            "max_height": null,
            "align_content": null,
            "visibility": null,
            "align_self": null,
            "height": null,
            "min_height": null,
            "padding": null,
            "grid_auto_rows": null,
            "grid_gap": null,
            "max_width": null,
            "order": null,
            "_view_module_version": "1.2.0",
            "grid_template_areas": null,
            "object_position": null,
            "object_fit": null,
            "grid_auto_columns": null,
            "margin": null,
            "display": null,
            "left": null
          }
        },
        "f1ff9c8e80ee4ce09721b9d105f57f48": {
          "model_module": "@jupyter-widgets/controls",
          "model_name": "FloatProgressModel",
          "state": {
            "_view_name": "ProgressView",
            "style": "IPY_MODEL_3a0c9bfeca3b4b40a6f7a74271863347",
            "_dom_classes": [],
            "description": "100%",
            "_model_name": "FloatProgressModel",
            "bar_style": "success",
            "max": 462,
            "_view_module": "@jupyter-widgets/controls",
            "_model_module_version": "1.5.0",
            "value": 462,
            "_view_count": null,
            "_view_module_version": "1.5.0",
            "orientation": "horizontal",
            "min": 0,
            "description_tooltip": null,
            "_model_module": "@jupyter-widgets/controls",
            "layout": "IPY_MODEL_c69f60ef74e443059bdeca6616fce542"
          }
        },
        "0d3b9f2b174e4aaa856bb621ff1701a2": {
          "model_module": "@jupyter-widgets/controls",
          "model_name": "HTMLModel",
          "state": {
            "_view_name": "HTMLView",
            "style": "IPY_MODEL_e01fe6b860e24fbbbba6d37e6e0e02f1",
            "_dom_classes": [],
            "description": "",
            "_model_name": "HTMLModel",
            "placeholder": "​",
            "_view_module": "@jupyter-widgets/controls",
            "_model_module_version": "1.5.0",
            "value": " 462/462 [00:00&lt;00:00, 2485.66ex/s]",
            "_view_count": null,
            "_view_module_version": "1.5.0",
            "description_tooltip": null,
            "_model_module": "@jupyter-widgets/controls",
            "layout": "IPY_MODEL_cbdb84082a384cd6b27c2d56270cc8db"
          }
        },
        "3a0c9bfeca3b4b40a6f7a74271863347": {
          "model_module": "@jupyter-widgets/controls",
          "model_name": "ProgressStyleModel",
          "state": {
            "_view_name": "StyleView",
            "_model_name": "ProgressStyleModel",
            "description_width": "initial",
            "_view_module": "@jupyter-widgets/base",
            "_model_module_version": "1.5.0",
            "_view_count": null,
            "_view_module_version": "1.2.0",
            "bar_color": null,
            "_model_module": "@jupyter-widgets/controls"
          }
        },
        "c69f60ef74e443059bdeca6616fce542": {
          "model_module": "@jupyter-widgets/base",
          "model_name": "LayoutModel",
          "state": {
            "_view_name": "LayoutView",
            "grid_template_rows": null,
            "right": null,
            "justify_content": null,
            "_view_module": "@jupyter-widgets/base",
            "overflow": null,
            "_model_module_version": "1.2.0",
            "_view_count": null,
            "flex_flow": null,
            "width": null,
            "min_width": null,
            "border": null,
            "align_items": null,
            "bottom": null,
            "_model_module": "@jupyter-widgets/base",
            "top": null,
            "grid_column": null,
            "overflow_y": null,
            "overflow_x": null,
            "grid_auto_flow": null,
            "grid_area": null,
            "grid_template_columns": null,
            "flex": null,
            "_model_name": "LayoutModel",
            "justify_items": null,
            "grid_row": null,
            "max_height": null,
            "align_content": null,
            "visibility": null,
            "align_self": null,
            "height": null,
            "min_height": null,
            "padding": null,
            "grid_auto_rows": null,
            "grid_gap": null,
            "max_width": null,
            "order": null,
            "_view_module_version": "1.2.0",
            "grid_template_areas": null,
            "object_position": null,
            "object_fit": null,
            "grid_auto_columns": null,
            "margin": null,
            "display": null,
            "left": null
          }
        },
        "e01fe6b860e24fbbbba6d37e6e0e02f1": {
          "model_module": "@jupyter-widgets/controls",
          "model_name": "DescriptionStyleModel",
          "state": {
            "_view_name": "StyleView",
            "_model_name": "DescriptionStyleModel",
            "description_width": "",
            "_view_module": "@jupyter-widgets/base",
            "_model_module_version": "1.5.0",
            "_view_count": null,
            "_view_module_version": "1.2.0",
            "_model_module": "@jupyter-widgets/controls"
          }
        },
        "cbdb84082a384cd6b27c2d56270cc8db": {
          "model_module": "@jupyter-widgets/base",
          "model_name": "LayoutModel",
          "state": {
            "_view_name": "LayoutView",
            "grid_template_rows": null,
            "right": null,
            "justify_content": null,
            "_view_module": "@jupyter-widgets/base",
            "overflow": null,
            "_model_module_version": "1.2.0",
            "_view_count": null,
            "flex_flow": null,
            "width": null,
            "min_width": null,
            "border": null,
            "align_items": null,
            "bottom": null,
            "_model_module": "@jupyter-widgets/base",
            "top": null,
            "grid_column": null,
            "overflow_y": null,
            "overflow_x": null,
            "grid_auto_flow": null,
            "grid_area": null,
            "grid_template_columns": null,
            "flex": null,
            "_model_name": "LayoutModel",
            "justify_items": null,
            "grid_row": null,
            "max_height": null,
            "align_content": null,
            "visibility": null,
            "align_self": null,
            "height": null,
            "min_height": null,
            "padding": null,
            "grid_auto_rows": null,
            "grid_gap": null,
            "max_width": null,
            "order": null,
            "_view_module_version": "1.2.0",
            "grid_template_areas": null,
            "object_position": null,
            "object_fit": null,
            "grid_auto_columns": null,
            "margin": null,
            "display": null,
            "left": null
          }
        },
        "85cd388ddf5a4455b09eae043e4f323a": {
          "model_module": "@jupyter-widgets/controls",
          "model_name": "HBoxModel",
          "state": {
            "_view_name": "HBoxView",
            "_dom_classes": [],
            "_model_name": "HBoxModel",
            "_view_module": "@jupyter-widgets/controls",
            "_model_module_version": "1.5.0",
            "_view_count": null,
            "_view_module_version": "1.5.0",
            "box_style": "",
            "layout": "IPY_MODEL_366873bad98348b58efe96ed39a9ce5d",
            "_model_module": "@jupyter-widgets/controls",
            "children": [
              "IPY_MODEL_22f9bbc86ecd456ca144700b3cbd8972",
              "IPY_MODEL_58437d2aa6b54c81b8e05a2007ec5ab8"
            ]
          }
        },
        "366873bad98348b58efe96ed39a9ce5d": {
          "model_module": "@jupyter-widgets/base",
          "model_name": "LayoutModel",
          "state": {
            "_view_name": "LayoutView",
            "grid_template_rows": null,
            "right": null,
            "justify_content": null,
            "_view_module": "@jupyter-widgets/base",
            "overflow": null,
            "_model_module_version": "1.2.0",
            "_view_count": null,
            "flex_flow": null,
            "width": null,
            "min_width": null,
            "border": null,
            "align_items": null,
            "bottom": null,
            "_model_module": "@jupyter-widgets/base",
            "top": null,
            "grid_column": null,
            "overflow_y": null,
            "overflow_x": null,
            "grid_auto_flow": null,
            "grid_area": null,
            "grid_template_columns": null,
            "flex": null,
            "_model_name": "LayoutModel",
            "justify_items": null,
            "grid_row": null,
            "max_height": null,
            "align_content": null,
            "visibility": null,
            "align_self": null,
            "height": null,
            "min_height": null,
            "padding": null,
            "grid_auto_rows": null,
            "grid_gap": null,
            "max_width": null,
            "order": null,
            "_view_module_version": "1.2.0",
            "grid_template_areas": null,
            "object_position": null,
            "object_fit": null,
            "grid_auto_columns": null,
            "margin": null,
            "display": null,
            "left": null
          }
        },
        "22f9bbc86ecd456ca144700b3cbd8972": {
          "model_module": "@jupyter-widgets/controls",
          "model_name": "FloatProgressModel",
          "state": {
            "_view_name": "ProgressView",
            "style": "IPY_MODEL_72baad22d29247cc8dc5092844f0ca67",
            "_dom_classes": [],
            "description": "100%",
            "_model_name": "FloatProgressModel",
            "bar_style": "success",
            "max": 1,
            "_view_module": "@jupyter-widgets/controls",
            "_model_module_version": "1.5.0",
            "value": 1,
            "_view_count": null,
            "_view_module_version": "1.5.0",
            "orientation": "horizontal",
            "min": 0,
            "description_tooltip": null,
            "_model_module": "@jupyter-widgets/controls",
            "layout": "IPY_MODEL_55f6e039bf984e0f8ae065087935fbff"
          }
        },
        "58437d2aa6b54c81b8e05a2007ec5ab8": {
          "model_module": "@jupyter-widgets/controls",
          "model_name": "HTMLModel",
          "state": {
            "_view_name": "HTMLView",
            "style": "IPY_MODEL_1ed250578cd14b8e96335b9a6bf7e2be",
            "_dom_classes": [],
            "description": "",
            "_model_name": "HTMLModel",
            "placeholder": "​",
            "_view_module": "@jupyter-widgets/controls",
            "_model_module_version": "1.5.0",
            "value": " 1/1 [00:00&lt;00:00, 12.28ba/s]",
            "_view_count": null,
            "_view_module_version": "1.5.0",
            "description_tooltip": null,
            "_model_module": "@jupyter-widgets/controls",
            "layout": "IPY_MODEL_a065fe6e24a04c74b8f7756c7b7e1aa0"
          }
        },
        "72baad22d29247cc8dc5092844f0ca67": {
          "model_module": "@jupyter-widgets/controls",
          "model_name": "ProgressStyleModel",
          "state": {
            "_view_name": "StyleView",
            "_model_name": "ProgressStyleModel",
            "description_width": "initial",
            "_view_module": "@jupyter-widgets/base",
            "_model_module_version": "1.5.0",
            "_view_count": null,
            "_view_module_version": "1.2.0",
            "bar_color": null,
            "_model_module": "@jupyter-widgets/controls"
          }
        },
        "55f6e039bf984e0f8ae065087935fbff": {
          "model_module": "@jupyter-widgets/base",
          "model_name": "LayoutModel",
          "state": {
            "_view_name": "LayoutView",
            "grid_template_rows": null,
            "right": null,
            "justify_content": null,
            "_view_module": "@jupyter-widgets/base",
            "overflow": null,
            "_model_module_version": "1.2.0",
            "_view_count": null,
            "flex_flow": null,
            "width": null,
            "min_width": null,
            "border": null,
            "align_items": null,
            "bottom": null,
            "_model_module": "@jupyter-widgets/base",
            "top": null,
            "grid_column": null,
            "overflow_y": null,
            "overflow_x": null,
            "grid_auto_flow": null,
            "grid_area": null,
            "grid_template_columns": null,
            "flex": null,
            "_model_name": "LayoutModel",
            "justify_items": null,
            "grid_row": null,
            "max_height": null,
            "align_content": null,
            "visibility": null,
            "align_self": null,
            "height": null,
            "min_height": null,
            "padding": null,
            "grid_auto_rows": null,
            "grid_gap": null,
            "max_width": null,
            "order": null,
            "_view_module_version": "1.2.0",
            "grid_template_areas": null,
            "object_position": null,
            "object_fit": null,
            "grid_auto_columns": null,
            "margin": null,
            "display": null,
            "left": null
          }
        },
        "1ed250578cd14b8e96335b9a6bf7e2be": {
          "model_module": "@jupyter-widgets/controls",
          "model_name": "DescriptionStyleModel",
          "state": {
            "_view_name": "StyleView",
            "_model_name": "DescriptionStyleModel",
            "description_width": "",
            "_view_module": "@jupyter-widgets/base",
            "_model_module_version": "1.5.0",
            "_view_count": null,
            "_view_module_version": "1.2.0",
            "_model_module": "@jupyter-widgets/controls"
          }
        },
        "a065fe6e24a04c74b8f7756c7b7e1aa0": {
          "model_module": "@jupyter-widgets/base",
          "model_name": "LayoutModel",
          "state": {
            "_view_name": "LayoutView",
            "grid_template_rows": null,
            "right": null,
            "justify_content": null,
            "_view_module": "@jupyter-widgets/base",
            "overflow": null,
            "_model_module_version": "1.2.0",
            "_view_count": null,
            "flex_flow": null,
            "width": null,
            "min_width": null,
            "border": null,
            "align_items": null,
            "bottom": null,
            "_model_module": "@jupyter-widgets/base",
            "top": null,
            "grid_column": null,
            "overflow_y": null,
            "overflow_x": null,
            "grid_auto_flow": null,
            "grid_area": null,
            "grid_template_columns": null,
            "flex": null,
            "_model_name": "LayoutModel",
            "justify_items": null,
            "grid_row": null,
            "max_height": null,
            "align_content": null,
            "visibility": null,
            "align_self": null,
            "height": null,
            "min_height": null,
            "padding": null,
            "grid_auto_rows": null,
            "grid_gap": null,
            "max_width": null,
            "order": null,
            "_view_module_version": "1.2.0",
            "grid_template_areas": null,
            "object_position": null,
            "object_fit": null,
            "grid_auto_columns": null,
            "margin": null,
            "display": null,
            "left": null
          }
        },
        "1032edc8f84a4447a908eaa138a59f4f": {
          "model_module": "@jupyter-widgets/controls",
          "model_name": "HBoxModel",
          "state": {
            "_view_name": "HBoxView",
            "_dom_classes": [],
            "_model_name": "HBoxModel",
            "_view_module": "@jupyter-widgets/controls",
            "_model_module_version": "1.5.0",
            "_view_count": null,
            "_view_module_version": "1.5.0",
            "box_style": "",
            "layout": "IPY_MODEL_213fcebed8ee4aa88def1cb57fb3e1b1",
            "_model_module": "@jupyter-widgets/controls",
            "children": [
              "IPY_MODEL_ac2d1ebcaabc4b8981e59bfde81d13ed",
              "IPY_MODEL_09be5d0aeae74a7bb92bdc10a2557727"
            ]
          }
        },
        "213fcebed8ee4aa88def1cb57fb3e1b1": {
          "model_module": "@jupyter-widgets/base",
          "model_name": "LayoutModel",
          "state": {
            "_view_name": "LayoutView",
            "grid_template_rows": null,
            "right": null,
            "justify_content": null,
            "_view_module": "@jupyter-widgets/base",
            "overflow": null,
            "_model_module_version": "1.2.0",
            "_view_count": null,
            "flex_flow": null,
            "width": null,
            "min_width": null,
            "border": null,
            "align_items": null,
            "bottom": null,
            "_model_module": "@jupyter-widgets/base",
            "top": null,
            "grid_column": null,
            "overflow_y": null,
            "overflow_x": null,
            "grid_auto_flow": null,
            "grid_area": null,
            "grid_template_columns": null,
            "flex": null,
            "_model_name": "LayoutModel",
            "justify_items": null,
            "grid_row": null,
            "max_height": null,
            "align_content": null,
            "visibility": null,
            "align_self": null,
            "height": null,
            "min_height": null,
            "padding": null,
            "grid_auto_rows": null,
            "grid_gap": null,
            "max_width": null,
            "order": null,
            "_view_module_version": "1.2.0",
            "grid_template_areas": null,
            "object_position": null,
            "object_fit": null,
            "grid_auto_columns": null,
            "margin": null,
            "display": null,
            "left": null
          }
        },
        "ac2d1ebcaabc4b8981e59bfde81d13ed": {
          "model_module": "@jupyter-widgets/controls",
          "model_name": "FloatProgressModel",
          "state": {
            "_view_name": "ProgressView",
            "style": "IPY_MODEL_2f6f8ee8d43347818f174a70c2575740",
            "_dom_classes": [],
            "description": "100%",
            "_model_name": "FloatProgressModel",
            "bar_style": "success",
            "max": 1,
            "_view_module": "@jupyter-widgets/controls",
            "_model_module_version": "1.5.0",
            "value": 1,
            "_view_count": null,
            "_view_module_version": "1.5.0",
            "orientation": "horizontal",
            "min": 0,
            "description_tooltip": null,
            "_model_module": "@jupyter-widgets/controls",
            "layout": "IPY_MODEL_792221068fa44973ae714faa66abb9df"
          }
        },
        "09be5d0aeae74a7bb92bdc10a2557727": {
          "model_module": "@jupyter-widgets/controls",
          "model_name": "HTMLModel",
          "state": {
            "_view_name": "HTMLView",
            "style": "IPY_MODEL_e102ae5ecd464ef08b977c4c40615918",
            "_dom_classes": [],
            "description": "",
            "_model_name": "HTMLModel",
            "placeholder": "​",
            "_view_module": "@jupyter-widgets/controls",
            "_model_module_version": "1.5.0",
            "value": " 1/1 [00:00&lt;00:00,  1.82ba/s]",
            "_view_count": null,
            "_view_module_version": "1.5.0",
            "description_tooltip": null,
            "_model_module": "@jupyter-widgets/controls",
            "layout": "IPY_MODEL_3891478d7acf422394d90acbed6ee54e"
          }
        },
        "2f6f8ee8d43347818f174a70c2575740": {
          "model_module": "@jupyter-widgets/controls",
          "model_name": "ProgressStyleModel",
          "state": {
            "_view_name": "StyleView",
            "_model_name": "ProgressStyleModel",
            "description_width": "initial",
            "_view_module": "@jupyter-widgets/base",
            "_model_module_version": "1.5.0",
            "_view_count": null,
            "_view_module_version": "1.2.0",
            "bar_color": null,
            "_model_module": "@jupyter-widgets/controls"
          }
        },
        "792221068fa44973ae714faa66abb9df": {
          "model_module": "@jupyter-widgets/base",
          "model_name": "LayoutModel",
          "state": {
            "_view_name": "LayoutView",
            "grid_template_rows": null,
            "right": null,
            "justify_content": null,
            "_view_module": "@jupyter-widgets/base",
            "overflow": null,
            "_model_module_version": "1.2.0",
            "_view_count": null,
            "flex_flow": null,
            "width": null,
            "min_width": null,
            "border": null,
            "align_items": null,
            "bottom": null,
            "_model_module": "@jupyter-widgets/base",
            "top": null,
            "grid_column": null,
            "overflow_y": null,
            "overflow_x": null,
            "grid_auto_flow": null,
            "grid_area": null,
            "grid_template_columns": null,
            "flex": null,
            "_model_name": "LayoutModel",
            "justify_items": null,
            "grid_row": null,
            "max_height": null,
            "align_content": null,
            "visibility": null,
            "align_self": null,
            "height": null,
            "min_height": null,
            "padding": null,
            "grid_auto_rows": null,
            "grid_gap": null,
            "max_width": null,
            "order": null,
            "_view_module_version": "1.2.0",
            "grid_template_areas": null,
            "object_position": null,
            "object_fit": null,
            "grid_auto_columns": null,
            "margin": null,
            "display": null,
            "left": null
          }
        },
        "e102ae5ecd464ef08b977c4c40615918": {
          "model_module": "@jupyter-widgets/controls",
          "model_name": "DescriptionStyleModel",
          "state": {
            "_view_name": "StyleView",
            "_model_name": "DescriptionStyleModel",
            "description_width": "",
            "_view_module": "@jupyter-widgets/base",
            "_model_module_version": "1.5.0",
            "_view_count": null,
            "_view_module_version": "1.2.0",
            "_model_module": "@jupyter-widgets/controls"
          }
        },
        "3891478d7acf422394d90acbed6ee54e": {
          "model_module": "@jupyter-widgets/base",
          "model_name": "LayoutModel",
          "state": {
            "_view_name": "LayoutView",
            "grid_template_rows": null,
            "right": null,
            "justify_content": null,
            "_view_module": "@jupyter-widgets/base",
            "overflow": null,
            "_model_module_version": "1.2.0",
            "_view_count": null,
            "flex_flow": null,
            "width": null,
            "min_width": null,
            "border": null,
            "align_items": null,
            "bottom": null,
            "_model_module": "@jupyter-widgets/base",
            "top": null,
            "grid_column": null,
            "overflow_y": null,
            "overflow_x": null,
            "grid_auto_flow": null,
            "grid_area": null,
            "grid_template_columns": null,
            "flex": null,
            "_model_name": "LayoutModel",
            "justify_items": null,
            "grid_row": null,
            "max_height": null,
            "align_content": null,
            "visibility": null,
            "align_self": null,
            "height": null,
            "min_height": null,
            "padding": null,
            "grid_auto_rows": null,
            "grid_gap": null,
            "max_width": null,
            "order": null,
            "_view_module_version": "1.2.0",
            "grid_template_areas": null,
            "object_position": null,
            "object_fit": null,
            "grid_auto_columns": null,
            "margin": null,
            "display": null,
            "left": null
          }
        },
        "7b9cfe154ea44918a15d3321cc75073a": {
          "model_module": "@jupyter-widgets/controls",
          "model_name": "HBoxModel",
          "state": {
            "_view_name": "HBoxView",
            "_dom_classes": [],
            "_model_name": "HBoxModel",
            "_view_module": "@jupyter-widgets/controls",
            "_model_module_version": "1.5.0",
            "_view_count": null,
            "_view_module_version": "1.5.0",
            "box_style": "",
            "layout": "IPY_MODEL_890b310985e843e8b9cd014488511abc",
            "_model_module": "@jupyter-widgets/controls",
            "children": [
              "IPY_MODEL_9a051eb67dfa4832afe742d7c03e602f",
              "IPY_MODEL_3d1a45f4606e47228b26e38cbf6f8638"
            ]
          }
        },
        "890b310985e843e8b9cd014488511abc": {
          "model_module": "@jupyter-widgets/base",
          "model_name": "LayoutModel",
          "state": {
            "_view_name": "LayoutView",
            "grid_template_rows": null,
            "right": null,
            "justify_content": null,
            "_view_module": "@jupyter-widgets/base",
            "overflow": null,
            "_model_module_version": "1.2.0",
            "_view_count": null,
            "flex_flow": null,
            "width": null,
            "min_width": null,
            "border": null,
            "align_items": null,
            "bottom": null,
            "_model_module": "@jupyter-widgets/base",
            "top": null,
            "grid_column": null,
            "overflow_y": null,
            "overflow_x": null,
            "grid_auto_flow": null,
            "grid_area": null,
            "grid_template_columns": null,
            "flex": null,
            "_model_name": "LayoutModel",
            "justify_items": null,
            "grid_row": null,
            "max_height": null,
            "align_content": null,
            "visibility": null,
            "align_self": null,
            "height": null,
            "min_height": null,
            "padding": null,
            "grid_auto_rows": null,
            "grid_gap": null,
            "max_width": null,
            "order": null,
            "_view_module_version": "1.2.0",
            "grid_template_areas": null,
            "object_position": null,
            "object_fit": null,
            "grid_auto_columns": null,
            "margin": null,
            "display": null,
            "left": null
          }
        },
        "9a051eb67dfa4832afe742d7c03e602f": {
          "model_module": "@jupyter-widgets/controls",
          "model_name": "FloatProgressModel",
          "state": {
            "_view_name": "ProgressView",
            "style": "IPY_MODEL_2d3853f2e10948a38fb80004f9a96569",
            "_dom_classes": [],
            "description": "100%",
            "_model_name": "FloatProgressModel",
            "bar_style": "success",
            "max": 3410,
            "_view_module": "@jupyter-widgets/controls",
            "_model_module_version": "1.5.0",
            "value": 3410,
            "_view_count": null,
            "_view_module_version": "1.5.0",
            "orientation": "horizontal",
            "min": 0,
            "description_tooltip": null,
            "_model_module": "@jupyter-widgets/controls",
            "layout": "IPY_MODEL_782bed23300c4545a83888a1cea4c7dc"
          }
        },
        "3d1a45f4606e47228b26e38cbf6f8638": {
          "model_module": "@jupyter-widgets/controls",
          "model_name": "HTMLModel",
          "state": {
            "_view_name": "HTMLView",
            "style": "IPY_MODEL_e8a7dd4ce485440da1578c8aa6dd7538",
            "_dom_classes": [],
            "description": "",
            "_model_name": "HTMLModel",
            "placeholder": "​",
            "_view_module": "@jupyter-widgets/controls",
            "_model_module_version": "1.5.0",
            "value": " 3410/3410 [41:17&lt;00:00,  1.38ex/s]",
            "_view_count": null,
            "_view_module_version": "1.5.0",
            "description_tooltip": null,
            "_model_module": "@jupyter-widgets/controls",
            "layout": "IPY_MODEL_73a6f751921b48b98d5b4d71fcd49e6c"
          }
        },
        "2d3853f2e10948a38fb80004f9a96569": {
          "model_module": "@jupyter-widgets/controls",
          "model_name": "ProgressStyleModel",
          "state": {
            "_view_name": "StyleView",
            "_model_name": "ProgressStyleModel",
            "description_width": "initial",
            "_view_module": "@jupyter-widgets/base",
            "_model_module_version": "1.5.0",
            "_view_count": null,
            "_view_module_version": "1.2.0",
            "bar_color": null,
            "_model_module": "@jupyter-widgets/controls"
          }
        },
        "782bed23300c4545a83888a1cea4c7dc": {
          "model_module": "@jupyter-widgets/base",
          "model_name": "LayoutModel",
          "state": {
            "_view_name": "LayoutView",
            "grid_template_rows": null,
            "right": null,
            "justify_content": null,
            "_view_module": "@jupyter-widgets/base",
            "overflow": null,
            "_model_module_version": "1.2.0",
            "_view_count": null,
            "flex_flow": null,
            "width": null,
            "min_width": null,
            "border": null,
            "align_items": null,
            "bottom": null,
            "_model_module": "@jupyter-widgets/base",
            "top": null,
            "grid_column": null,
            "overflow_y": null,
            "overflow_x": null,
            "grid_auto_flow": null,
            "grid_area": null,
            "grid_template_columns": null,
            "flex": null,
            "_model_name": "LayoutModel",
            "justify_items": null,
            "grid_row": null,
            "max_height": null,
            "align_content": null,
            "visibility": null,
            "align_self": null,
            "height": null,
            "min_height": null,
            "padding": null,
            "grid_auto_rows": null,
            "grid_gap": null,
            "max_width": null,
            "order": null,
            "_view_module_version": "1.2.0",
            "grid_template_areas": null,
            "object_position": null,
            "object_fit": null,
            "grid_auto_columns": null,
            "margin": null,
            "display": null,
            "left": null
          }
        },
        "e8a7dd4ce485440da1578c8aa6dd7538": {
          "model_module": "@jupyter-widgets/controls",
          "model_name": "DescriptionStyleModel",
          "state": {
            "_view_name": "StyleView",
            "_model_name": "DescriptionStyleModel",
            "description_width": "",
            "_view_module": "@jupyter-widgets/base",
            "_model_module_version": "1.5.0",
            "_view_count": null,
            "_view_module_version": "1.2.0",
            "_model_module": "@jupyter-widgets/controls"
          }
        },
        "73a6f751921b48b98d5b4d71fcd49e6c": {
          "model_module": "@jupyter-widgets/base",
          "model_name": "LayoutModel",
          "state": {
            "_view_name": "LayoutView",
            "grid_template_rows": null,
            "right": null,
            "justify_content": null,
            "_view_module": "@jupyter-widgets/base",
            "overflow": null,
            "_model_module_version": "1.2.0",
            "_view_count": null,
            "flex_flow": null,
            "width": null,
            "min_width": null,
            "border": null,
            "align_items": null,
            "bottom": null,
            "_model_module": "@jupyter-widgets/base",
            "top": null,
            "grid_column": null,
            "overflow_y": null,
            "overflow_x": null,
            "grid_auto_flow": null,
            "grid_area": null,
            "grid_template_columns": null,
            "flex": null,
            "_model_name": "LayoutModel",
            "justify_items": null,
            "grid_row": null,
            "max_height": null,
            "align_content": null,
            "visibility": null,
            "align_self": null,
            "height": null,
            "min_height": null,
            "padding": null,
            "grid_auto_rows": null,
            "grid_gap": null,
            "max_width": null,
            "order": null,
            "_view_module_version": "1.2.0",
            "grid_template_areas": null,
            "object_position": null,
            "object_fit": null,
            "grid_auto_columns": null,
            "margin": null,
            "display": null,
            "left": null
          }
        },
        "88ab3177ba434d1ea1f2522256fbc407": {
          "model_module": "@jupyter-widgets/controls",
          "model_name": "HBoxModel",
          "state": {
            "_view_name": "HBoxView",
            "_dom_classes": [],
            "_model_name": "HBoxModel",
            "_view_module": "@jupyter-widgets/controls",
            "_model_module_version": "1.5.0",
            "_view_count": null,
            "_view_module_version": "1.5.0",
            "box_style": "",
            "layout": "IPY_MODEL_d84921d633b14a35bafc031516023e02",
            "_model_module": "@jupyter-widgets/controls",
            "children": [
              "IPY_MODEL_cc4d41e209034d0598f03d47b49b89c9",
              "IPY_MODEL_3254dd41388c428b887a547016ae218e"
            ]
          }
        },
        "d84921d633b14a35bafc031516023e02": {
          "model_module": "@jupyter-widgets/base",
          "model_name": "LayoutModel",
          "state": {
            "_view_name": "LayoutView",
            "grid_template_rows": null,
            "right": null,
            "justify_content": null,
            "_view_module": "@jupyter-widgets/base",
            "overflow": null,
            "_model_module_version": "1.2.0",
            "_view_count": null,
            "flex_flow": null,
            "width": null,
            "min_width": null,
            "border": null,
            "align_items": null,
            "bottom": null,
            "_model_module": "@jupyter-widgets/base",
            "top": null,
            "grid_column": null,
            "overflow_y": null,
            "overflow_x": null,
            "grid_auto_flow": null,
            "grid_area": null,
            "grid_template_columns": null,
            "flex": null,
            "_model_name": "LayoutModel",
            "justify_items": null,
            "grid_row": null,
            "max_height": null,
            "align_content": null,
            "visibility": null,
            "align_self": null,
            "height": null,
            "min_height": null,
            "padding": null,
            "grid_auto_rows": null,
            "grid_gap": null,
            "max_width": null,
            "order": null,
            "_view_module_version": "1.2.0",
            "grid_template_areas": null,
            "object_position": null,
            "object_fit": null,
            "grid_auto_columns": null,
            "margin": null,
            "display": null,
            "left": null
          }
        },
        "cc4d41e209034d0598f03d47b49b89c9": {
          "model_module": "@jupyter-widgets/controls",
          "model_name": "FloatProgressModel",
          "state": {
            "_view_name": "ProgressView",
            "style": "IPY_MODEL_ed1d1d475c3340ceb79bfa94c279670a",
            "_dom_classes": [],
            "description": "100%",
            "_model_name": "FloatProgressModel",
            "bar_style": "success",
            "max": 462,
            "_view_module": "@jupyter-widgets/controls",
            "_model_module_version": "1.5.0",
            "value": 462,
            "_view_count": null,
            "_view_module_version": "1.5.0",
            "orientation": "horizontal",
            "min": 0,
            "description_tooltip": null,
            "_model_module": "@jupyter-widgets/controls",
            "layout": "IPY_MODEL_fb69b0fd3ded4e149df18de59f9a78e2"
          }
        },
        "3254dd41388c428b887a547016ae218e": {
          "model_module": "@jupyter-widgets/controls",
          "model_name": "HTMLModel",
          "state": {
            "_view_name": "HTMLView",
            "style": "IPY_MODEL_3b01100325ac47ddad59050e375b44fc",
            "_dom_classes": [],
            "description": "",
            "_model_name": "HTMLModel",
            "placeholder": "​",
            "_view_module": "@jupyter-widgets/controls",
            "_model_module_version": "1.5.0",
            "value": " 462/462 [28:22&lt;00:00,  3.69s/ex]",
            "_view_count": null,
            "_view_module_version": "1.5.0",
            "description_tooltip": null,
            "_model_module": "@jupyter-widgets/controls",
            "layout": "IPY_MODEL_580bb50e9c9e4cd385aeb252450d97d8"
          }
        },
        "ed1d1d475c3340ceb79bfa94c279670a": {
          "model_module": "@jupyter-widgets/controls",
          "model_name": "ProgressStyleModel",
          "state": {
            "_view_name": "StyleView",
            "_model_name": "ProgressStyleModel",
            "description_width": "initial",
            "_view_module": "@jupyter-widgets/base",
            "_model_module_version": "1.5.0",
            "_view_count": null,
            "_view_module_version": "1.2.0",
            "bar_color": null,
            "_model_module": "@jupyter-widgets/controls"
          }
        },
        "fb69b0fd3ded4e149df18de59f9a78e2": {
          "model_module": "@jupyter-widgets/base",
          "model_name": "LayoutModel",
          "state": {
            "_view_name": "LayoutView",
            "grid_template_rows": null,
            "right": null,
            "justify_content": null,
            "_view_module": "@jupyter-widgets/base",
            "overflow": null,
            "_model_module_version": "1.2.0",
            "_view_count": null,
            "flex_flow": null,
            "width": null,
            "min_width": null,
            "border": null,
            "align_items": null,
            "bottom": null,
            "_model_module": "@jupyter-widgets/base",
            "top": null,
            "grid_column": null,
            "overflow_y": null,
            "overflow_x": null,
            "grid_auto_flow": null,
            "grid_area": null,
            "grid_template_columns": null,
            "flex": null,
            "_model_name": "LayoutModel",
            "justify_items": null,
            "grid_row": null,
            "max_height": null,
            "align_content": null,
            "visibility": null,
            "align_self": null,
            "height": null,
            "min_height": null,
            "padding": null,
            "grid_auto_rows": null,
            "grid_gap": null,
            "max_width": null,
            "order": null,
            "_view_module_version": "1.2.0",
            "grid_template_areas": null,
            "object_position": null,
            "object_fit": null,
            "grid_auto_columns": null,
            "margin": null,
            "display": null,
            "left": null
          }
        },
        "3b01100325ac47ddad59050e375b44fc": {
          "model_module": "@jupyter-widgets/controls",
          "model_name": "DescriptionStyleModel",
          "state": {
            "_view_name": "StyleView",
            "_model_name": "DescriptionStyleModel",
            "description_width": "",
            "_view_module": "@jupyter-widgets/base",
            "_model_module_version": "1.5.0",
            "_view_count": null,
            "_view_module_version": "1.2.0",
            "_model_module": "@jupyter-widgets/controls"
          }
        },
        "580bb50e9c9e4cd385aeb252450d97d8": {
          "model_module": "@jupyter-widgets/base",
          "model_name": "LayoutModel",
          "state": {
            "_view_name": "LayoutView",
            "grid_template_rows": null,
            "right": null,
            "justify_content": null,
            "_view_module": "@jupyter-widgets/base",
            "overflow": null,
            "_model_module_version": "1.2.0",
            "_view_count": null,
            "flex_flow": null,
            "width": null,
            "min_width": null,
            "border": null,
            "align_items": null,
            "bottom": null,
            "_model_module": "@jupyter-widgets/base",
            "top": null,
            "grid_column": null,
            "overflow_y": null,
            "overflow_x": null,
            "grid_auto_flow": null,
            "grid_area": null,
            "grid_template_columns": null,
            "flex": null,
            "_model_name": "LayoutModel",
            "justify_items": null,
            "grid_row": null,
            "max_height": null,
            "align_content": null,
            "visibility": null,
            "align_self": null,
            "height": null,
            "min_height": null,
            "padding": null,
            "grid_auto_rows": null,
            "grid_gap": null,
            "max_width": null,
            "order": null,
            "_view_module_version": "1.2.0",
            "grid_template_areas": null,
            "object_position": null,
            "object_fit": null,
            "grid_auto_columns": null,
            "margin": null,
            "display": null,
            "left": null
          }
        },
        "5fa38a47ca2f4188bce8f5af7675fc52": {
          "model_module": "@jupyter-widgets/controls",
          "model_name": "HBoxModel",
          "state": {
            "_view_name": "HBoxView",
            "_dom_classes": [],
            "_model_name": "HBoxModel",
            "_view_module": "@jupyter-widgets/controls",
            "_model_module_version": "1.5.0",
            "_view_count": null,
            "_view_module_version": "1.5.0",
            "box_style": "",
            "layout": "IPY_MODEL_a44d272851b44074b7254767bf5548db",
            "_model_module": "@jupyter-widgets/controls",
            "children": [
              "IPY_MODEL_eb2eb00dd4464e8c8271aa0eb3e82ded",
              "IPY_MODEL_7b2053eb3aa54d04ab6eba49d40b54f5"
            ]
          }
        },
        "a44d272851b44074b7254767bf5548db": {
          "model_module": "@jupyter-widgets/base",
          "model_name": "LayoutModel",
          "state": {
            "_view_name": "LayoutView",
            "grid_template_rows": null,
            "right": null,
            "justify_content": null,
            "_view_module": "@jupyter-widgets/base",
            "overflow": null,
            "_model_module_version": "1.2.0",
            "_view_count": null,
            "flex_flow": null,
            "width": null,
            "min_width": null,
            "border": null,
            "align_items": null,
            "bottom": null,
            "_model_module": "@jupyter-widgets/base",
            "top": null,
            "grid_column": null,
            "overflow_y": null,
            "overflow_x": null,
            "grid_auto_flow": null,
            "grid_area": null,
            "grid_template_columns": null,
            "flex": null,
            "_model_name": "LayoutModel",
            "justify_items": null,
            "grid_row": null,
            "max_height": null,
            "align_content": null,
            "visibility": null,
            "align_self": null,
            "height": null,
            "min_height": null,
            "padding": null,
            "grid_auto_rows": null,
            "grid_gap": null,
            "max_width": null,
            "order": null,
            "_view_module_version": "1.2.0",
            "grid_template_areas": null,
            "object_position": null,
            "object_fit": null,
            "grid_auto_columns": null,
            "margin": null,
            "display": null,
            "left": null
          }
        },
        "eb2eb00dd4464e8c8271aa0eb3e82ded": {
          "model_module": "@jupyter-widgets/controls",
          "model_name": "FloatProgressModel",
          "state": {
            "_view_name": "ProgressView",
            "style": "IPY_MODEL_c3b649354cae45f4a1d2b3f66a4eec7e",
            "_dom_classes": [],
            "description": "100%",
            "_model_name": "FloatProgressModel",
            "bar_style": "success",
            "max": 3410,
            "_view_module": "@jupyter-widgets/controls",
            "_model_module_version": "1.5.0",
            "value": 3410,
            "_view_count": null,
            "_view_module_version": "1.5.0",
            "orientation": "horizontal",
            "min": 0,
            "description_tooltip": null,
            "_model_module": "@jupyter-widgets/controls",
            "layout": "IPY_MODEL_c58e370c89dd4334834941c075bef184"
          }
        },
        "7b2053eb3aa54d04ab6eba49d40b54f5": {
          "model_module": "@jupyter-widgets/controls",
          "model_name": "HTMLModel",
          "state": {
            "_view_name": "HTMLView",
            "style": "IPY_MODEL_2db89b87a8224f73a25fd2e1c27a1f8b",
            "_dom_classes": [],
            "description": "",
            "_model_name": "HTMLModel",
            "placeholder": "​",
            "_view_module": "@jupyter-widgets/controls",
            "_model_module_version": "1.5.0",
            "value": " 3410/3410 [23:33&lt;00:00,  2.41ex/s]",
            "_view_count": null,
            "_view_module_version": "1.5.0",
            "description_tooltip": null,
            "_model_module": "@jupyter-widgets/controls",
            "layout": "IPY_MODEL_4a9c94ddf70440c893a6f2e022936069"
          }
        },
        "c3b649354cae45f4a1d2b3f66a4eec7e": {
          "model_module": "@jupyter-widgets/controls",
          "model_name": "ProgressStyleModel",
          "state": {
            "_view_name": "StyleView",
            "_model_name": "ProgressStyleModel",
            "description_width": "initial",
            "_view_module": "@jupyter-widgets/base",
            "_model_module_version": "1.5.0",
            "_view_count": null,
            "_view_module_version": "1.2.0",
            "bar_color": null,
            "_model_module": "@jupyter-widgets/controls"
          }
        },
        "c58e370c89dd4334834941c075bef184": {
          "model_module": "@jupyter-widgets/base",
          "model_name": "LayoutModel",
          "state": {
            "_view_name": "LayoutView",
            "grid_template_rows": null,
            "right": null,
            "justify_content": null,
            "_view_module": "@jupyter-widgets/base",
            "overflow": null,
            "_model_module_version": "1.2.0",
            "_view_count": null,
            "flex_flow": null,
            "width": null,
            "min_width": null,
            "border": null,
            "align_items": null,
            "bottom": null,
            "_model_module": "@jupyter-widgets/base",
            "top": null,
            "grid_column": null,
            "overflow_y": null,
            "overflow_x": null,
            "grid_auto_flow": null,
            "grid_area": null,
            "grid_template_columns": null,
            "flex": null,
            "_model_name": "LayoutModel",
            "justify_items": null,
            "grid_row": null,
            "max_height": null,
            "align_content": null,
            "visibility": null,
            "align_self": null,
            "height": null,
            "min_height": null,
            "padding": null,
            "grid_auto_rows": null,
            "grid_gap": null,
            "max_width": null,
            "order": null,
            "_view_module_version": "1.2.0",
            "grid_template_areas": null,
            "object_position": null,
            "object_fit": null,
            "grid_auto_columns": null,
            "margin": null,
            "display": null,
            "left": null
          }
        },
        "2db89b87a8224f73a25fd2e1c27a1f8b": {
          "model_module": "@jupyter-widgets/controls",
          "model_name": "DescriptionStyleModel",
          "state": {
            "_view_name": "StyleView",
            "_model_name": "DescriptionStyleModel",
            "description_width": "",
            "_view_module": "@jupyter-widgets/base",
            "_model_module_version": "1.5.0",
            "_view_count": null,
            "_view_module_version": "1.2.0",
            "_model_module": "@jupyter-widgets/controls"
          }
        },
        "4a9c94ddf70440c893a6f2e022936069": {
          "model_module": "@jupyter-widgets/base",
          "model_name": "LayoutModel",
          "state": {
            "_view_name": "LayoutView",
            "grid_template_rows": null,
            "right": null,
            "justify_content": null,
            "_view_module": "@jupyter-widgets/base",
            "overflow": null,
            "_model_module_version": "1.2.0",
            "_view_count": null,
            "flex_flow": null,
            "width": null,
            "min_width": null,
            "border": null,
            "align_items": null,
            "bottom": null,
            "_model_module": "@jupyter-widgets/base",
            "top": null,
            "grid_column": null,
            "overflow_y": null,
            "overflow_x": null,
            "grid_auto_flow": null,
            "grid_area": null,
            "grid_template_columns": null,
            "flex": null,
            "_model_name": "LayoutModel",
            "justify_items": null,
            "grid_row": null,
            "max_height": null,
            "align_content": null,
            "visibility": null,
            "align_self": null,
            "height": null,
            "min_height": null,
            "padding": null,
            "grid_auto_rows": null,
            "grid_gap": null,
            "max_width": null,
            "order": null,
            "_view_module_version": "1.2.0",
            "grid_template_areas": null,
            "object_position": null,
            "object_fit": null,
            "grid_auto_columns": null,
            "margin": null,
            "display": null,
            "left": null
          }
        },
        "bb7cc81b69ab4392b7360b0a1ef12c52": {
          "model_module": "@jupyter-widgets/controls",
          "model_name": "HBoxModel",
          "state": {
            "_view_name": "HBoxView",
            "_dom_classes": [],
            "_model_name": "HBoxModel",
            "_view_module": "@jupyter-widgets/controls",
            "_model_module_version": "1.5.0",
            "_view_count": null,
            "_view_module_version": "1.5.0",
            "box_style": "",
            "layout": "IPY_MODEL_3500f08194bb48efa988c67cafb9bebc",
            "_model_module": "@jupyter-widgets/controls",
            "children": [
              "IPY_MODEL_bb6df7e532a44ab39dbe61f9d8f0a7df",
              "IPY_MODEL_c1ad594a5bbf41d0a92ba1d0f92a8134"
            ]
          }
        },
        "3500f08194bb48efa988c67cafb9bebc": {
          "model_module": "@jupyter-widgets/base",
          "model_name": "LayoutModel",
          "state": {
            "_view_name": "LayoutView",
            "grid_template_rows": null,
            "right": null,
            "justify_content": null,
            "_view_module": "@jupyter-widgets/base",
            "overflow": null,
            "_model_module_version": "1.2.0",
            "_view_count": null,
            "flex_flow": null,
            "width": null,
            "min_width": null,
            "border": null,
            "align_items": null,
            "bottom": null,
            "_model_module": "@jupyter-widgets/base",
            "top": null,
            "grid_column": null,
            "overflow_y": null,
            "overflow_x": null,
            "grid_auto_flow": null,
            "grid_area": null,
            "grid_template_columns": null,
            "flex": null,
            "_model_name": "LayoutModel",
            "justify_items": null,
            "grid_row": null,
            "max_height": null,
            "align_content": null,
            "visibility": null,
            "align_self": null,
            "height": null,
            "min_height": null,
            "padding": null,
            "grid_auto_rows": null,
            "grid_gap": null,
            "max_width": null,
            "order": null,
            "_view_module_version": "1.2.0",
            "grid_template_areas": null,
            "object_position": null,
            "object_fit": null,
            "grid_auto_columns": null,
            "margin": null,
            "display": null,
            "left": null
          }
        },
        "bb6df7e532a44ab39dbe61f9d8f0a7df": {
          "model_module": "@jupyter-widgets/controls",
          "model_name": "FloatProgressModel",
          "state": {
            "_view_name": "ProgressView",
            "style": "IPY_MODEL_28ac18e023c14e42b0c0af018bdf3a85",
            "_dom_classes": [],
            "description": "100%",
            "_model_name": "FloatProgressModel",
            "bar_style": "success",
            "max": 462,
            "_view_module": "@jupyter-widgets/controls",
            "_model_module_version": "1.5.0",
            "value": 462,
            "_view_count": null,
            "_view_module_version": "1.5.0",
            "orientation": "horizontal",
            "min": 0,
            "description_tooltip": null,
            "_model_module": "@jupyter-widgets/controls",
            "layout": "IPY_MODEL_0404205548b54db1be3398fa014adde9"
          }
        },
        "c1ad594a5bbf41d0a92ba1d0f92a8134": {
          "model_module": "@jupyter-widgets/controls",
          "model_name": "HTMLModel",
          "state": {
            "_view_name": "HTMLView",
            "style": "IPY_MODEL_8f0bbc395e7441549f640b1c1603e87d",
            "_dom_classes": [],
            "description": "",
            "_model_name": "HTMLModel",
            "placeholder": "​",
            "_view_module": "@jupyter-widgets/controls",
            "_model_module_version": "1.5.0",
            "value": " 462/462 [05:23&lt;00:00,  1.43ex/s]",
            "_view_count": null,
            "_view_module_version": "1.5.0",
            "description_tooltip": null,
            "_model_module": "@jupyter-widgets/controls",
            "layout": "IPY_MODEL_f6cbd296847f4acfbb24d64109a19157"
          }
        },
        "28ac18e023c14e42b0c0af018bdf3a85": {
          "model_module": "@jupyter-widgets/controls",
          "model_name": "ProgressStyleModel",
          "state": {
            "_view_name": "StyleView",
            "_model_name": "ProgressStyleModel",
            "description_width": "initial",
            "_view_module": "@jupyter-widgets/base",
            "_model_module_version": "1.5.0",
            "_view_count": null,
            "_view_module_version": "1.2.0",
            "bar_color": null,
            "_model_module": "@jupyter-widgets/controls"
          }
        },
        "0404205548b54db1be3398fa014adde9": {
          "model_module": "@jupyter-widgets/base",
          "model_name": "LayoutModel",
          "state": {
            "_view_name": "LayoutView",
            "grid_template_rows": null,
            "right": null,
            "justify_content": null,
            "_view_module": "@jupyter-widgets/base",
            "overflow": null,
            "_model_module_version": "1.2.0",
            "_view_count": null,
            "flex_flow": null,
            "width": null,
            "min_width": null,
            "border": null,
            "align_items": null,
            "bottom": null,
            "_model_module": "@jupyter-widgets/base",
            "top": null,
            "grid_column": null,
            "overflow_y": null,
            "overflow_x": null,
            "grid_auto_flow": null,
            "grid_area": null,
            "grid_template_columns": null,
            "flex": null,
            "_model_name": "LayoutModel",
            "justify_items": null,
            "grid_row": null,
            "max_height": null,
            "align_content": null,
            "visibility": null,
            "align_self": null,
            "height": null,
            "min_height": null,
            "padding": null,
            "grid_auto_rows": null,
            "grid_gap": null,
            "max_width": null,
            "order": null,
            "_view_module_version": "1.2.0",
            "grid_template_areas": null,
            "object_position": null,
            "object_fit": null,
            "grid_auto_columns": null,
            "margin": null,
            "display": null,
            "left": null
          }
        },
        "8f0bbc395e7441549f640b1c1603e87d": {
          "model_module": "@jupyter-widgets/controls",
          "model_name": "DescriptionStyleModel",
          "state": {
            "_view_name": "StyleView",
            "_model_name": "DescriptionStyleModel",
            "description_width": "",
            "_view_module": "@jupyter-widgets/base",
            "_model_module_version": "1.5.0",
            "_view_count": null,
            "_view_module_version": "1.2.0",
            "_model_module": "@jupyter-widgets/controls"
          }
        },
        "f6cbd296847f4acfbb24d64109a19157": {
          "model_module": "@jupyter-widgets/base",
          "model_name": "LayoutModel",
          "state": {
            "_view_name": "LayoutView",
            "grid_template_rows": null,
            "right": null,
            "justify_content": null,
            "_view_module": "@jupyter-widgets/base",
            "overflow": null,
            "_model_module_version": "1.2.0",
            "_view_count": null,
            "flex_flow": null,
            "width": null,
            "min_width": null,
            "border": null,
            "align_items": null,
            "bottom": null,
            "_model_module": "@jupyter-widgets/base",
            "top": null,
            "grid_column": null,
            "overflow_y": null,
            "overflow_x": null,
            "grid_auto_flow": null,
            "grid_area": null,
            "grid_template_columns": null,
            "flex": null,
            "_model_name": "LayoutModel",
            "justify_items": null,
            "grid_row": null,
            "max_height": null,
            "align_content": null,
            "visibility": null,
            "align_self": null,
            "height": null,
            "min_height": null,
            "padding": null,
            "grid_auto_rows": null,
            "grid_gap": null,
            "max_width": null,
            "order": null,
            "_view_module_version": "1.2.0",
            "grid_template_areas": null,
            "object_position": null,
            "object_fit": null,
            "grid_auto_columns": null,
            "margin": null,
            "display": null,
            "left": null
          }
        },
        "609beb0a8b804d88b7e4eb72821ff1e9": {
          "model_module": "@jupyter-widgets/controls",
          "model_name": "HBoxModel",
          "state": {
            "_view_name": "HBoxView",
            "_dom_classes": [],
            "_model_name": "HBoxModel",
            "_view_module": "@jupyter-widgets/controls",
            "_model_module_version": "1.5.0",
            "_view_count": null,
            "_view_module_version": "1.5.0",
            "box_style": "",
            "layout": "IPY_MODEL_1613722548e448f89472aef382ad1d39",
            "_model_module": "@jupyter-widgets/controls",
            "children": [
              "IPY_MODEL_e46425a2fe2b4a44892ccf1f48eb050f",
              "IPY_MODEL_5b301adf81e54c6eae6d5c7e5c7a8654"
            ]
          }
        },
        "1613722548e448f89472aef382ad1d39": {
          "model_module": "@jupyter-widgets/base",
          "model_name": "LayoutModel",
          "state": {
            "_view_name": "LayoutView",
            "grid_template_rows": null,
            "right": null,
            "justify_content": null,
            "_view_module": "@jupyter-widgets/base",
            "overflow": null,
            "_model_module_version": "1.2.0",
            "_view_count": null,
            "flex_flow": null,
            "width": null,
            "min_width": null,
            "border": null,
            "align_items": null,
            "bottom": null,
            "_model_module": "@jupyter-widgets/base",
            "top": null,
            "grid_column": null,
            "overflow_y": null,
            "overflow_x": null,
            "grid_auto_flow": null,
            "grid_area": null,
            "grid_template_columns": null,
            "flex": null,
            "_model_name": "LayoutModel",
            "justify_items": null,
            "grid_row": null,
            "max_height": null,
            "align_content": null,
            "visibility": null,
            "align_self": null,
            "height": null,
            "min_height": null,
            "padding": null,
            "grid_auto_rows": null,
            "grid_gap": null,
            "max_width": null,
            "order": null,
            "_view_module_version": "1.2.0",
            "grid_template_areas": null,
            "object_position": null,
            "object_fit": null,
            "grid_auto_columns": null,
            "margin": null,
            "display": null,
            "left": null
          }
        },
        "e46425a2fe2b4a44892ccf1f48eb050f": {
          "model_module": "@jupyter-widgets/controls",
          "model_name": "FloatProgressModel",
          "state": {
            "_view_name": "ProgressView",
            "style": "IPY_MODEL_65c159b69d464615b359db0b5bfc3f75",
            "_dom_classes": [],
            "description": "#1: 100%",
            "_model_name": "FloatProgressModel",
            "bar_style": "success",
            "max": 107,
            "_view_module": "@jupyter-widgets/controls",
            "_model_module_version": "1.5.0",
            "value": 107,
            "_view_count": null,
            "_view_module_version": "1.5.0",
            "orientation": "horizontal",
            "min": 0,
            "description_tooltip": null,
            "_model_module": "@jupyter-widgets/controls",
            "layout": "IPY_MODEL_c06755f8b0e94d7b8b7f6255e60c8f5c"
          }
        },
        "5b301adf81e54c6eae6d5c7e5c7a8654": {
          "model_module": "@jupyter-widgets/controls",
          "model_name": "HTMLModel",
          "state": {
            "_view_name": "HTMLView",
            "style": "IPY_MODEL_f2c034134ac545e8a25859fec12b8081",
            "_dom_classes": [],
            "description": "",
            "_model_name": "HTMLModel",
            "placeholder": "​",
            "_view_module": "@jupyter-widgets/controls",
            "_model_module_version": "1.5.0",
            "value": " 107/107 [01:22&lt;00:00,  1.29ba/s]",
            "_view_count": null,
            "_view_module_version": "1.5.0",
            "description_tooltip": null,
            "_model_module": "@jupyter-widgets/controls",
            "layout": "IPY_MODEL_310c4a3aa81f45d1b1e64bb48ff2402a"
          }
        },
        "65c159b69d464615b359db0b5bfc3f75": {
          "model_module": "@jupyter-widgets/controls",
          "model_name": "ProgressStyleModel",
          "state": {
            "_view_name": "StyleView",
            "_model_name": "ProgressStyleModel",
            "description_width": "initial",
            "_view_module": "@jupyter-widgets/base",
            "_model_module_version": "1.5.0",
            "_view_count": null,
            "_view_module_version": "1.2.0",
            "bar_color": null,
            "_model_module": "@jupyter-widgets/controls"
          }
        },
        "c06755f8b0e94d7b8b7f6255e60c8f5c": {
          "model_module": "@jupyter-widgets/base",
          "model_name": "LayoutModel",
          "state": {
            "_view_name": "LayoutView",
            "grid_template_rows": null,
            "right": null,
            "justify_content": null,
            "_view_module": "@jupyter-widgets/base",
            "overflow": null,
            "_model_module_version": "1.2.0",
            "_view_count": null,
            "flex_flow": null,
            "width": null,
            "min_width": null,
            "border": null,
            "align_items": null,
            "bottom": null,
            "_model_module": "@jupyter-widgets/base",
            "top": null,
            "grid_column": null,
            "overflow_y": null,
            "overflow_x": null,
            "grid_auto_flow": null,
            "grid_area": null,
            "grid_template_columns": null,
            "flex": null,
            "_model_name": "LayoutModel",
            "justify_items": null,
            "grid_row": null,
            "max_height": null,
            "align_content": null,
            "visibility": null,
            "align_self": null,
            "height": null,
            "min_height": null,
            "padding": null,
            "grid_auto_rows": null,
            "grid_gap": null,
            "max_width": null,
            "order": null,
            "_view_module_version": "1.2.0",
            "grid_template_areas": null,
            "object_position": null,
            "object_fit": null,
            "grid_auto_columns": null,
            "margin": null,
            "display": null,
            "left": null
          }
        },
        "f2c034134ac545e8a25859fec12b8081": {
          "model_module": "@jupyter-widgets/controls",
          "model_name": "DescriptionStyleModel",
          "state": {
            "_view_name": "StyleView",
            "_model_name": "DescriptionStyleModel",
            "description_width": "",
            "_view_module": "@jupyter-widgets/base",
            "_model_module_version": "1.5.0",
            "_view_count": null,
            "_view_module_version": "1.2.0",
            "_model_module": "@jupyter-widgets/controls"
          }
        },
        "310c4a3aa81f45d1b1e64bb48ff2402a": {
          "model_module": "@jupyter-widgets/base",
          "model_name": "LayoutModel",
          "state": {
            "_view_name": "LayoutView",
            "grid_template_rows": null,
            "right": null,
            "justify_content": null,
            "_view_module": "@jupyter-widgets/base",
            "overflow": null,
            "_model_module_version": "1.2.0",
            "_view_count": null,
            "flex_flow": null,
            "width": null,
            "min_width": null,
            "border": null,
            "align_items": null,
            "bottom": null,
            "_model_module": "@jupyter-widgets/base",
            "top": null,
            "grid_column": null,
            "overflow_y": null,
            "overflow_x": null,
            "grid_auto_flow": null,
            "grid_area": null,
            "grid_template_columns": null,
            "flex": null,
            "_model_name": "LayoutModel",
            "justify_items": null,
            "grid_row": null,
            "max_height": null,
            "align_content": null,
            "visibility": null,
            "align_self": null,
            "height": null,
            "min_height": null,
            "padding": null,
            "grid_auto_rows": null,
            "grid_gap": null,
            "max_width": null,
            "order": null,
            "_view_module_version": "1.2.0",
            "grid_template_areas": null,
            "object_position": null,
            "object_fit": null,
            "grid_auto_columns": null,
            "margin": null,
            "display": null,
            "left": null
          }
        },
        "1707dde503f54605ad7cffd1805cfbe8": {
          "model_module": "@jupyter-widgets/controls",
          "model_name": "HBoxModel",
          "state": {
            "_view_name": "HBoxView",
            "_dom_classes": [],
            "_model_name": "HBoxModel",
            "_view_module": "@jupyter-widgets/controls",
            "_model_module_version": "1.5.0",
            "_view_count": null,
            "_view_module_version": "1.5.0",
            "box_style": "",
            "layout": "IPY_MODEL_978503622fa64996a998956a995f49b4",
            "_model_module": "@jupyter-widgets/controls",
            "children": [
              "IPY_MODEL_9ac8ce20ec3747bdab3ca8573acee793",
              "IPY_MODEL_ebe2af219c214ce79d8fc24748863e5d"
            ]
          }
        },
        "978503622fa64996a998956a995f49b4": {
          "model_module": "@jupyter-widgets/base",
          "model_name": "LayoutModel",
          "state": {
            "_view_name": "LayoutView",
            "grid_template_rows": null,
            "right": null,
            "justify_content": null,
            "_view_module": "@jupyter-widgets/base",
            "overflow": null,
            "_model_module_version": "1.2.0",
            "_view_count": null,
            "flex_flow": null,
            "width": null,
            "min_width": null,
            "border": null,
            "align_items": null,
            "bottom": null,
            "_model_module": "@jupyter-widgets/base",
            "top": null,
            "grid_column": null,
            "overflow_y": null,
            "overflow_x": null,
            "grid_auto_flow": null,
            "grid_area": null,
            "grid_template_columns": null,
            "flex": null,
            "_model_name": "LayoutModel",
            "justify_items": null,
            "grid_row": null,
            "max_height": null,
            "align_content": null,
            "visibility": null,
            "align_self": null,
            "height": null,
            "min_height": null,
            "padding": null,
            "grid_auto_rows": null,
            "grid_gap": null,
            "max_width": null,
            "order": null,
            "_view_module_version": "1.2.0",
            "grid_template_areas": null,
            "object_position": null,
            "object_fit": null,
            "grid_auto_columns": null,
            "margin": null,
            "display": null,
            "left": null
          }
        },
        "9ac8ce20ec3747bdab3ca8573acee793": {
          "model_module": "@jupyter-widgets/controls",
          "model_name": "FloatProgressModel",
          "state": {
            "_view_name": "ProgressView",
            "style": "IPY_MODEL_ec33e9c29cac494790142aaa175424d5",
            "_dom_classes": [],
            "description": "#0: 100%",
            "_model_name": "FloatProgressModel",
            "bar_style": "success",
            "max": 107,
            "_view_module": "@jupyter-widgets/controls",
            "_model_module_version": "1.5.0",
            "value": 107,
            "_view_count": null,
            "_view_module_version": "1.5.0",
            "orientation": "horizontal",
            "min": 0,
            "description_tooltip": null,
            "_model_module": "@jupyter-widgets/controls",
            "layout": "IPY_MODEL_c71c9d6f0df5465ca7d2d744f461e376"
          }
        },
        "ebe2af219c214ce79d8fc24748863e5d": {
          "model_module": "@jupyter-widgets/controls",
          "model_name": "HTMLModel",
          "state": {
            "_view_name": "HTMLView",
            "style": "IPY_MODEL_90c3a262ab464845a01624260bc73a4a",
            "_dom_classes": [],
            "description": "",
            "_model_name": "HTMLModel",
            "placeholder": "​",
            "_view_module": "@jupyter-widgets/controls",
            "_model_module_version": "1.5.0",
            "value": " 107/107 [01:28&lt;00:00,  1.21ba/s]",
            "_view_count": null,
            "_view_module_version": "1.5.0",
            "description_tooltip": null,
            "_model_module": "@jupyter-widgets/controls",
            "layout": "IPY_MODEL_65cf3bf7f2224e76b38f60912ec74d50"
          }
        },
        "ec33e9c29cac494790142aaa175424d5": {
          "model_module": "@jupyter-widgets/controls",
          "model_name": "ProgressStyleModel",
          "state": {
            "_view_name": "StyleView",
            "_model_name": "ProgressStyleModel",
            "description_width": "initial",
            "_view_module": "@jupyter-widgets/base",
            "_model_module_version": "1.5.0",
            "_view_count": null,
            "_view_module_version": "1.2.0",
            "bar_color": null,
            "_model_module": "@jupyter-widgets/controls"
          }
        },
        "c71c9d6f0df5465ca7d2d744f461e376": {
          "model_module": "@jupyter-widgets/base",
          "model_name": "LayoutModel",
          "state": {
            "_view_name": "LayoutView",
            "grid_template_rows": null,
            "right": null,
            "justify_content": null,
            "_view_module": "@jupyter-widgets/base",
            "overflow": null,
            "_model_module_version": "1.2.0",
            "_view_count": null,
            "flex_flow": null,
            "width": null,
            "min_width": null,
            "border": null,
            "align_items": null,
            "bottom": null,
            "_model_module": "@jupyter-widgets/base",
            "top": null,
            "grid_column": null,
            "overflow_y": null,
            "overflow_x": null,
            "grid_auto_flow": null,
            "grid_area": null,
            "grid_template_columns": null,
            "flex": null,
            "_model_name": "LayoutModel",
            "justify_items": null,
            "grid_row": null,
            "max_height": null,
            "align_content": null,
            "visibility": null,
            "align_self": null,
            "height": null,
            "min_height": null,
            "padding": null,
            "grid_auto_rows": null,
            "grid_gap": null,
            "max_width": null,
            "order": null,
            "_view_module_version": "1.2.0",
            "grid_template_areas": null,
            "object_position": null,
            "object_fit": null,
            "grid_auto_columns": null,
            "margin": null,
            "display": null,
            "left": null
          }
        },
        "90c3a262ab464845a01624260bc73a4a": {
          "model_module": "@jupyter-widgets/controls",
          "model_name": "DescriptionStyleModel",
          "state": {
            "_view_name": "StyleView",
            "_model_name": "DescriptionStyleModel",
            "description_width": "",
            "_view_module": "@jupyter-widgets/base",
            "_model_module_version": "1.5.0",
            "_view_count": null,
            "_view_module_version": "1.2.0",
            "_model_module": "@jupyter-widgets/controls"
          }
        },
        "65cf3bf7f2224e76b38f60912ec74d50": {
          "model_module": "@jupyter-widgets/base",
          "model_name": "LayoutModel",
          "state": {
            "_view_name": "LayoutView",
            "grid_template_rows": null,
            "right": null,
            "justify_content": null,
            "_view_module": "@jupyter-widgets/base",
            "overflow": null,
            "_model_module_version": "1.2.0",
            "_view_count": null,
            "flex_flow": null,
            "width": null,
            "min_width": null,
            "border": null,
            "align_items": null,
            "bottom": null,
            "_model_module": "@jupyter-widgets/base",
            "top": null,
            "grid_column": null,
            "overflow_y": null,
            "overflow_x": null,
            "grid_auto_flow": null,
            "grid_area": null,
            "grid_template_columns": null,
            "flex": null,
            "_model_name": "LayoutModel",
            "justify_items": null,
            "grid_row": null,
            "max_height": null,
            "align_content": null,
            "visibility": null,
            "align_self": null,
            "height": null,
            "min_height": null,
            "padding": null,
            "grid_auto_rows": null,
            "grid_gap": null,
            "max_width": null,
            "order": null,
            "_view_module_version": "1.2.0",
            "grid_template_areas": null,
            "object_position": null,
            "object_fit": null,
            "grid_auto_columns": null,
            "margin": null,
            "display": null,
            "left": null
          }
        },
        "440456953aae4f61baa359e6bf174a1f": {
          "model_module": "@jupyter-widgets/controls",
          "model_name": "HBoxModel",
          "state": {
            "_view_name": "HBoxView",
            "_dom_classes": [],
            "_model_name": "HBoxModel",
            "_view_module": "@jupyter-widgets/controls",
            "_model_module_version": "1.5.0",
            "_view_count": null,
            "_view_module_version": "1.5.0",
            "box_style": "",
            "layout": "IPY_MODEL_8762a0eeeed744e0bb03446caf8ffa58",
            "_model_module": "@jupyter-widgets/controls",
            "children": [
              "IPY_MODEL_99cd5540084f458ab1f16cb3a489d18a",
              "IPY_MODEL_94a6184f64214dbe859a9f6384c4af4a"
            ]
          }
        },
        "8762a0eeeed744e0bb03446caf8ffa58": {
          "model_module": "@jupyter-widgets/base",
          "model_name": "LayoutModel",
          "state": {
            "_view_name": "LayoutView",
            "grid_template_rows": null,
            "right": null,
            "justify_content": null,
            "_view_module": "@jupyter-widgets/base",
            "overflow": null,
            "_model_module_version": "1.2.0",
            "_view_count": null,
            "flex_flow": null,
            "width": null,
            "min_width": null,
            "border": null,
            "align_items": null,
            "bottom": null,
            "_model_module": "@jupyter-widgets/base",
            "top": null,
            "grid_column": null,
            "overflow_y": null,
            "overflow_x": null,
            "grid_auto_flow": null,
            "grid_area": null,
            "grid_template_columns": null,
            "flex": null,
            "_model_name": "LayoutModel",
            "justify_items": null,
            "grid_row": null,
            "max_height": null,
            "align_content": null,
            "visibility": null,
            "align_self": null,
            "height": null,
            "min_height": null,
            "padding": null,
            "grid_auto_rows": null,
            "grid_gap": null,
            "max_width": null,
            "order": null,
            "_view_module_version": "1.2.0",
            "grid_template_areas": null,
            "object_position": null,
            "object_fit": null,
            "grid_auto_columns": null,
            "margin": null,
            "display": null,
            "left": null
          }
        },
        "99cd5540084f458ab1f16cb3a489d18a": {
          "model_module": "@jupyter-widgets/controls",
          "model_name": "FloatProgressModel",
          "state": {
            "_view_name": "ProgressView",
            "style": "IPY_MODEL_1ccb291a470f4c688da3d99d5f08d3a8",
            "_dom_classes": [],
            "description": "#3: 100%",
            "_model_name": "FloatProgressModel",
            "bar_style": "success",
            "max": 107,
            "_view_module": "@jupyter-widgets/controls",
            "_model_module_version": "1.5.0",
            "value": 107,
            "_view_count": null,
            "_view_module_version": "1.5.0",
            "orientation": "horizontal",
            "min": 0,
            "description_tooltip": null,
            "_model_module": "@jupyter-widgets/controls",
            "layout": "IPY_MODEL_4e0d974752a04e1ca85768e1d45a65eb"
          }
        },
        "94a6184f64214dbe859a9f6384c4af4a": {
          "model_module": "@jupyter-widgets/controls",
          "model_name": "HTMLModel",
          "state": {
            "_view_name": "HTMLView",
            "style": "IPY_MODEL_1f0e9bcac6e24c0698f635d4d378b90a",
            "_dom_classes": [],
            "description": "",
            "_model_name": "HTMLModel",
            "placeholder": "​",
            "_view_module": "@jupyter-widgets/controls",
            "_model_module_version": "1.5.0",
            "value": " 107/107 [01:18&lt;00:00,  1.36ba/s]",
            "_view_count": null,
            "_view_module_version": "1.5.0",
            "description_tooltip": null,
            "_model_module": "@jupyter-widgets/controls",
            "layout": "IPY_MODEL_f97109f00b1143a8b787926b78ab4547"
          }
        },
        "1ccb291a470f4c688da3d99d5f08d3a8": {
          "model_module": "@jupyter-widgets/controls",
          "model_name": "ProgressStyleModel",
          "state": {
            "_view_name": "StyleView",
            "_model_name": "ProgressStyleModel",
            "description_width": "initial",
            "_view_module": "@jupyter-widgets/base",
            "_model_module_version": "1.5.0",
            "_view_count": null,
            "_view_module_version": "1.2.0",
            "bar_color": null,
            "_model_module": "@jupyter-widgets/controls"
          }
        },
        "4e0d974752a04e1ca85768e1d45a65eb": {
          "model_module": "@jupyter-widgets/base",
          "model_name": "LayoutModel",
          "state": {
            "_view_name": "LayoutView",
            "grid_template_rows": null,
            "right": null,
            "justify_content": null,
            "_view_module": "@jupyter-widgets/base",
            "overflow": null,
            "_model_module_version": "1.2.0",
            "_view_count": null,
            "flex_flow": null,
            "width": null,
            "min_width": null,
            "border": null,
            "align_items": null,
            "bottom": null,
            "_model_module": "@jupyter-widgets/base",
            "top": null,
            "grid_column": null,
            "overflow_y": null,
            "overflow_x": null,
            "grid_auto_flow": null,
            "grid_area": null,
            "grid_template_columns": null,
            "flex": null,
            "_model_name": "LayoutModel",
            "justify_items": null,
            "grid_row": null,
            "max_height": null,
            "align_content": null,
            "visibility": null,
            "align_self": null,
            "height": null,
            "min_height": null,
            "padding": null,
            "grid_auto_rows": null,
            "grid_gap": null,
            "max_width": null,
            "order": null,
            "_view_module_version": "1.2.0",
            "grid_template_areas": null,
            "object_position": null,
            "object_fit": null,
            "grid_auto_columns": null,
            "margin": null,
            "display": null,
            "left": null
          }
        },
        "1f0e9bcac6e24c0698f635d4d378b90a": {
          "model_module": "@jupyter-widgets/controls",
          "model_name": "DescriptionStyleModel",
          "state": {
            "_view_name": "StyleView",
            "_model_name": "DescriptionStyleModel",
            "description_width": "",
            "_view_module": "@jupyter-widgets/base",
            "_model_module_version": "1.5.0",
            "_view_count": null,
            "_view_module_version": "1.2.0",
            "_model_module": "@jupyter-widgets/controls"
          }
        },
        "f97109f00b1143a8b787926b78ab4547": {
          "model_module": "@jupyter-widgets/base",
          "model_name": "LayoutModel",
          "state": {
            "_view_name": "LayoutView",
            "grid_template_rows": null,
            "right": null,
            "justify_content": null,
            "_view_module": "@jupyter-widgets/base",
            "overflow": null,
            "_model_module_version": "1.2.0",
            "_view_count": null,
            "flex_flow": null,
            "width": null,
            "min_width": null,
            "border": null,
            "align_items": null,
            "bottom": null,
            "_model_module": "@jupyter-widgets/base",
            "top": null,
            "grid_column": null,
            "overflow_y": null,
            "overflow_x": null,
            "grid_auto_flow": null,
            "grid_area": null,
            "grid_template_columns": null,
            "flex": null,
            "_model_name": "LayoutModel",
            "justify_items": null,
            "grid_row": null,
            "max_height": null,
            "align_content": null,
            "visibility": null,
            "align_self": null,
            "height": null,
            "min_height": null,
            "padding": null,
            "grid_auto_rows": null,
            "grid_gap": null,
            "max_width": null,
            "order": null,
            "_view_module_version": "1.2.0",
            "grid_template_areas": null,
            "object_position": null,
            "object_fit": null,
            "grid_auto_columns": null,
            "margin": null,
            "display": null,
            "left": null
          }
        },
        "821281442c1c4fd096afadb100948fa8": {
          "model_module": "@jupyter-widgets/controls",
          "model_name": "HBoxModel",
          "state": {
            "_view_name": "HBoxView",
            "_dom_classes": [],
            "_model_name": "HBoxModel",
            "_view_module": "@jupyter-widgets/controls",
            "_model_module_version": "1.5.0",
            "_view_count": null,
            "_view_module_version": "1.5.0",
            "box_style": "",
            "layout": "IPY_MODEL_1883db2f1d5446e1af64124905007037",
            "_model_module": "@jupyter-widgets/controls",
            "children": [
              "IPY_MODEL_0fa6e53200874bf888d7090ff5825f1b",
              "IPY_MODEL_25225b66ce7e42e98af6e9498210acb0"
            ]
          }
        },
        "1883db2f1d5446e1af64124905007037": {
          "model_module": "@jupyter-widgets/base",
          "model_name": "LayoutModel",
          "state": {
            "_view_name": "LayoutView",
            "grid_template_rows": null,
            "right": null,
            "justify_content": null,
            "_view_module": "@jupyter-widgets/base",
            "overflow": null,
            "_model_module_version": "1.2.0",
            "_view_count": null,
            "flex_flow": null,
            "width": null,
            "min_width": null,
            "border": null,
            "align_items": null,
            "bottom": null,
            "_model_module": "@jupyter-widgets/base",
            "top": null,
            "grid_column": null,
            "overflow_y": null,
            "overflow_x": null,
            "grid_auto_flow": null,
            "grid_area": null,
            "grid_template_columns": null,
            "flex": null,
            "_model_name": "LayoutModel",
            "justify_items": null,
            "grid_row": null,
            "max_height": null,
            "align_content": null,
            "visibility": null,
            "align_self": null,
            "height": null,
            "min_height": null,
            "padding": null,
            "grid_auto_rows": null,
            "grid_gap": null,
            "max_width": null,
            "order": null,
            "_view_module_version": "1.2.0",
            "grid_template_areas": null,
            "object_position": null,
            "object_fit": null,
            "grid_auto_columns": null,
            "margin": null,
            "display": null,
            "left": null
          }
        },
        "0fa6e53200874bf888d7090ff5825f1b": {
          "model_module": "@jupyter-widgets/controls",
          "model_name": "FloatProgressModel",
          "state": {
            "_view_name": "ProgressView",
            "style": "IPY_MODEL_229f8e4e6da74a9cb5e4209ce94fdd01",
            "_dom_classes": [],
            "description": "#2: 100%",
            "_model_name": "FloatProgressModel",
            "bar_style": "success",
            "max": 107,
            "_view_module": "@jupyter-widgets/controls",
            "_model_module_version": "1.5.0",
            "value": 107,
            "_view_count": null,
            "_view_module_version": "1.5.0",
            "orientation": "horizontal",
            "min": 0,
            "description_tooltip": null,
            "_model_module": "@jupyter-widgets/controls",
            "layout": "IPY_MODEL_95c78d466ef7404eae108d6fb565f4e1"
          }
        },
        "25225b66ce7e42e98af6e9498210acb0": {
          "model_module": "@jupyter-widgets/controls",
          "model_name": "HTMLModel",
          "state": {
            "_view_name": "HTMLView",
            "style": "IPY_MODEL_b156acca80c7441391cee4fdf58c1a4f",
            "_dom_classes": [],
            "description": "",
            "_model_name": "HTMLModel",
            "placeholder": "​",
            "_view_module": "@jupyter-widgets/controls",
            "_model_module_version": "1.5.0",
            "value": " 107/107 [01:14&lt;00:00,  1.43ba/s]",
            "_view_count": null,
            "_view_module_version": "1.5.0",
            "description_tooltip": null,
            "_model_module": "@jupyter-widgets/controls",
            "layout": "IPY_MODEL_d868b0cbc7514900af6ccce1af2a21f0"
          }
        },
        "229f8e4e6da74a9cb5e4209ce94fdd01": {
          "model_module": "@jupyter-widgets/controls",
          "model_name": "ProgressStyleModel",
          "state": {
            "_view_name": "StyleView",
            "_model_name": "ProgressStyleModel",
            "description_width": "initial",
            "_view_module": "@jupyter-widgets/base",
            "_model_module_version": "1.5.0",
            "_view_count": null,
            "_view_module_version": "1.2.0",
            "bar_color": null,
            "_model_module": "@jupyter-widgets/controls"
          }
        },
        "95c78d466ef7404eae108d6fb565f4e1": {
          "model_module": "@jupyter-widgets/base",
          "model_name": "LayoutModel",
          "state": {
            "_view_name": "LayoutView",
            "grid_template_rows": null,
            "right": null,
            "justify_content": null,
            "_view_module": "@jupyter-widgets/base",
            "overflow": null,
            "_model_module_version": "1.2.0",
            "_view_count": null,
            "flex_flow": null,
            "width": null,
            "min_width": null,
            "border": null,
            "align_items": null,
            "bottom": null,
            "_model_module": "@jupyter-widgets/base",
            "top": null,
            "grid_column": null,
            "overflow_y": null,
            "overflow_x": null,
            "grid_auto_flow": null,
            "grid_area": null,
            "grid_template_columns": null,
            "flex": null,
            "_model_name": "LayoutModel",
            "justify_items": null,
            "grid_row": null,
            "max_height": null,
            "align_content": null,
            "visibility": null,
            "align_self": null,
            "height": null,
            "min_height": null,
            "padding": null,
            "grid_auto_rows": null,
            "grid_gap": null,
            "max_width": null,
            "order": null,
            "_view_module_version": "1.2.0",
            "grid_template_areas": null,
            "object_position": null,
            "object_fit": null,
            "grid_auto_columns": null,
            "margin": null,
            "display": null,
            "left": null
          }
        },
        "b156acca80c7441391cee4fdf58c1a4f": {
          "model_module": "@jupyter-widgets/controls",
          "model_name": "DescriptionStyleModel",
          "state": {
            "_view_name": "StyleView",
            "_model_name": "DescriptionStyleModel",
            "description_width": "",
            "_view_module": "@jupyter-widgets/base",
            "_model_module_version": "1.5.0",
            "_view_count": null,
            "_view_module_version": "1.2.0",
            "_model_module": "@jupyter-widgets/controls"
          }
        },
        "d868b0cbc7514900af6ccce1af2a21f0": {
          "model_module": "@jupyter-widgets/base",
          "model_name": "LayoutModel",
          "state": {
            "_view_name": "LayoutView",
            "grid_template_rows": null,
            "right": null,
            "justify_content": null,
            "_view_module": "@jupyter-widgets/base",
            "overflow": null,
            "_model_module_version": "1.2.0",
            "_view_count": null,
            "flex_flow": null,
            "width": null,
            "min_width": null,
            "border": null,
            "align_items": null,
            "bottom": null,
            "_model_module": "@jupyter-widgets/base",
            "top": null,
            "grid_column": null,
            "overflow_y": null,
            "overflow_x": null,
            "grid_auto_flow": null,
            "grid_area": null,
            "grid_template_columns": null,
            "flex": null,
            "_model_name": "LayoutModel",
            "justify_items": null,
            "grid_row": null,
            "max_height": null,
            "align_content": null,
            "visibility": null,
            "align_self": null,
            "height": null,
            "min_height": null,
            "padding": null,
            "grid_auto_rows": null,
            "grid_gap": null,
            "max_width": null,
            "order": null,
            "_view_module_version": "1.2.0",
            "grid_template_areas": null,
            "object_position": null,
            "object_fit": null,
            "grid_auto_columns": null,
            "margin": null,
            "display": null,
            "left": null
          }
        },
        "1de291500559476f9814c7158bed83c9": {
          "model_module": "@jupyter-widgets/controls",
          "model_name": "HBoxModel",
          "state": {
            "_view_name": "HBoxView",
            "_dom_classes": [],
            "_model_name": "HBoxModel",
            "_view_module": "@jupyter-widgets/controls",
            "_model_module_version": "1.5.0",
            "_view_count": null,
            "_view_module_version": "1.5.0",
            "box_style": "",
            "layout": "IPY_MODEL_b96331255a974b43a1744c6e12feb9ef",
            "_model_module": "@jupyter-widgets/controls",
            "children": [
              "IPY_MODEL_55fdb9c207f340159386e531e42b27a2",
              "IPY_MODEL_ab4fa5e321f0451ea5fd14bd32032a45"
            ]
          }
        },
        "b96331255a974b43a1744c6e12feb9ef": {
          "model_module": "@jupyter-widgets/base",
          "model_name": "LayoutModel",
          "state": {
            "_view_name": "LayoutView",
            "grid_template_rows": null,
            "right": null,
            "justify_content": null,
            "_view_module": "@jupyter-widgets/base",
            "overflow": null,
            "_model_module_version": "1.2.0",
            "_view_count": null,
            "flex_flow": null,
            "width": null,
            "min_width": null,
            "border": null,
            "align_items": null,
            "bottom": null,
            "_model_module": "@jupyter-widgets/base",
            "top": null,
            "grid_column": null,
            "overflow_y": null,
            "overflow_x": null,
            "grid_auto_flow": null,
            "grid_area": null,
            "grid_template_columns": null,
            "flex": null,
            "_model_name": "LayoutModel",
            "justify_items": null,
            "grid_row": null,
            "max_height": null,
            "align_content": null,
            "visibility": null,
            "align_self": null,
            "height": null,
            "min_height": null,
            "padding": null,
            "grid_auto_rows": null,
            "grid_gap": null,
            "max_width": null,
            "order": null,
            "_view_module_version": "1.2.0",
            "grid_template_areas": null,
            "object_position": null,
            "object_fit": null,
            "grid_auto_columns": null,
            "margin": null,
            "display": null,
            "left": null
          }
        },
        "55fdb9c207f340159386e531e42b27a2": {
          "model_module": "@jupyter-widgets/controls",
          "model_name": "FloatProgressModel",
          "state": {
            "_view_name": "ProgressView",
            "style": "IPY_MODEL_dd23704fe04b4572908e024ccc8b34c8",
            "_dom_classes": [],
            "description": "#1: 100%",
            "_model_name": "FloatProgressModel",
            "bar_style": "success",
            "max": 15,
            "_view_module": "@jupyter-widgets/controls",
            "_model_module_version": "1.5.0",
            "value": 15,
            "_view_count": null,
            "_view_module_version": "1.5.0",
            "orientation": "horizontal",
            "min": 0,
            "description_tooltip": null,
            "_model_module": "@jupyter-widgets/controls",
            "layout": "IPY_MODEL_4137e2e588854cc092fc66e72f1a991c"
          }
        },
        "ab4fa5e321f0451ea5fd14bd32032a45": {
          "model_module": "@jupyter-widgets/controls",
          "model_name": "HTMLModel",
          "state": {
            "_view_name": "HTMLView",
            "style": "IPY_MODEL_56fb97e34e1d4c0d88df3bb1bfbc0de8",
            "_dom_classes": [],
            "description": "",
            "_model_name": "HTMLModel",
            "placeholder": "​",
            "_view_module": "@jupyter-widgets/controls",
            "_model_module_version": "1.5.0",
            "value": " 15/15 [00:14&lt;00:00,  1.04ba/s]",
            "_view_count": null,
            "_view_module_version": "1.5.0",
            "description_tooltip": null,
            "_model_module": "@jupyter-widgets/controls",
            "layout": "IPY_MODEL_937f42e2be2a4bac8fd3c0ee4c34f77e"
          }
        },
        "dd23704fe04b4572908e024ccc8b34c8": {
          "model_module": "@jupyter-widgets/controls",
          "model_name": "ProgressStyleModel",
          "state": {
            "_view_name": "StyleView",
            "_model_name": "ProgressStyleModel",
            "description_width": "initial",
            "_view_module": "@jupyter-widgets/base",
            "_model_module_version": "1.5.0",
            "_view_count": null,
            "_view_module_version": "1.2.0",
            "bar_color": null,
            "_model_module": "@jupyter-widgets/controls"
          }
        },
        "4137e2e588854cc092fc66e72f1a991c": {
          "model_module": "@jupyter-widgets/base",
          "model_name": "LayoutModel",
          "state": {
            "_view_name": "LayoutView",
            "grid_template_rows": null,
            "right": null,
            "justify_content": null,
            "_view_module": "@jupyter-widgets/base",
            "overflow": null,
            "_model_module_version": "1.2.0",
            "_view_count": null,
            "flex_flow": null,
            "width": null,
            "min_width": null,
            "border": null,
            "align_items": null,
            "bottom": null,
            "_model_module": "@jupyter-widgets/base",
            "top": null,
            "grid_column": null,
            "overflow_y": null,
            "overflow_x": null,
            "grid_auto_flow": null,
            "grid_area": null,
            "grid_template_columns": null,
            "flex": null,
            "_model_name": "LayoutModel",
            "justify_items": null,
            "grid_row": null,
            "max_height": null,
            "align_content": null,
            "visibility": null,
            "align_self": null,
            "height": null,
            "min_height": null,
            "padding": null,
            "grid_auto_rows": null,
            "grid_gap": null,
            "max_width": null,
            "order": null,
            "_view_module_version": "1.2.0",
            "grid_template_areas": null,
            "object_position": null,
            "object_fit": null,
            "grid_auto_columns": null,
            "margin": null,
            "display": null,
            "left": null
          }
        },
        "56fb97e34e1d4c0d88df3bb1bfbc0de8": {
          "model_module": "@jupyter-widgets/controls",
          "model_name": "DescriptionStyleModel",
          "state": {
            "_view_name": "StyleView",
            "_model_name": "DescriptionStyleModel",
            "description_width": "",
            "_view_module": "@jupyter-widgets/base",
            "_model_module_version": "1.5.0",
            "_view_count": null,
            "_view_module_version": "1.2.0",
            "_model_module": "@jupyter-widgets/controls"
          }
        },
        "937f42e2be2a4bac8fd3c0ee4c34f77e": {
          "model_module": "@jupyter-widgets/base",
          "model_name": "LayoutModel",
          "state": {
            "_view_name": "LayoutView",
            "grid_template_rows": null,
            "right": null,
            "justify_content": null,
            "_view_module": "@jupyter-widgets/base",
            "overflow": null,
            "_model_module_version": "1.2.0",
            "_view_count": null,
            "flex_flow": null,
            "width": null,
            "min_width": null,
            "border": null,
            "align_items": null,
            "bottom": null,
            "_model_module": "@jupyter-widgets/base",
            "top": null,
            "grid_column": null,
            "overflow_y": null,
            "overflow_x": null,
            "grid_auto_flow": null,
            "grid_area": null,
            "grid_template_columns": null,
            "flex": null,
            "_model_name": "LayoutModel",
            "justify_items": null,
            "grid_row": null,
            "max_height": null,
            "align_content": null,
            "visibility": null,
            "align_self": null,
            "height": null,
            "min_height": null,
            "padding": null,
            "grid_auto_rows": null,
            "grid_gap": null,
            "max_width": null,
            "order": null,
            "_view_module_version": "1.2.0",
            "grid_template_areas": null,
            "object_position": null,
            "object_fit": null,
            "grid_auto_columns": null,
            "margin": null,
            "display": null,
            "left": null
          }
        },
        "69c1c5708c5d450aacf4dda1129051b2": {
          "model_module": "@jupyter-widgets/controls",
          "model_name": "HBoxModel",
          "state": {
            "_view_name": "HBoxView",
            "_dom_classes": [],
            "_model_name": "HBoxModel",
            "_view_module": "@jupyter-widgets/controls",
            "_model_module_version": "1.5.0",
            "_view_count": null,
            "_view_module_version": "1.5.0",
            "box_style": "",
            "layout": "IPY_MODEL_64c5c044e1ca4816a73964b29c9b5368",
            "_model_module": "@jupyter-widgets/controls",
            "children": [
              "IPY_MODEL_d2370927d4ad4fbb83666f9a5476ef8f",
              "IPY_MODEL_e7a1fc64132749de93cf41bb6db8c82e"
            ]
          }
        },
        "64c5c044e1ca4816a73964b29c9b5368": {
          "model_module": "@jupyter-widgets/base",
          "model_name": "LayoutModel",
          "state": {
            "_view_name": "LayoutView",
            "grid_template_rows": null,
            "right": null,
            "justify_content": null,
            "_view_module": "@jupyter-widgets/base",
            "overflow": null,
            "_model_module_version": "1.2.0",
            "_view_count": null,
            "flex_flow": null,
            "width": null,
            "min_width": null,
            "border": null,
            "align_items": null,
            "bottom": null,
            "_model_module": "@jupyter-widgets/base",
            "top": null,
            "grid_column": null,
            "overflow_y": null,
            "overflow_x": null,
            "grid_auto_flow": null,
            "grid_area": null,
            "grid_template_columns": null,
            "flex": null,
            "_model_name": "LayoutModel",
            "justify_items": null,
            "grid_row": null,
            "max_height": null,
            "align_content": null,
            "visibility": null,
            "align_self": null,
            "height": null,
            "min_height": null,
            "padding": null,
            "grid_auto_rows": null,
            "grid_gap": null,
            "max_width": null,
            "order": null,
            "_view_module_version": "1.2.0",
            "grid_template_areas": null,
            "object_position": null,
            "object_fit": null,
            "grid_auto_columns": null,
            "margin": null,
            "display": null,
            "left": null
          }
        },
        "d2370927d4ad4fbb83666f9a5476ef8f": {
          "model_module": "@jupyter-widgets/controls",
          "model_name": "FloatProgressModel",
          "state": {
            "_view_name": "ProgressView",
            "style": "IPY_MODEL_8f759217bcb9427b8fd7f0bbd14dd1f4",
            "_dom_classes": [],
            "description": "#2: 100%",
            "_model_name": "FloatProgressModel",
            "bar_style": "success",
            "max": 15,
            "_view_module": "@jupyter-widgets/controls",
            "_model_module_version": "1.5.0",
            "value": 15,
            "_view_count": null,
            "_view_module_version": "1.5.0",
            "orientation": "horizontal",
            "min": 0,
            "description_tooltip": null,
            "_model_module": "@jupyter-widgets/controls",
            "layout": "IPY_MODEL_08fbae08c8874ee89ec6908957534d88"
          }
        },
        "e7a1fc64132749de93cf41bb6db8c82e": {
          "model_module": "@jupyter-widgets/controls",
          "model_name": "HTMLModel",
          "state": {
            "_view_name": "HTMLView",
            "style": "IPY_MODEL_e7655f85e26540e08e748265b5209196",
            "_dom_classes": [],
            "description": "",
            "_model_name": "HTMLModel",
            "placeholder": "​",
            "_view_module": "@jupyter-widgets/controls",
            "_model_module_version": "1.5.0",
            "value": " 15/15 [00:12&lt;00:00,  1.15ba/s]",
            "_view_count": null,
            "_view_module_version": "1.5.0",
            "description_tooltip": null,
            "_model_module": "@jupyter-widgets/controls",
            "layout": "IPY_MODEL_65f414554fa54ce99c4b50615ae77ce4"
          }
        },
        "8f759217bcb9427b8fd7f0bbd14dd1f4": {
          "model_module": "@jupyter-widgets/controls",
          "model_name": "ProgressStyleModel",
          "state": {
            "_view_name": "StyleView",
            "_model_name": "ProgressStyleModel",
            "description_width": "initial",
            "_view_module": "@jupyter-widgets/base",
            "_model_module_version": "1.5.0",
            "_view_count": null,
            "_view_module_version": "1.2.0",
            "bar_color": null,
            "_model_module": "@jupyter-widgets/controls"
          }
        },
        "08fbae08c8874ee89ec6908957534d88": {
          "model_module": "@jupyter-widgets/base",
          "model_name": "LayoutModel",
          "state": {
            "_view_name": "LayoutView",
            "grid_template_rows": null,
            "right": null,
            "justify_content": null,
            "_view_module": "@jupyter-widgets/base",
            "overflow": null,
            "_model_module_version": "1.2.0",
            "_view_count": null,
            "flex_flow": null,
            "width": null,
            "min_width": null,
            "border": null,
            "align_items": null,
            "bottom": null,
            "_model_module": "@jupyter-widgets/base",
            "top": null,
            "grid_column": null,
            "overflow_y": null,
            "overflow_x": null,
            "grid_auto_flow": null,
            "grid_area": null,
            "grid_template_columns": null,
            "flex": null,
            "_model_name": "LayoutModel",
            "justify_items": null,
            "grid_row": null,
            "max_height": null,
            "align_content": null,
            "visibility": null,
            "align_self": null,
            "height": null,
            "min_height": null,
            "padding": null,
            "grid_auto_rows": null,
            "grid_gap": null,
            "max_width": null,
            "order": null,
            "_view_module_version": "1.2.0",
            "grid_template_areas": null,
            "object_position": null,
            "object_fit": null,
            "grid_auto_columns": null,
            "margin": null,
            "display": null,
            "left": null
          }
        },
        "e7655f85e26540e08e748265b5209196": {
          "model_module": "@jupyter-widgets/controls",
          "model_name": "DescriptionStyleModel",
          "state": {
            "_view_name": "StyleView",
            "_model_name": "DescriptionStyleModel",
            "description_width": "",
            "_view_module": "@jupyter-widgets/base",
            "_model_module_version": "1.5.0",
            "_view_count": null,
            "_view_module_version": "1.2.0",
            "_model_module": "@jupyter-widgets/controls"
          }
        },
        "65f414554fa54ce99c4b50615ae77ce4": {
          "model_module": "@jupyter-widgets/base",
          "model_name": "LayoutModel",
          "state": {
            "_view_name": "LayoutView",
            "grid_template_rows": null,
            "right": null,
            "justify_content": null,
            "_view_module": "@jupyter-widgets/base",
            "overflow": null,
            "_model_module_version": "1.2.0",
            "_view_count": null,
            "flex_flow": null,
            "width": null,
            "min_width": null,
            "border": null,
            "align_items": null,
            "bottom": null,
            "_model_module": "@jupyter-widgets/base",
            "top": null,
            "grid_column": null,
            "overflow_y": null,
            "overflow_x": null,
            "grid_auto_flow": null,
            "grid_area": null,
            "grid_template_columns": null,
            "flex": null,
            "_model_name": "LayoutModel",
            "justify_items": null,
            "grid_row": null,
            "max_height": null,
            "align_content": null,
            "visibility": null,
            "align_self": null,
            "height": null,
            "min_height": null,
            "padding": null,
            "grid_auto_rows": null,
            "grid_gap": null,
            "max_width": null,
            "order": null,
            "_view_module_version": "1.2.0",
            "grid_template_areas": null,
            "object_position": null,
            "object_fit": null,
            "grid_auto_columns": null,
            "margin": null,
            "display": null,
            "left": null
          }
        },
        "a833ee02db7e464eabf5b898dfab3a3e": {
          "model_module": "@jupyter-widgets/controls",
          "model_name": "HBoxModel",
          "state": {
            "_view_name": "HBoxView",
            "_dom_classes": [],
            "_model_name": "HBoxModel",
            "_view_module": "@jupyter-widgets/controls",
            "_model_module_version": "1.5.0",
            "_view_count": null,
            "_view_module_version": "1.5.0",
            "box_style": "",
            "layout": "IPY_MODEL_c78318acb027440396bcf4863d8954aa",
            "_model_module": "@jupyter-widgets/controls",
            "children": [
              "IPY_MODEL_e2d39ad510b84006a477a72869d6247f",
              "IPY_MODEL_9f2ba34344a6481f8cfd72a768b4fcb9"
            ]
          }
        },
        "c78318acb027440396bcf4863d8954aa": {
          "model_module": "@jupyter-widgets/base",
          "model_name": "LayoutModel",
          "state": {
            "_view_name": "LayoutView",
            "grid_template_rows": null,
            "right": null,
            "justify_content": null,
            "_view_module": "@jupyter-widgets/base",
            "overflow": null,
            "_model_module_version": "1.2.0",
            "_view_count": null,
            "flex_flow": null,
            "width": null,
            "min_width": null,
            "border": null,
            "align_items": null,
            "bottom": null,
            "_model_module": "@jupyter-widgets/base",
            "top": null,
            "grid_column": null,
            "overflow_y": null,
            "overflow_x": null,
            "grid_auto_flow": null,
            "grid_area": null,
            "grid_template_columns": null,
            "flex": null,
            "_model_name": "LayoutModel",
            "justify_items": null,
            "grid_row": null,
            "max_height": null,
            "align_content": null,
            "visibility": null,
            "align_self": null,
            "height": null,
            "min_height": null,
            "padding": null,
            "grid_auto_rows": null,
            "grid_gap": null,
            "max_width": null,
            "order": null,
            "_view_module_version": "1.2.0",
            "grid_template_areas": null,
            "object_position": null,
            "object_fit": null,
            "grid_auto_columns": null,
            "margin": null,
            "display": null,
            "left": null
          }
        },
        "e2d39ad510b84006a477a72869d6247f": {
          "model_module": "@jupyter-widgets/controls",
          "model_name": "FloatProgressModel",
          "state": {
            "_view_name": "ProgressView",
            "style": "IPY_MODEL_e12d00e875bc4a4cac96f5ec892731a2",
            "_dom_classes": [],
            "description": "#0: 100%",
            "_model_name": "FloatProgressModel",
            "bar_style": "success",
            "max": 15,
            "_view_module": "@jupyter-widgets/controls",
            "_model_module_version": "1.5.0",
            "value": 15,
            "_view_count": null,
            "_view_module_version": "1.5.0",
            "orientation": "horizontal",
            "min": 0,
            "description_tooltip": null,
            "_model_module": "@jupyter-widgets/controls",
            "layout": "IPY_MODEL_7fd7565e9e124dbcb67e9ddab6f2c480"
          }
        },
        "9f2ba34344a6481f8cfd72a768b4fcb9": {
          "model_module": "@jupyter-widgets/controls",
          "model_name": "HTMLModel",
          "state": {
            "_view_name": "HTMLView",
            "style": "IPY_MODEL_c6519ceb475b4e6bbf9d851f8980831e",
            "_dom_classes": [],
            "description": "",
            "_model_name": "HTMLModel",
            "placeholder": "​",
            "_view_module": "@jupyter-widgets/controls",
            "_model_module_version": "1.5.0",
            "value": " 15/15 [00:12&lt;00:00,  1.23ba/s]",
            "_view_count": null,
            "_view_module_version": "1.5.0",
            "description_tooltip": null,
            "_model_module": "@jupyter-widgets/controls",
            "layout": "IPY_MODEL_c55db597a8d6446088e56f330bb2c409"
          }
        },
        "e12d00e875bc4a4cac96f5ec892731a2": {
          "model_module": "@jupyter-widgets/controls",
          "model_name": "ProgressStyleModel",
          "state": {
            "_view_name": "StyleView",
            "_model_name": "ProgressStyleModel",
            "description_width": "initial",
            "_view_module": "@jupyter-widgets/base",
            "_model_module_version": "1.5.0",
            "_view_count": null,
            "_view_module_version": "1.2.0",
            "bar_color": null,
            "_model_module": "@jupyter-widgets/controls"
          }
        },
        "7fd7565e9e124dbcb67e9ddab6f2c480": {
          "model_module": "@jupyter-widgets/base",
          "model_name": "LayoutModel",
          "state": {
            "_view_name": "LayoutView",
            "grid_template_rows": null,
            "right": null,
            "justify_content": null,
            "_view_module": "@jupyter-widgets/base",
            "overflow": null,
            "_model_module_version": "1.2.0",
            "_view_count": null,
            "flex_flow": null,
            "width": null,
            "min_width": null,
            "border": null,
            "align_items": null,
            "bottom": null,
            "_model_module": "@jupyter-widgets/base",
            "top": null,
            "grid_column": null,
            "overflow_y": null,
            "overflow_x": null,
            "grid_auto_flow": null,
            "grid_area": null,
            "grid_template_columns": null,
            "flex": null,
            "_model_name": "LayoutModel",
            "justify_items": null,
            "grid_row": null,
            "max_height": null,
            "align_content": null,
            "visibility": null,
            "align_self": null,
            "height": null,
            "min_height": null,
            "padding": null,
            "grid_auto_rows": null,
            "grid_gap": null,
            "max_width": null,
            "order": null,
            "_view_module_version": "1.2.0",
            "grid_template_areas": null,
            "object_position": null,
            "object_fit": null,
            "grid_auto_columns": null,
            "margin": null,
            "display": null,
            "left": null
          }
        },
        "c6519ceb475b4e6bbf9d851f8980831e": {
          "model_module": "@jupyter-widgets/controls",
          "model_name": "DescriptionStyleModel",
          "state": {
            "_view_name": "StyleView",
            "_model_name": "DescriptionStyleModel",
            "description_width": "",
            "_view_module": "@jupyter-widgets/base",
            "_model_module_version": "1.5.0",
            "_view_count": null,
            "_view_module_version": "1.2.0",
            "_model_module": "@jupyter-widgets/controls"
          }
        },
        "c55db597a8d6446088e56f330bb2c409": {
          "model_module": "@jupyter-widgets/base",
          "model_name": "LayoutModel",
          "state": {
            "_view_name": "LayoutView",
            "grid_template_rows": null,
            "right": null,
            "justify_content": null,
            "_view_module": "@jupyter-widgets/base",
            "overflow": null,
            "_model_module_version": "1.2.0",
            "_view_count": null,
            "flex_flow": null,
            "width": null,
            "min_width": null,
            "border": null,
            "align_items": null,
            "bottom": null,
            "_model_module": "@jupyter-widgets/base",
            "top": null,
            "grid_column": null,
            "overflow_y": null,
            "overflow_x": null,
            "grid_auto_flow": null,
            "grid_area": null,
            "grid_template_columns": null,
            "flex": null,
            "_model_name": "LayoutModel",
            "justify_items": null,
            "grid_row": null,
            "max_height": null,
            "align_content": null,
            "visibility": null,
            "align_self": null,
            "height": null,
            "min_height": null,
            "padding": null,
            "grid_auto_rows": null,
            "grid_gap": null,
            "max_width": null,
            "order": null,
            "_view_module_version": "1.2.0",
            "grid_template_areas": null,
            "object_position": null,
            "object_fit": null,
            "grid_auto_columns": null,
            "margin": null,
            "display": null,
            "left": null
          }
        },
        "30f47be4375f4ca3b2e32773f9f25735": {
          "model_module": "@jupyter-widgets/controls",
          "model_name": "HBoxModel",
          "state": {
            "_view_name": "HBoxView",
            "_dom_classes": [],
            "_model_name": "HBoxModel",
            "_view_module": "@jupyter-widgets/controls",
            "_model_module_version": "1.5.0",
            "_view_count": null,
            "_view_module_version": "1.5.0",
            "box_style": "",
            "layout": "IPY_MODEL_986d509da83840b9a9bc2cd1a60355eb",
            "_model_module": "@jupyter-widgets/controls",
            "children": [
              "IPY_MODEL_d444e1485ee7428688d6f65283139c05",
              "IPY_MODEL_44f005b45bf7444faaa5d64db7ff26d0"
            ]
          }
        },
        "986d509da83840b9a9bc2cd1a60355eb": {
          "model_module": "@jupyter-widgets/base",
          "model_name": "LayoutModel",
          "state": {
            "_view_name": "LayoutView",
            "grid_template_rows": null,
            "right": null,
            "justify_content": null,
            "_view_module": "@jupyter-widgets/base",
            "overflow": null,
            "_model_module_version": "1.2.0",
            "_view_count": null,
            "flex_flow": null,
            "width": null,
            "min_width": null,
            "border": null,
            "align_items": null,
            "bottom": null,
            "_model_module": "@jupyter-widgets/base",
            "top": null,
            "grid_column": null,
            "overflow_y": null,
            "overflow_x": null,
            "grid_auto_flow": null,
            "grid_area": null,
            "grid_template_columns": null,
            "flex": null,
            "_model_name": "LayoutModel",
            "justify_items": null,
            "grid_row": null,
            "max_height": null,
            "align_content": null,
            "visibility": null,
            "align_self": null,
            "height": null,
            "min_height": null,
            "padding": null,
            "grid_auto_rows": null,
            "grid_gap": null,
            "max_width": null,
            "order": null,
            "_view_module_version": "1.2.0",
            "grid_template_areas": null,
            "object_position": null,
            "object_fit": null,
            "grid_auto_columns": null,
            "margin": null,
            "display": null,
            "left": null
          }
        },
        "d444e1485ee7428688d6f65283139c05": {
          "model_module": "@jupyter-widgets/controls",
          "model_name": "FloatProgressModel",
          "state": {
            "_view_name": "ProgressView",
            "style": "IPY_MODEL_8cdb8aa6d97e4108b5300fa3589a0f52",
            "_dom_classes": [],
            "description": "#3: 100%",
            "_model_name": "FloatProgressModel",
            "bar_style": "success",
            "max": 15,
            "_view_module": "@jupyter-widgets/controls",
            "_model_module_version": "1.5.0",
            "value": 15,
            "_view_count": null,
            "_view_module_version": "1.5.0",
            "orientation": "horizontal",
            "min": 0,
            "description_tooltip": null,
            "_model_module": "@jupyter-widgets/controls",
            "layout": "IPY_MODEL_8a274ae8affb41cc892006f8a9eb2f8c"
          }
        },
        "44f005b45bf7444faaa5d64db7ff26d0": {
          "model_module": "@jupyter-widgets/controls",
          "model_name": "HTMLModel",
          "state": {
            "_view_name": "HTMLView",
            "style": "IPY_MODEL_85140aba74474a8daad10c74bcc37aca",
            "_dom_classes": [],
            "description": "",
            "_model_name": "HTMLModel",
            "placeholder": "​",
            "_view_module": "@jupyter-widgets/controls",
            "_model_module_version": "1.5.0",
            "value": " 15/15 [00:11&lt;00:00,  1.27ba/s]",
            "_view_count": null,
            "_view_module_version": "1.5.0",
            "description_tooltip": null,
            "_model_module": "@jupyter-widgets/controls",
            "layout": "IPY_MODEL_11a6c59b86c649719912ed1c9256a7ef"
          }
        },
        "8cdb8aa6d97e4108b5300fa3589a0f52": {
          "model_module": "@jupyter-widgets/controls",
          "model_name": "ProgressStyleModel",
          "state": {
            "_view_name": "StyleView",
            "_model_name": "ProgressStyleModel",
            "description_width": "initial",
            "_view_module": "@jupyter-widgets/base",
            "_model_module_version": "1.5.0",
            "_view_count": null,
            "_view_module_version": "1.2.0",
            "bar_color": null,
            "_model_module": "@jupyter-widgets/controls"
          }
        },
        "8a274ae8affb41cc892006f8a9eb2f8c": {
          "model_module": "@jupyter-widgets/base",
          "model_name": "LayoutModel",
          "state": {
            "_view_name": "LayoutView",
            "grid_template_rows": null,
            "right": null,
            "justify_content": null,
            "_view_module": "@jupyter-widgets/base",
            "overflow": null,
            "_model_module_version": "1.2.0",
            "_view_count": null,
            "flex_flow": null,
            "width": null,
            "min_width": null,
            "border": null,
            "align_items": null,
            "bottom": null,
            "_model_module": "@jupyter-widgets/base",
            "top": null,
            "grid_column": null,
            "overflow_y": null,
            "overflow_x": null,
            "grid_auto_flow": null,
            "grid_area": null,
            "grid_template_columns": null,
            "flex": null,
            "_model_name": "LayoutModel",
            "justify_items": null,
            "grid_row": null,
            "max_height": null,
            "align_content": null,
            "visibility": null,
            "align_self": null,
            "height": null,
            "min_height": null,
            "padding": null,
            "grid_auto_rows": null,
            "grid_gap": null,
            "max_width": null,
            "order": null,
            "_view_module_version": "1.2.0",
            "grid_template_areas": null,
            "object_position": null,
            "object_fit": null,
            "grid_auto_columns": null,
            "margin": null,
            "display": null,
            "left": null
          }
        },
        "85140aba74474a8daad10c74bcc37aca": {
          "model_module": "@jupyter-widgets/controls",
          "model_name": "DescriptionStyleModel",
          "state": {
            "_view_name": "StyleView",
            "_model_name": "DescriptionStyleModel",
            "description_width": "",
            "_view_module": "@jupyter-widgets/base",
            "_model_module_version": "1.5.0",
            "_view_count": null,
            "_view_module_version": "1.2.0",
            "_model_module": "@jupyter-widgets/controls"
          }
        },
        "11a6c59b86c649719912ed1c9256a7ef": {
          "model_module": "@jupyter-widgets/base",
          "model_name": "LayoutModel",
          "state": {
            "_view_name": "LayoutView",
            "grid_template_rows": null,
            "right": null,
            "justify_content": null,
            "_view_module": "@jupyter-widgets/base",
            "overflow": null,
            "_model_module_version": "1.2.0",
            "_view_count": null,
            "flex_flow": null,
            "width": null,
            "min_width": null,
            "border": null,
            "align_items": null,
            "bottom": null,
            "_model_module": "@jupyter-widgets/base",
            "top": null,
            "grid_column": null,
            "overflow_y": null,
            "overflow_x": null,
            "grid_auto_flow": null,
            "grid_area": null,
            "grid_template_columns": null,
            "flex": null,
            "_model_name": "LayoutModel",
            "justify_items": null,
            "grid_row": null,
            "max_height": null,
            "align_content": null,
            "visibility": null,
            "align_self": null,
            "height": null,
            "min_height": null,
            "padding": null,
            "grid_auto_rows": null,
            "grid_gap": null,
            "max_width": null,
            "order": null,
            "_view_module_version": "1.2.0",
            "grid_template_areas": null,
            "object_position": null,
            "object_fit": null,
            "grid_auto_columns": null,
            "margin": null,
            "display": null,
            "left": null
          }
        },
        "83417d2cda1f4b7b90c46681d3224f98": {
          "model_module": "@jupyter-widgets/controls",
          "model_name": "HBoxModel",
          "state": {
            "_view_name": "HBoxView",
            "_dom_classes": [],
            "_model_name": "HBoxModel",
            "_view_module": "@jupyter-widgets/controls",
            "_model_module_version": "1.5.0",
            "_view_count": null,
            "_view_module_version": "1.5.0",
            "box_style": "",
            "layout": "IPY_MODEL_6bed12d59ff44504ba641c48f67c4169",
            "_model_module": "@jupyter-widgets/controls",
            "children": [
              "IPY_MODEL_bc890492fffc4cea974c842eb0a9fc94",
              "IPY_MODEL_7bae51f4e3ab4ad3ad208005ffc4a35c"
            ]
          }
        },
        "6bed12d59ff44504ba641c48f67c4169": {
          "model_module": "@jupyter-widgets/base",
          "model_name": "LayoutModel",
          "state": {
            "_view_name": "LayoutView",
            "grid_template_rows": null,
            "right": null,
            "justify_content": null,
            "_view_module": "@jupyter-widgets/base",
            "overflow": null,
            "_model_module_version": "1.2.0",
            "_view_count": null,
            "flex_flow": null,
            "width": null,
            "min_width": null,
            "border": null,
            "align_items": null,
            "bottom": null,
            "_model_module": "@jupyter-widgets/base",
            "top": null,
            "grid_column": null,
            "overflow_y": null,
            "overflow_x": null,
            "grid_auto_flow": null,
            "grid_area": null,
            "grid_template_columns": null,
            "flex": null,
            "_model_name": "LayoutModel",
            "justify_items": null,
            "grid_row": null,
            "max_height": null,
            "align_content": null,
            "visibility": null,
            "align_self": null,
            "height": null,
            "min_height": null,
            "padding": null,
            "grid_auto_rows": null,
            "grid_gap": null,
            "max_width": null,
            "order": null,
            "_view_module_version": "1.2.0",
            "grid_template_areas": null,
            "object_position": null,
            "object_fit": null,
            "grid_auto_columns": null,
            "margin": null,
            "display": null,
            "left": null
          }
        },
        "bc890492fffc4cea974c842eb0a9fc94": {
          "model_module": "@jupyter-widgets/controls",
          "model_name": "FloatProgressModel",
          "state": {
            "_view_name": "ProgressView",
            "style": "IPY_MODEL_a6e5bf198dac4c06896d3c4a4b4cfd01",
            "_dom_classes": [],
            "description": "Downloading: ",
            "_model_name": "FloatProgressModel",
            "bar_style": "success",
            "max": 1764,
            "_view_module": "@jupyter-widgets/controls",
            "_model_module_version": "1.5.0",
            "value": 1764,
            "_view_count": null,
            "_view_module_version": "1.5.0",
            "orientation": "horizontal",
            "min": 0,
            "description_tooltip": null,
            "_model_module": "@jupyter-widgets/controls",
            "layout": "IPY_MODEL_ab1bc006374a4fe38225359d37e48d6d"
          }
        },
        "7bae51f4e3ab4ad3ad208005ffc4a35c": {
          "model_module": "@jupyter-widgets/controls",
          "model_name": "HTMLModel",
          "state": {
            "_view_name": "HTMLView",
            "style": "IPY_MODEL_c6700a0c273c41a0856a95fc68da19c8",
            "_dom_classes": [],
            "description": "",
            "_model_name": "HTMLModel",
            "placeholder": "​",
            "_view_module": "@jupyter-widgets/controls",
            "_model_module_version": "1.5.0",
            "value": " 3.90k/? [00:00&lt;00:00, 5.28kB/s]",
            "_view_count": null,
            "_view_module_version": "1.5.0",
            "description_tooltip": null,
            "_model_module": "@jupyter-widgets/controls",
            "layout": "IPY_MODEL_00c9fc25cb4743178ba33e829452070a"
          }
        },
        "a6e5bf198dac4c06896d3c4a4b4cfd01": {
          "model_module": "@jupyter-widgets/controls",
          "model_name": "ProgressStyleModel",
          "state": {
            "_view_name": "StyleView",
            "_model_name": "ProgressStyleModel",
            "description_width": "initial",
            "_view_module": "@jupyter-widgets/base",
            "_model_module_version": "1.5.0",
            "_view_count": null,
            "_view_module_version": "1.2.0",
            "bar_color": null,
            "_model_module": "@jupyter-widgets/controls"
          }
        },
        "ab1bc006374a4fe38225359d37e48d6d": {
          "model_module": "@jupyter-widgets/base",
          "model_name": "LayoutModel",
          "state": {
            "_view_name": "LayoutView",
            "grid_template_rows": null,
            "right": null,
            "justify_content": null,
            "_view_module": "@jupyter-widgets/base",
            "overflow": null,
            "_model_module_version": "1.2.0",
            "_view_count": null,
            "flex_flow": null,
            "width": null,
            "min_width": null,
            "border": null,
            "align_items": null,
            "bottom": null,
            "_model_module": "@jupyter-widgets/base",
            "top": null,
            "grid_column": null,
            "overflow_y": null,
            "overflow_x": null,
            "grid_auto_flow": null,
            "grid_area": null,
            "grid_template_columns": null,
            "flex": null,
            "_model_name": "LayoutModel",
            "justify_items": null,
            "grid_row": null,
            "max_height": null,
            "align_content": null,
            "visibility": null,
            "align_self": null,
            "height": null,
            "min_height": null,
            "padding": null,
            "grid_auto_rows": null,
            "grid_gap": null,
            "max_width": null,
            "order": null,
            "_view_module_version": "1.2.0",
            "grid_template_areas": null,
            "object_position": null,
            "object_fit": null,
            "grid_auto_columns": null,
            "margin": null,
            "display": null,
            "left": null
          }
        },
        "c6700a0c273c41a0856a95fc68da19c8": {
          "model_module": "@jupyter-widgets/controls",
          "model_name": "DescriptionStyleModel",
          "state": {
            "_view_name": "StyleView",
            "_model_name": "DescriptionStyleModel",
            "description_width": "",
            "_view_module": "@jupyter-widgets/base",
            "_model_module_version": "1.5.0",
            "_view_count": null,
            "_view_module_version": "1.2.0",
            "_model_module": "@jupyter-widgets/controls"
          }
        },
        "00c9fc25cb4743178ba33e829452070a": {
          "model_module": "@jupyter-widgets/base",
          "model_name": "LayoutModel",
          "state": {
            "_view_name": "LayoutView",
            "grid_template_rows": null,
            "right": null,
            "justify_content": null,
            "_view_module": "@jupyter-widgets/base",
            "overflow": null,
            "_model_module_version": "1.2.0",
            "_view_count": null,
            "flex_flow": null,
            "width": null,
            "min_width": null,
            "border": null,
            "align_items": null,
            "bottom": null,
            "_model_module": "@jupyter-widgets/base",
            "top": null,
            "grid_column": null,
            "overflow_y": null,
            "overflow_x": null,
            "grid_auto_flow": null,
            "grid_area": null,
            "grid_template_columns": null,
            "flex": null,
            "_model_name": "LayoutModel",
            "justify_items": null,
            "grid_row": null,
            "max_height": null,
            "align_content": null,
            "visibility": null,
            "align_self": null,
            "height": null,
            "min_height": null,
            "padding": null,
            "grid_auto_rows": null,
            "grid_gap": null,
            "max_width": null,
            "order": null,
            "_view_module_version": "1.2.0",
            "grid_template_areas": null,
            "object_position": null,
            "object_fit": null,
            "grid_auto_columns": null,
            "margin": null,
            "display": null,
            "left": null
          }
        },
        "5cd8f189a4094e8fbc50f00deb3fbbd8": {
          "model_module": "@jupyter-widgets/controls",
          "model_name": "HBoxModel",
          "state": {
            "_view_name": "HBoxView",
            "_dom_classes": [],
            "_model_name": "HBoxModel",
            "_view_module": "@jupyter-widgets/controls",
            "_model_module_version": "1.5.0",
            "_view_count": null,
            "_view_module_version": "1.5.0",
            "box_style": "",
            "layout": "IPY_MODEL_d69e8dc050004634896782602d62eab7",
            "_model_module": "@jupyter-widgets/controls",
            "children": [
              "IPY_MODEL_dde813fc853940109b69a134e4008638",
              "IPY_MODEL_d5c2993b1c0144299d6e2338f7324c94"
            ]
          }
        },
        "d69e8dc050004634896782602d62eab7": {
          "model_module": "@jupyter-widgets/base",
          "model_name": "LayoutModel",
          "state": {
            "_view_name": "LayoutView",
            "grid_template_rows": null,
            "right": null,
            "justify_content": null,
            "_view_module": "@jupyter-widgets/base",
            "overflow": null,
            "_model_module_version": "1.2.0",
            "_view_count": null,
            "flex_flow": null,
            "width": null,
            "min_width": null,
            "border": null,
            "align_items": null,
            "bottom": null,
            "_model_module": "@jupyter-widgets/base",
            "top": null,
            "grid_column": null,
            "overflow_y": null,
            "overflow_x": null,
            "grid_auto_flow": null,
            "grid_area": null,
            "grid_template_columns": null,
            "flex": null,
            "_model_name": "LayoutModel",
            "justify_items": null,
            "grid_row": null,
            "max_height": null,
            "align_content": null,
            "visibility": null,
            "align_self": null,
            "height": null,
            "min_height": null,
            "padding": null,
            "grid_auto_rows": null,
            "grid_gap": null,
            "max_width": null,
            "order": null,
            "_view_module_version": "1.2.0",
            "grid_template_areas": null,
            "object_position": null,
            "object_fit": null,
            "grid_auto_columns": null,
            "margin": null,
            "display": null,
            "left": null
          }
        },
        "dde813fc853940109b69a134e4008638": {
          "model_module": "@jupyter-widgets/controls",
          "model_name": "FloatProgressModel",
          "state": {
            "_view_name": "ProgressView",
            "style": "IPY_MODEL_eaad1e8d37a34785adb3ca3936b20ac9",
            "_dom_classes": [],
            "description": "Downloading: 100%",
            "_model_name": "FloatProgressModel",
            "bar_style": "success",
            "max": 1451,
            "_view_module": "@jupyter-widgets/controls",
            "_model_module_version": "1.5.0",
            "value": 1451,
            "_view_count": null,
            "_view_module_version": "1.5.0",
            "orientation": "horizontal",
            "min": 0,
            "description_tooltip": null,
            "_model_module": "@jupyter-widgets/controls",
            "layout": "IPY_MODEL_131261909b074fa9b42c1d60a0b9e857"
          }
        },
        "d5c2993b1c0144299d6e2338f7324c94": {
          "model_module": "@jupyter-widgets/controls",
          "model_name": "HTMLModel",
          "state": {
            "_view_name": "HTMLView",
            "style": "IPY_MODEL_73f6e8f6cc5b4aeca1d5b9f2009e7272",
            "_dom_classes": [],
            "description": "",
            "_model_name": "HTMLModel",
            "placeholder": "​",
            "_view_module": "@jupyter-widgets/controls",
            "_model_module_version": "1.5.0",
            "value": " 1.45k/1.45k [00:00&lt;00:00, 4.05kB/s]",
            "_view_count": null,
            "_view_module_version": "1.5.0",
            "description_tooltip": null,
            "_model_module": "@jupyter-widgets/controls",
            "layout": "IPY_MODEL_3aebac0e4b604aeeb765c759fbc76b7c"
          }
        },
        "eaad1e8d37a34785adb3ca3936b20ac9": {
          "model_module": "@jupyter-widgets/controls",
          "model_name": "ProgressStyleModel",
          "state": {
            "_view_name": "StyleView",
            "_model_name": "ProgressStyleModel",
            "description_width": "initial",
            "_view_module": "@jupyter-widgets/base",
            "_model_module_version": "1.5.0",
            "_view_count": null,
            "_view_module_version": "1.2.0",
            "bar_color": null,
            "_model_module": "@jupyter-widgets/controls"
          }
        },
        "131261909b074fa9b42c1d60a0b9e857": {
          "model_module": "@jupyter-widgets/base",
          "model_name": "LayoutModel",
          "state": {
            "_view_name": "LayoutView",
            "grid_template_rows": null,
            "right": null,
            "justify_content": null,
            "_view_module": "@jupyter-widgets/base",
            "overflow": null,
            "_model_module_version": "1.2.0",
            "_view_count": null,
            "flex_flow": null,
            "width": null,
            "min_width": null,
            "border": null,
            "align_items": null,
            "bottom": null,
            "_model_module": "@jupyter-widgets/base",
            "top": null,
            "grid_column": null,
            "overflow_y": null,
            "overflow_x": null,
            "grid_auto_flow": null,
            "grid_area": null,
            "grid_template_columns": null,
            "flex": null,
            "_model_name": "LayoutModel",
            "justify_items": null,
            "grid_row": null,
            "max_height": null,
            "align_content": null,
            "visibility": null,
            "align_self": null,
            "height": null,
            "min_height": null,
            "padding": null,
            "grid_auto_rows": null,
            "grid_gap": null,
            "max_width": null,
            "order": null,
            "_view_module_version": "1.2.0",
            "grid_template_areas": null,
            "object_position": null,
            "object_fit": null,
            "grid_auto_columns": null,
            "margin": null,
            "display": null,
            "left": null
          }
        },
        "73f6e8f6cc5b4aeca1d5b9f2009e7272": {
          "model_module": "@jupyter-widgets/controls",
          "model_name": "DescriptionStyleModel",
          "state": {
            "_view_name": "StyleView",
            "_model_name": "DescriptionStyleModel",
            "description_width": "",
            "_view_module": "@jupyter-widgets/base",
            "_model_module_version": "1.5.0",
            "_view_count": null,
            "_view_module_version": "1.2.0",
            "_model_module": "@jupyter-widgets/controls"
          }
        },
        "3aebac0e4b604aeeb765c759fbc76b7c": {
          "model_module": "@jupyter-widgets/base",
          "model_name": "LayoutModel",
          "state": {
            "_view_name": "LayoutView",
            "grid_template_rows": null,
            "right": null,
            "justify_content": null,
            "_view_module": "@jupyter-widgets/base",
            "overflow": null,
            "_model_module_version": "1.2.0",
            "_view_count": null,
            "flex_flow": null,
            "width": null,
            "min_width": null,
            "border": null,
            "align_items": null,
            "bottom": null,
            "_model_module": "@jupyter-widgets/base",
            "top": null,
            "grid_column": null,
            "overflow_y": null,
            "overflow_x": null,
            "grid_auto_flow": null,
            "grid_area": null,
            "grid_template_columns": null,
            "flex": null,
            "_model_name": "LayoutModel",
            "justify_items": null,
            "grid_row": null,
            "max_height": null,
            "align_content": null,
            "visibility": null,
            "align_self": null,
            "height": null,
            "min_height": null,
            "padding": null,
            "grid_auto_rows": null,
            "grid_gap": null,
            "max_width": null,
            "order": null,
            "_view_module_version": "1.2.0",
            "grid_template_areas": null,
            "object_position": null,
            "object_fit": null,
            "grid_auto_columns": null,
            "margin": null,
            "display": null,
            "left": null
          }
        },
        "d7bb66f4fae043dd8679c6960cff8259": {
          "model_module": "@jupyter-widgets/controls",
          "model_name": "HBoxModel",
          "state": {
            "_view_name": "HBoxView",
            "_dom_classes": [],
            "_model_name": "HBoxModel",
            "_view_module": "@jupyter-widgets/controls",
            "_model_module_version": "1.5.0",
            "_view_count": null,
            "_view_module_version": "1.5.0",
            "box_style": "",
            "layout": "IPY_MODEL_e9312d2d3be141e0b0046db60b6f3da8",
            "_model_module": "@jupyter-widgets/controls",
            "children": [
              "IPY_MODEL_d85b16c42fb0417eb2602e2b87a76d38",
              "IPY_MODEL_4efe90b88d23491bba029a7c7b2c1e77"
            ]
          }
        },
        "e9312d2d3be141e0b0046db60b6f3da8": {
          "model_module": "@jupyter-widgets/base",
          "model_name": "LayoutModel",
          "state": {
            "_view_name": "LayoutView",
            "grid_template_rows": null,
            "right": null,
            "justify_content": null,
            "_view_module": "@jupyter-widgets/base",
            "overflow": null,
            "_model_module_version": "1.2.0",
            "_view_count": null,
            "flex_flow": null,
            "width": null,
            "min_width": null,
            "border": null,
            "align_items": null,
            "bottom": null,
            "_model_module": "@jupyter-widgets/base",
            "top": null,
            "grid_column": null,
            "overflow_y": null,
            "overflow_x": null,
            "grid_auto_flow": null,
            "grid_area": null,
            "grid_template_columns": null,
            "flex": null,
            "_model_name": "LayoutModel",
            "justify_items": null,
            "grid_row": null,
            "max_height": null,
            "align_content": null,
            "visibility": null,
            "align_self": null,
            "height": null,
            "min_height": null,
            "padding": null,
            "grid_auto_rows": null,
            "grid_gap": null,
            "max_width": null,
            "order": null,
            "_view_module_version": "1.2.0",
            "grid_template_areas": null,
            "object_position": null,
            "object_fit": null,
            "grid_auto_columns": null,
            "margin": null,
            "display": null,
            "left": null
          }
        },
        "d85b16c42fb0417eb2602e2b87a76d38": {
          "model_module": "@jupyter-widgets/controls",
          "model_name": "FloatProgressModel",
          "state": {
            "_view_name": "ProgressView",
            "style": "IPY_MODEL_41c6eb55c2c94a3887f4a5ef0ac2ed9f",
            "_dom_classes": [],
            "description": "Downloading: 100%",
            "_model_name": "FloatProgressModel",
            "bar_style": "success",
            "max": 1261920069,
            "_view_module": "@jupyter-widgets/controls",
            "_model_module_version": "1.5.0",
            "value": 1261920069,
            "_view_count": null,
            "_view_module_version": "1.5.0",
            "orientation": "horizontal",
            "min": 0,
            "description_tooltip": null,
            "_model_module": "@jupyter-widgets/controls",
            "layout": "IPY_MODEL_0d47b7e3593f4e08bf1d7cb9521f4c88"
          }
        },
        "4efe90b88d23491bba029a7c7b2c1e77": {
          "model_module": "@jupyter-widgets/controls",
          "model_name": "HTMLModel",
          "state": {
            "_view_name": "HTMLView",
            "style": "IPY_MODEL_7c5b20f7883d4dfa8415f753ddeaf931",
            "_dom_classes": [],
            "description": "",
            "_model_name": "HTMLModel",
            "placeholder": "​",
            "_view_module": "@jupyter-widgets/controls",
            "_model_module_version": "1.5.0",
            "value": " 1.26G/1.26G [00:30&lt;00:00, 41.6MB/s]",
            "_view_count": null,
            "_view_module_version": "1.5.0",
            "description_tooltip": null,
            "_model_module": "@jupyter-widgets/controls",
            "layout": "IPY_MODEL_8059c65e05f141a1a82d4d6103ed810a"
          }
        },
        "41c6eb55c2c94a3887f4a5ef0ac2ed9f": {
          "model_module": "@jupyter-widgets/controls",
          "model_name": "ProgressStyleModel",
          "state": {
            "_view_name": "StyleView",
            "_model_name": "ProgressStyleModel",
            "description_width": "initial",
            "_view_module": "@jupyter-widgets/base",
            "_model_module_version": "1.5.0",
            "_view_count": null,
            "_view_module_version": "1.2.0",
            "bar_color": null,
            "_model_module": "@jupyter-widgets/controls"
          }
        },
        "0d47b7e3593f4e08bf1d7cb9521f4c88": {
          "model_module": "@jupyter-widgets/base",
          "model_name": "LayoutModel",
          "state": {
            "_view_name": "LayoutView",
            "grid_template_rows": null,
            "right": null,
            "justify_content": null,
            "_view_module": "@jupyter-widgets/base",
            "overflow": null,
            "_model_module_version": "1.2.0",
            "_view_count": null,
            "flex_flow": null,
            "width": null,
            "min_width": null,
            "border": null,
            "align_items": null,
            "bottom": null,
            "_model_module": "@jupyter-widgets/base",
            "top": null,
            "grid_column": null,
            "overflow_y": null,
            "overflow_x": null,
            "grid_auto_flow": null,
            "grid_area": null,
            "grid_template_columns": null,
            "flex": null,
            "_model_name": "LayoutModel",
            "justify_items": null,
            "grid_row": null,
            "max_height": null,
            "align_content": null,
            "visibility": null,
            "align_self": null,
            "height": null,
            "min_height": null,
            "padding": null,
            "grid_auto_rows": null,
            "grid_gap": null,
            "max_width": null,
            "order": null,
            "_view_module_version": "1.2.0",
            "grid_template_areas": null,
            "object_position": null,
            "object_fit": null,
            "grid_auto_columns": null,
            "margin": null,
            "display": null,
            "left": null
          }
        },
        "7c5b20f7883d4dfa8415f753ddeaf931": {
          "model_module": "@jupyter-widgets/controls",
          "model_name": "DescriptionStyleModel",
          "state": {
            "_view_name": "StyleView",
            "_model_name": "DescriptionStyleModel",
            "description_width": "",
            "_view_module": "@jupyter-widgets/base",
            "_model_module_version": "1.5.0",
            "_view_count": null,
            "_view_module_version": "1.2.0",
            "_model_module": "@jupyter-widgets/controls"
          }
        },
        "8059c65e05f141a1a82d4d6103ed810a": {
          "model_module": "@jupyter-widgets/base",
          "model_name": "LayoutModel",
          "state": {
            "_view_name": "LayoutView",
            "grid_template_rows": null,
            "right": null,
            "justify_content": null,
            "_view_module": "@jupyter-widgets/base",
            "overflow": null,
            "_model_module_version": "1.2.0",
            "_view_count": null,
            "flex_flow": null,
            "width": null,
            "min_width": null,
            "border": null,
            "align_items": null,
            "bottom": null,
            "_model_module": "@jupyter-widgets/base",
            "top": null,
            "grid_column": null,
            "overflow_y": null,
            "overflow_x": null,
            "grid_auto_flow": null,
            "grid_area": null,
            "grid_template_columns": null,
            "flex": null,
            "_model_name": "LayoutModel",
            "justify_items": null,
            "grid_row": null,
            "max_height": null,
            "align_content": null,
            "visibility": null,
            "align_self": null,
            "height": null,
            "min_height": null,
            "padding": null,
            "grid_auto_rows": null,
            "grid_gap": null,
            "max_width": null,
            "order": null,
            "_view_module_version": "1.2.0",
            "grid_template_areas": null,
            "object_position": null,
            "object_fit": null,
            "grid_auto_columns": null,
            "margin": null,
            "display": null,
            "left": null
          }
        },
        "660e891dcba647079a6c1d4c82b16ad3": {
          "model_module": "@jupyter-widgets/controls",
          "model_name": "HBoxModel",
          "state": {
            "_view_name": "HBoxView",
            "_dom_classes": [],
            "_model_name": "HBoxModel",
            "_view_module": "@jupyter-widgets/controls",
            "_model_module_version": "1.5.0",
            "_view_count": null,
            "_view_module_version": "1.5.0",
            "box_style": "",
            "layout": "IPY_MODEL_3b838be9ec38499b8b3031fe4b18b7db",
            "_model_module": "@jupyter-widgets/controls",
            "children": [
              "IPY_MODEL_5da22ce73d6742d0916c63c8a5405ee9",
              "IPY_MODEL_b7fe7e96369c4c65a8e8e413cc397e0e"
            ]
          }
        },
        "3b838be9ec38499b8b3031fe4b18b7db": {
          "model_module": "@jupyter-widgets/base",
          "model_name": "LayoutModel",
          "state": {
            "_view_name": "LayoutView",
            "grid_template_rows": null,
            "right": null,
            "justify_content": null,
            "_view_module": "@jupyter-widgets/base",
            "overflow": null,
            "_model_module_version": "1.2.0",
            "_view_count": null,
            "flex_flow": null,
            "width": null,
            "min_width": null,
            "border": null,
            "align_items": null,
            "bottom": null,
            "_model_module": "@jupyter-widgets/base",
            "top": null,
            "grid_column": null,
            "overflow_y": null,
            "overflow_x": null,
            "grid_auto_flow": null,
            "grid_area": null,
            "grid_template_columns": null,
            "flex": null,
            "_model_name": "LayoutModel",
            "justify_items": null,
            "grid_row": null,
            "max_height": null,
            "align_content": null,
            "visibility": null,
            "align_self": null,
            "height": null,
            "min_height": null,
            "padding": null,
            "grid_auto_rows": null,
            "grid_gap": null,
            "max_width": null,
            "order": null,
            "_view_module_version": "1.2.0",
            "grid_template_areas": null,
            "object_position": null,
            "object_fit": null,
            "grid_auto_columns": null,
            "margin": null,
            "display": null,
            "left": null
          }
        },
        "5da22ce73d6742d0916c63c8a5405ee9": {
          "model_module": "@jupyter-widgets/controls",
          "model_name": "FloatProgressModel",
          "state": {
            "_view_name": "ProgressView",
            "style": "IPY_MODEL_dc5d836f0e5643179ba8742946fda986",
            "_dom_classes": [],
            "description": "Downloading: 100%",
            "_model_name": "FloatProgressModel",
            "bar_style": "success",
            "max": 1563,
            "_view_module": "@jupyter-widgets/controls",
            "_model_module_version": "1.5.0",
            "value": 1563,
            "_view_count": null,
            "_view_module_version": "1.5.0",
            "orientation": "horizontal",
            "min": 0,
            "description_tooltip": null,
            "_model_module": "@jupyter-widgets/controls",
            "layout": "IPY_MODEL_c6298865e5ca40dd924927d2a0345900"
          }
        },
        "b7fe7e96369c4c65a8e8e413cc397e0e": {
          "model_module": "@jupyter-widgets/controls",
          "model_name": "HTMLModel",
          "state": {
            "_view_name": "HTMLView",
            "style": "IPY_MODEL_a8b54c41b4d94467abc3614c68661bb5",
            "_dom_classes": [],
            "description": "",
            "_model_name": "HTMLModel",
            "placeholder": "​",
            "_view_module": "@jupyter-widgets/controls",
            "_model_module_version": "1.5.0",
            "value": " 1.56k/1.56k [00:40&lt;00:00, 38.5B/s]",
            "_view_count": null,
            "_view_module_version": "1.5.0",
            "description_tooltip": null,
            "_model_module": "@jupyter-widgets/controls",
            "layout": "IPY_MODEL_063390140dd6441fa6b117a0d1ea733e"
          }
        },
        "dc5d836f0e5643179ba8742946fda986": {
          "model_module": "@jupyter-widgets/controls",
          "model_name": "ProgressStyleModel",
          "state": {
            "_view_name": "StyleView",
            "_model_name": "ProgressStyleModel",
            "description_width": "initial",
            "_view_module": "@jupyter-widgets/base",
            "_model_module_version": "1.5.0",
            "_view_count": null,
            "_view_module_version": "1.2.0",
            "bar_color": null,
            "_model_module": "@jupyter-widgets/controls"
          }
        },
        "c6298865e5ca40dd924927d2a0345900": {
          "model_module": "@jupyter-widgets/base",
          "model_name": "LayoutModel",
          "state": {
            "_view_name": "LayoutView",
            "grid_template_rows": null,
            "right": null,
            "justify_content": null,
            "_view_module": "@jupyter-widgets/base",
            "overflow": null,
            "_model_module_version": "1.2.0",
            "_view_count": null,
            "flex_flow": null,
            "width": null,
            "min_width": null,
            "border": null,
            "align_items": null,
            "bottom": null,
            "_model_module": "@jupyter-widgets/base",
            "top": null,
            "grid_column": null,
            "overflow_y": null,
            "overflow_x": null,
            "grid_auto_flow": null,
            "grid_area": null,
            "grid_template_columns": null,
            "flex": null,
            "_model_name": "LayoutModel",
            "justify_items": null,
            "grid_row": null,
            "max_height": null,
            "align_content": null,
            "visibility": null,
            "align_self": null,
            "height": null,
            "min_height": null,
            "padding": null,
            "grid_auto_rows": null,
            "grid_gap": null,
            "max_width": null,
            "order": null,
            "_view_module_version": "1.2.0",
            "grid_template_areas": null,
            "object_position": null,
            "object_fit": null,
            "grid_auto_columns": null,
            "margin": null,
            "display": null,
            "left": null
          }
        },
        "a8b54c41b4d94467abc3614c68661bb5": {
          "model_module": "@jupyter-widgets/controls",
          "model_name": "DescriptionStyleModel",
          "state": {
            "_view_name": "StyleView",
            "_model_name": "DescriptionStyleModel",
            "description_width": "",
            "_view_module": "@jupyter-widgets/base",
            "_model_module_version": "1.5.0",
            "_view_count": null,
            "_view_module_version": "1.2.0",
            "_model_module": "@jupyter-widgets/controls"
          }
        },
        "063390140dd6441fa6b117a0d1ea733e": {
          "model_module": "@jupyter-widgets/base",
          "model_name": "LayoutModel",
          "state": {
            "_view_name": "LayoutView",
            "grid_template_rows": null,
            "right": null,
            "justify_content": null,
            "_view_module": "@jupyter-widgets/base",
            "overflow": null,
            "_model_module_version": "1.2.0",
            "_view_count": null,
            "flex_flow": null,
            "width": null,
            "min_width": null,
            "border": null,
            "align_items": null,
            "bottom": null,
            "_model_module": "@jupyter-widgets/base",
            "top": null,
            "grid_column": null,
            "overflow_y": null,
            "overflow_x": null,
            "grid_auto_flow": null,
            "grid_area": null,
            "grid_template_columns": null,
            "flex": null,
            "_model_name": "LayoutModel",
            "justify_items": null,
            "grid_row": null,
            "max_height": null,
            "align_content": null,
            "visibility": null,
            "align_self": null,
            "height": null,
            "min_height": null,
            "padding": null,
            "grid_auto_rows": null,
            "grid_gap": null,
            "max_width": null,
            "order": null,
            "_view_module_version": "1.2.0",
            "grid_template_areas": null,
            "object_position": null,
            "object_fit": null,
            "grid_auto_columns": null,
            "margin": null,
            "display": null,
            "left": null
          }
        },
        "f881a839f8e04716baeb14968d9ca5b5": {
          "model_module": "@jupyter-widgets/controls",
          "model_name": "HBoxModel",
          "state": {
            "_view_name": "HBoxView",
            "_dom_classes": [],
            "_model_name": "HBoxModel",
            "_view_module": "@jupyter-widgets/controls",
            "_model_module_version": "1.5.0",
            "_view_count": null,
            "_view_module_version": "1.5.0",
            "box_style": "",
            "layout": "IPY_MODEL_2ceeb99ee8874eb29cf25d7b633deb84",
            "_model_module": "@jupyter-widgets/controls",
            "children": [
              "IPY_MODEL_d6ff8c9bfa85403fa37a9225c515cb41",
              "IPY_MODEL_fd0895f739d14d6eab4198eef3316070"
            ]
          }
        },
        "2ceeb99ee8874eb29cf25d7b633deb84": {
          "model_module": "@jupyter-widgets/base",
          "model_name": "LayoutModel",
          "state": {
            "_view_name": "LayoutView",
            "grid_template_rows": null,
            "right": null,
            "justify_content": null,
            "_view_module": "@jupyter-widgets/base",
            "overflow": null,
            "_model_module_version": "1.2.0",
            "_view_count": null,
            "flex_flow": null,
            "width": null,
            "min_width": null,
            "border": null,
            "align_items": null,
            "bottom": null,
            "_model_module": "@jupyter-widgets/base",
            "top": null,
            "grid_column": null,
            "overflow_y": null,
            "overflow_x": null,
            "grid_auto_flow": null,
            "grid_area": null,
            "grid_template_columns": null,
            "flex": null,
            "_model_name": "LayoutModel",
            "justify_items": null,
            "grid_row": null,
            "max_height": null,
            "align_content": null,
            "visibility": null,
            "align_self": null,
            "height": null,
            "min_height": null,
            "padding": null,
            "grid_auto_rows": null,
            "grid_gap": null,
            "max_width": null,
            "order": null,
            "_view_module_version": "1.2.0",
            "grid_template_areas": null,
            "object_position": null,
            "object_fit": null,
            "grid_auto_columns": null,
            "margin": null,
            "display": null,
            "left": null
          }
        },
        "d6ff8c9bfa85403fa37a9225c515cb41": {
          "model_module": "@jupyter-widgets/controls",
          "model_name": "FloatProgressModel",
          "state": {
            "_view_name": "ProgressView",
            "style": "IPY_MODEL_62ca335f440c4e6bae9a130edb5106cd",
            "_dom_classes": [],
            "description": "Downloading: 100%",
            "_model_name": "FloatProgressModel",
            "bar_style": "success",
            "max": 1262290519,
            "_view_module": "@jupyter-widgets/controls",
            "_model_module_version": "1.5.0",
            "value": 1262290519,
            "_view_count": null,
            "_view_module_version": "1.5.0",
            "orientation": "horizontal",
            "min": 0,
            "description_tooltip": null,
            "_model_module": "@jupyter-widgets/controls",
            "layout": "IPY_MODEL_3ab9ebf34101419a9f8897461c55abfa"
          }
        },
        "fd0895f739d14d6eab4198eef3316070": {
          "model_module": "@jupyter-widgets/controls",
          "model_name": "HTMLModel",
          "state": {
            "_view_name": "HTMLView",
            "style": "IPY_MODEL_52198d7932c64945951f0ffa11b195ad",
            "_dom_classes": [],
            "description": "",
            "_model_name": "HTMLModel",
            "placeholder": "​",
            "_view_module": "@jupyter-widgets/controls",
            "_model_module_version": "1.5.0",
            "value": " 1.26G/1.26G [00:39&lt;00:00, 32.0MB/s]",
            "_view_count": null,
            "_view_module_version": "1.5.0",
            "description_tooltip": null,
            "_model_module": "@jupyter-widgets/controls",
            "layout": "IPY_MODEL_b5637b124407411e8bcf6a2b4632be37"
          }
        },
        "62ca335f440c4e6bae9a130edb5106cd": {
          "model_module": "@jupyter-widgets/controls",
          "model_name": "ProgressStyleModel",
          "state": {
            "_view_name": "StyleView",
            "_model_name": "ProgressStyleModel",
            "description_width": "initial",
            "_view_module": "@jupyter-widgets/base",
            "_model_module_version": "1.5.0",
            "_view_count": null,
            "_view_module_version": "1.2.0",
            "bar_color": null,
            "_model_module": "@jupyter-widgets/controls"
          }
        },
        "3ab9ebf34101419a9f8897461c55abfa": {
          "model_module": "@jupyter-widgets/base",
          "model_name": "LayoutModel",
          "state": {
            "_view_name": "LayoutView",
            "grid_template_rows": null,
            "right": null,
            "justify_content": null,
            "_view_module": "@jupyter-widgets/base",
            "overflow": null,
            "_model_module_version": "1.2.0",
            "_view_count": null,
            "flex_flow": null,
            "width": null,
            "min_width": null,
            "border": null,
            "align_items": null,
            "bottom": null,
            "_model_module": "@jupyter-widgets/base",
            "top": null,
            "grid_column": null,
            "overflow_y": null,
            "overflow_x": null,
            "grid_auto_flow": null,
            "grid_area": null,
            "grid_template_columns": null,
            "flex": null,
            "_model_name": "LayoutModel",
            "justify_items": null,
            "grid_row": null,
            "max_height": null,
            "align_content": null,
            "visibility": null,
            "align_self": null,
            "height": null,
            "min_height": null,
            "padding": null,
            "grid_auto_rows": null,
            "grid_gap": null,
            "max_width": null,
            "order": null,
            "_view_module_version": "1.2.0",
            "grid_template_areas": null,
            "object_position": null,
            "object_fit": null,
            "grid_auto_columns": null,
            "margin": null,
            "display": null,
            "left": null
          }
        },
        "52198d7932c64945951f0ffa11b195ad": {
          "model_module": "@jupyter-widgets/controls",
          "model_name": "DescriptionStyleModel",
          "state": {
            "_view_name": "StyleView",
            "_model_name": "DescriptionStyleModel",
            "description_width": "",
            "_view_module": "@jupyter-widgets/base",
            "_model_module_version": "1.5.0",
            "_view_count": null,
            "_view_module_version": "1.2.0",
            "_model_module": "@jupyter-widgets/controls"
          }
        },
        "b5637b124407411e8bcf6a2b4632be37": {
          "model_module": "@jupyter-widgets/base",
          "model_name": "LayoutModel",
          "state": {
            "_view_name": "LayoutView",
            "grid_template_rows": null,
            "right": null,
            "justify_content": null,
            "_view_module": "@jupyter-widgets/base",
            "overflow": null,
            "_model_module_version": "1.2.0",
            "_view_count": null,
            "flex_flow": null,
            "width": null,
            "min_width": null,
            "border": null,
            "align_items": null,
            "bottom": null,
            "_model_module": "@jupyter-widgets/base",
            "top": null,
            "grid_column": null,
            "overflow_y": null,
            "overflow_x": null,
            "grid_auto_flow": null,
            "grid_area": null,
            "grid_template_columns": null,
            "flex": null,
            "_model_name": "LayoutModel",
            "justify_items": null,
            "grid_row": null,
            "max_height": null,
            "align_content": null,
            "visibility": null,
            "align_self": null,
            "height": null,
            "min_height": null,
            "padding": null,
            "grid_auto_rows": null,
            "grid_gap": null,
            "max_width": null,
            "order": null,
            "_view_module_version": "1.2.0",
            "grid_template_areas": null,
            "object_position": null,
            "object_fit": null,
            "grid_auto_columns": null,
            "margin": null,
            "display": null,
            "left": null
          }
        },
        "ec9f432b74a6409581261405db2db893": {
          "model_module": "@jupyter-widgets/controls",
          "model_name": "HBoxModel",
          "state": {
            "_view_name": "HBoxView",
            "_dom_classes": [],
            "_model_name": "HBoxModel",
            "_view_module": "@jupyter-widgets/controls",
            "_model_module_version": "1.5.0",
            "_view_count": null,
            "_view_module_version": "1.5.0",
            "box_style": "",
            "layout": "IPY_MODEL_4865afa112ad48819fe04eddc724f2f3",
            "_model_module": "@jupyter-widgets/controls",
            "children": [
              "IPY_MODEL_db1edab1a85e45d0b84996208aac2f13",
              "IPY_MODEL_fb1fe37635a3452283067a4c4c054ffb"
            ]
          }
        },
        "4865afa112ad48819fe04eddc724f2f3": {
          "model_module": "@jupyter-widgets/base",
          "model_name": "LayoutModel",
          "state": {
            "_view_name": "LayoutView",
            "grid_template_rows": null,
            "right": null,
            "justify_content": null,
            "_view_module": "@jupyter-widgets/base",
            "overflow": null,
            "_model_module_version": "1.2.0",
            "_view_count": null,
            "flex_flow": null,
            "width": null,
            "min_width": null,
            "border": null,
            "align_items": null,
            "bottom": null,
            "_model_module": "@jupyter-widgets/base",
            "top": null,
            "grid_column": null,
            "overflow_y": null,
            "overflow_x": null,
            "grid_auto_flow": null,
            "grid_area": null,
            "grid_template_columns": null,
            "flex": null,
            "_model_name": "LayoutModel",
            "justify_items": null,
            "grid_row": null,
            "max_height": null,
            "align_content": null,
            "visibility": null,
            "align_self": null,
            "height": null,
            "min_height": null,
            "padding": null,
            "grid_auto_rows": null,
            "grid_gap": null,
            "max_width": null,
            "order": null,
            "_view_module_version": "1.2.0",
            "grid_template_areas": null,
            "object_position": null,
            "object_fit": null,
            "grid_auto_columns": null,
            "margin": null,
            "display": null,
            "left": null
          }
        },
        "db1edab1a85e45d0b84996208aac2f13": {
          "model_module": "@jupyter-widgets/controls",
          "model_name": "FloatProgressModel",
          "state": {
            "_view_name": "ProgressView",
            "style": "IPY_MODEL_9d1062a241fb4f54a2e0c1c784a32bb2",
            "_dom_classes": [],
            "description": "Downloading: 100%",
            "_model_name": "FloatProgressModel",
            "bar_style": "success",
            "max": 159,
            "_view_module": "@jupyter-widgets/controls",
            "_model_module_version": "1.5.0",
            "value": 159,
            "_view_count": null,
            "_view_module_version": "1.5.0",
            "orientation": "horizontal",
            "min": 0,
            "description_tooltip": null,
            "_model_module": "@jupyter-widgets/controls",
            "layout": "IPY_MODEL_e057103d89fc4519b37bbf3ff98e66f6"
          }
        },
        "fb1fe37635a3452283067a4c4c054ffb": {
          "model_module": "@jupyter-widgets/controls",
          "model_name": "HTMLModel",
          "state": {
            "_view_name": "HTMLView",
            "style": "IPY_MODEL_a989f29f73424c7eab1f67638db0e184",
            "_dom_classes": [],
            "description": "",
            "_model_name": "HTMLModel",
            "placeholder": "​",
            "_view_module": "@jupyter-widgets/controls",
            "_model_module_version": "1.5.0",
            "value": " 159/159 [00:00&lt;00:00, 186B/s]",
            "_view_count": null,
            "_view_module_version": "1.5.0",
            "description_tooltip": null,
            "_model_module": "@jupyter-widgets/controls",
            "layout": "IPY_MODEL_7bce0bba62af43fab0070a3c83337beb"
          }
        },
        "9d1062a241fb4f54a2e0c1c784a32bb2": {
          "model_module": "@jupyter-widgets/controls",
          "model_name": "ProgressStyleModel",
          "state": {
            "_view_name": "StyleView",
            "_model_name": "ProgressStyleModel",
            "description_width": "initial",
            "_view_module": "@jupyter-widgets/base",
            "_model_module_version": "1.5.0",
            "_view_count": null,
            "_view_module_version": "1.2.0",
            "bar_color": null,
            "_model_module": "@jupyter-widgets/controls"
          }
        },
        "e057103d89fc4519b37bbf3ff98e66f6": {
          "model_module": "@jupyter-widgets/base",
          "model_name": "LayoutModel",
          "state": {
            "_view_name": "LayoutView",
            "grid_template_rows": null,
            "right": null,
            "justify_content": null,
            "_view_module": "@jupyter-widgets/base",
            "overflow": null,
            "_model_module_version": "1.2.0",
            "_view_count": null,
            "flex_flow": null,
            "width": null,
            "min_width": null,
            "border": null,
            "align_items": null,
            "bottom": null,
            "_model_module": "@jupyter-widgets/base",
            "top": null,
            "grid_column": null,
            "overflow_y": null,
            "overflow_x": null,
            "grid_auto_flow": null,
            "grid_area": null,
            "grid_template_columns": null,
            "flex": null,
            "_model_name": "LayoutModel",
            "justify_items": null,
            "grid_row": null,
            "max_height": null,
            "align_content": null,
            "visibility": null,
            "align_self": null,
            "height": null,
            "min_height": null,
            "padding": null,
            "grid_auto_rows": null,
            "grid_gap": null,
            "max_width": null,
            "order": null,
            "_view_module_version": "1.2.0",
            "grid_template_areas": null,
            "object_position": null,
            "object_fit": null,
            "grid_auto_columns": null,
            "margin": null,
            "display": null,
            "left": null
          }
        },
        "a989f29f73424c7eab1f67638db0e184": {
          "model_module": "@jupyter-widgets/controls",
          "model_name": "DescriptionStyleModel",
          "state": {
            "_view_name": "StyleView",
            "_model_name": "DescriptionStyleModel",
            "description_width": "",
            "_view_module": "@jupyter-widgets/base",
            "_model_module_version": "1.5.0",
            "_view_count": null,
            "_view_module_version": "1.2.0",
            "_model_module": "@jupyter-widgets/controls"
          }
        },
        "7bce0bba62af43fab0070a3c83337beb": {
          "model_module": "@jupyter-widgets/base",
          "model_name": "LayoutModel",
          "state": {
            "_view_name": "LayoutView",
            "grid_template_rows": null,
            "right": null,
            "justify_content": null,
            "_view_module": "@jupyter-widgets/base",
            "overflow": null,
            "_model_module_version": "1.2.0",
            "_view_count": null,
            "flex_flow": null,
            "width": null,
            "min_width": null,
            "border": null,
            "align_items": null,
            "bottom": null,
            "_model_module": "@jupyter-widgets/base",
            "top": null,
            "grid_column": null,
            "overflow_y": null,
            "overflow_x": null,
            "grid_auto_flow": null,
            "grid_area": null,
            "grid_template_columns": null,
            "flex": null,
            "_model_name": "LayoutModel",
            "justify_items": null,
            "grid_row": null,
            "max_height": null,
            "align_content": null,
            "visibility": null,
            "align_self": null,
            "height": null,
            "min_height": null,
            "padding": null,
            "grid_auto_rows": null,
            "grid_gap": null,
            "max_width": null,
            "order": null,
            "_view_module_version": "1.2.0",
            "grid_template_areas": null,
            "object_position": null,
            "object_fit": null,
            "grid_auto_columns": null,
            "margin": null,
            "display": null,
            "left": null
          }
        },
        "271dee062a484b6daf2493f194a4a220": {
          "model_module": "@jupyter-widgets/controls",
          "model_name": "HBoxModel",
          "state": {
            "_view_name": "HBoxView",
            "_dom_classes": [],
            "_model_name": "HBoxModel",
            "_view_module": "@jupyter-widgets/controls",
            "_model_module_version": "1.5.0",
            "_view_count": null,
            "_view_module_version": "1.5.0",
            "box_style": "",
            "layout": "IPY_MODEL_e031c10978b04744816cedf26dcb2e1c",
            "_model_module": "@jupyter-widgets/controls",
            "children": [
              "IPY_MODEL_ae500bb258ce477eabc305b042b5a6d0",
              "IPY_MODEL_54558dd5aee94b53a4bc714bca390362"
            ]
          }
        },
        "e031c10978b04744816cedf26dcb2e1c": {
          "model_module": "@jupyter-widgets/base",
          "model_name": "LayoutModel",
          "state": {
            "_view_name": "LayoutView",
            "grid_template_rows": null,
            "right": null,
            "justify_content": null,
            "_view_module": "@jupyter-widgets/base",
            "overflow": null,
            "_model_module_version": "1.2.0",
            "_view_count": null,
            "flex_flow": null,
            "width": null,
            "min_width": null,
            "border": null,
            "align_items": null,
            "bottom": null,
            "_model_module": "@jupyter-widgets/base",
            "top": null,
            "grid_column": null,
            "overflow_y": null,
            "overflow_x": null,
            "grid_auto_flow": null,
            "grid_area": null,
            "grid_template_columns": null,
            "flex": null,
            "_model_name": "LayoutModel",
            "justify_items": null,
            "grid_row": null,
            "max_height": null,
            "align_content": null,
            "visibility": null,
            "align_self": null,
            "height": null,
            "min_height": null,
            "padding": null,
            "grid_auto_rows": null,
            "grid_gap": null,
            "max_width": null,
            "order": null,
            "_view_module_version": "1.2.0",
            "grid_template_areas": null,
            "object_position": null,
            "object_fit": null,
            "grid_auto_columns": null,
            "margin": null,
            "display": null,
            "left": null
          }
        },
        "ae500bb258ce477eabc305b042b5a6d0": {
          "model_module": "@jupyter-widgets/controls",
          "model_name": "FloatProgressModel",
          "state": {
            "_view_name": "ProgressView",
            "style": "IPY_MODEL_6dc44f88bbfd4141a3f77f3b43300ac1",
            "_dom_classes": [],
            "description": "Downloading: 100%",
            "_model_name": "FloatProgressModel",
            "bar_style": "success",
            "max": 1156,
            "_view_module": "@jupyter-widgets/controls",
            "_model_module_version": "1.5.0",
            "value": 1156,
            "_view_count": null,
            "_view_module_version": "1.5.0",
            "orientation": "horizontal",
            "min": 0,
            "description_tooltip": null,
            "_model_module": "@jupyter-widgets/controls",
            "layout": "IPY_MODEL_76c3ff07207b49138e1ba45a468cf1cb"
          }
        },
        "54558dd5aee94b53a4bc714bca390362": {
          "model_module": "@jupyter-widgets/controls",
          "model_name": "HTMLModel",
          "state": {
            "_view_name": "HTMLView",
            "style": "IPY_MODEL_7535de7b44ec41f1b313c35264f2255c",
            "_dom_classes": [],
            "description": "",
            "_model_name": "HTMLModel",
            "placeholder": "​",
            "_view_module": "@jupyter-widgets/controls",
            "_model_module_version": "1.5.0",
            "value": " 1.16k/1.16k [00:00&lt;00:00, 2.96kB/s]",
            "_view_count": null,
            "_view_module_version": "1.5.0",
            "description_tooltip": null,
            "_model_module": "@jupyter-widgets/controls",
            "layout": "IPY_MODEL_35cd9397daa64bdb9320ad476245ac1b"
          }
        },
        "6dc44f88bbfd4141a3f77f3b43300ac1": {
          "model_module": "@jupyter-widgets/controls",
          "model_name": "ProgressStyleModel",
          "state": {
            "_view_name": "StyleView",
            "_model_name": "ProgressStyleModel",
            "description_width": "initial",
            "_view_module": "@jupyter-widgets/base",
            "_model_module_version": "1.5.0",
            "_view_count": null,
            "_view_module_version": "1.2.0",
            "bar_color": null,
            "_model_module": "@jupyter-widgets/controls"
          }
        },
        "76c3ff07207b49138e1ba45a468cf1cb": {
          "model_module": "@jupyter-widgets/base",
          "model_name": "LayoutModel",
          "state": {
            "_view_name": "LayoutView",
            "grid_template_rows": null,
            "right": null,
            "justify_content": null,
            "_view_module": "@jupyter-widgets/base",
            "overflow": null,
            "_model_module_version": "1.2.0",
            "_view_count": null,
            "flex_flow": null,
            "width": null,
            "min_width": null,
            "border": null,
            "align_items": null,
            "bottom": null,
            "_model_module": "@jupyter-widgets/base",
            "top": null,
            "grid_column": null,
            "overflow_y": null,
            "overflow_x": null,
            "grid_auto_flow": null,
            "grid_area": null,
            "grid_template_columns": null,
            "flex": null,
            "_model_name": "LayoutModel",
            "justify_items": null,
            "grid_row": null,
            "max_height": null,
            "align_content": null,
            "visibility": null,
            "align_self": null,
            "height": null,
            "min_height": null,
            "padding": null,
            "grid_auto_rows": null,
            "grid_gap": null,
            "max_width": null,
            "order": null,
            "_view_module_version": "1.2.0",
            "grid_template_areas": null,
            "object_position": null,
            "object_fit": null,
            "grid_auto_columns": null,
            "margin": null,
            "display": null,
            "left": null
          }
        },
        "7535de7b44ec41f1b313c35264f2255c": {
          "model_module": "@jupyter-widgets/controls",
          "model_name": "DescriptionStyleModel",
          "state": {
            "_view_name": "StyleView",
            "_model_name": "DescriptionStyleModel",
            "description_width": "",
            "_view_module": "@jupyter-widgets/base",
            "_model_module_version": "1.5.0",
            "_view_count": null,
            "_view_module_version": "1.2.0",
            "_model_module": "@jupyter-widgets/controls"
          }
        },
        "35cd9397daa64bdb9320ad476245ac1b": {
          "model_module": "@jupyter-widgets/base",
          "model_name": "LayoutModel",
          "state": {
            "_view_name": "LayoutView",
            "grid_template_rows": null,
            "right": null,
            "justify_content": null,
            "_view_module": "@jupyter-widgets/base",
            "overflow": null,
            "_model_module_version": "1.2.0",
            "_view_count": null,
            "flex_flow": null,
            "width": null,
            "min_width": null,
            "border": null,
            "align_items": null,
            "bottom": null,
            "_model_module": "@jupyter-widgets/base",
            "top": null,
            "grid_column": null,
            "overflow_y": null,
            "overflow_x": null,
            "grid_auto_flow": null,
            "grid_area": null,
            "grid_template_columns": null,
            "flex": null,
            "_model_name": "LayoutModel",
            "justify_items": null,
            "grid_row": null,
            "max_height": null,
            "align_content": null,
            "visibility": null,
            "align_self": null,
            "height": null,
            "min_height": null,
            "padding": null,
            "grid_auto_rows": null,
            "grid_gap": null,
            "max_width": null,
            "order": null,
            "_view_module_version": "1.2.0",
            "grid_template_areas": null,
            "object_position": null,
            "object_fit": null,
            "grid_auto_columns": null,
            "margin": null,
            "display": null,
            "left": null
          }
        },
        "831fc1cfa5f141939bc647d6c547e25b": {
          "model_module": "@jupyter-widgets/controls",
          "model_name": "HBoxModel",
          "state": {
            "_view_name": "HBoxView",
            "_dom_classes": [],
            "_model_name": "HBoxModel",
            "_view_module": "@jupyter-widgets/controls",
            "_model_module_version": "1.5.0",
            "_view_count": null,
            "_view_module_version": "1.5.0",
            "box_style": "",
            "layout": "IPY_MODEL_ebee297de26f4bdba69349c067c4f0d3",
            "_model_module": "@jupyter-widgets/controls",
            "children": [
              "IPY_MODEL_4f63e870b6b349bab34f33e015519e73",
              "IPY_MODEL_4a4a77c6ddf24c56848d4a5b293e948a"
            ]
          }
        },
        "ebee297de26f4bdba69349c067c4f0d3": {
          "model_module": "@jupyter-widgets/base",
          "model_name": "LayoutModel",
          "state": {
            "_view_name": "LayoutView",
            "grid_template_rows": null,
            "right": null,
            "justify_content": null,
            "_view_module": "@jupyter-widgets/base",
            "overflow": null,
            "_model_module_version": "1.2.0",
            "_view_count": null,
            "flex_flow": null,
            "width": null,
            "min_width": null,
            "border": null,
            "align_items": null,
            "bottom": null,
            "_model_module": "@jupyter-widgets/base",
            "top": null,
            "grid_column": null,
            "overflow_y": null,
            "overflow_x": null,
            "grid_auto_flow": null,
            "grid_area": null,
            "grid_template_columns": null,
            "flex": null,
            "_model_name": "LayoutModel",
            "justify_items": null,
            "grid_row": null,
            "max_height": null,
            "align_content": null,
            "visibility": null,
            "align_self": null,
            "height": null,
            "min_height": null,
            "padding": null,
            "grid_auto_rows": null,
            "grid_gap": null,
            "max_width": null,
            "order": null,
            "_view_module_version": "1.2.0",
            "grid_template_areas": null,
            "object_position": null,
            "object_fit": null,
            "grid_auto_columns": null,
            "margin": null,
            "display": null,
            "left": null
          }
        },
        "4f63e870b6b349bab34f33e015519e73": {
          "model_module": "@jupyter-widgets/controls",
          "model_name": "FloatProgressModel",
          "state": {
            "_view_name": "ProgressView",
            "style": "IPY_MODEL_4eb535f95f144bceb575f9db47ec7440",
            "_dom_classes": [],
            "description": "Downloading: 100%",
            "_model_name": "FloatProgressModel",
            "bar_style": "success",
            "max": 138,
            "_view_module": "@jupyter-widgets/controls",
            "_model_module_version": "1.5.0",
            "value": 138,
            "_view_count": null,
            "_view_module_version": "1.5.0",
            "orientation": "horizontal",
            "min": 0,
            "description_tooltip": null,
            "_model_module": "@jupyter-widgets/controls",
            "layout": "IPY_MODEL_96508f5e150341c69f59457a415dce3b"
          }
        },
        "4a4a77c6ddf24c56848d4a5b293e948a": {
          "model_module": "@jupyter-widgets/controls",
          "model_name": "HTMLModel",
          "state": {
            "_view_name": "HTMLView",
            "style": "IPY_MODEL_8a53033688094028833a825d13ba6be6",
            "_dom_classes": [],
            "description": "",
            "_model_name": "HTMLModel",
            "placeholder": "​",
            "_view_module": "@jupyter-widgets/controls",
            "_model_module_version": "1.5.0",
            "value": " 138/138 [00:01&lt;00:00, 96.9B/s]",
            "_view_count": null,
            "_view_module_version": "1.5.0",
            "description_tooltip": null,
            "_model_module": "@jupyter-widgets/controls",
            "layout": "IPY_MODEL_3b177cf9b424485a88800363865f2be2"
          }
        },
        "4eb535f95f144bceb575f9db47ec7440": {
          "model_module": "@jupyter-widgets/controls",
          "model_name": "ProgressStyleModel",
          "state": {
            "_view_name": "StyleView",
            "_model_name": "ProgressStyleModel",
            "description_width": "initial",
            "_view_module": "@jupyter-widgets/base",
            "_model_module_version": "1.5.0",
            "_view_count": null,
            "_view_module_version": "1.2.0",
            "bar_color": null,
            "_model_module": "@jupyter-widgets/controls"
          }
        },
        "96508f5e150341c69f59457a415dce3b": {
          "model_module": "@jupyter-widgets/base",
          "model_name": "LayoutModel",
          "state": {
            "_view_name": "LayoutView",
            "grid_template_rows": null,
            "right": null,
            "justify_content": null,
            "_view_module": "@jupyter-widgets/base",
            "overflow": null,
            "_model_module_version": "1.2.0",
            "_view_count": null,
            "flex_flow": null,
            "width": null,
            "min_width": null,
            "border": null,
            "align_items": null,
            "bottom": null,
            "_model_module": "@jupyter-widgets/base",
            "top": null,
            "grid_column": null,
            "overflow_y": null,
            "overflow_x": null,
            "grid_auto_flow": null,
            "grid_area": null,
            "grid_template_columns": null,
            "flex": null,
            "_model_name": "LayoutModel",
            "justify_items": null,
            "grid_row": null,
            "max_height": null,
            "align_content": null,
            "visibility": null,
            "align_self": null,
            "height": null,
            "min_height": null,
            "padding": null,
            "grid_auto_rows": null,
            "grid_gap": null,
            "max_width": null,
            "order": null,
            "_view_module_version": "1.2.0",
            "grid_template_areas": null,
            "object_position": null,
            "object_fit": null,
            "grid_auto_columns": null,
            "margin": null,
            "display": null,
            "left": null
          }
        },
        "8a53033688094028833a825d13ba6be6": {
          "model_module": "@jupyter-widgets/controls",
          "model_name": "DescriptionStyleModel",
          "state": {
            "_view_name": "StyleView",
            "_model_name": "DescriptionStyleModel",
            "description_width": "",
            "_view_module": "@jupyter-widgets/base",
            "_model_module_version": "1.5.0",
            "_view_count": null,
            "_view_module_version": "1.2.0",
            "_model_module": "@jupyter-widgets/controls"
          }
        },
        "3b177cf9b424485a88800363865f2be2": {
          "model_module": "@jupyter-widgets/base",
          "model_name": "LayoutModel",
          "state": {
            "_view_name": "LayoutView",
            "grid_template_rows": null,
            "right": null,
            "justify_content": null,
            "_view_module": "@jupyter-widgets/base",
            "overflow": null,
            "_model_module_version": "1.2.0",
            "_view_count": null,
            "flex_flow": null,
            "width": null,
            "min_width": null,
            "border": null,
            "align_items": null,
            "bottom": null,
            "_model_module": "@jupyter-widgets/base",
            "top": null,
            "grid_column": null,
            "overflow_y": null,
            "overflow_x": null,
            "grid_auto_flow": null,
            "grid_area": null,
            "grid_template_columns": null,
            "flex": null,
            "_model_name": "LayoutModel",
            "justify_items": null,
            "grid_row": null,
            "max_height": null,
            "align_content": null,
            "visibility": null,
            "align_self": null,
            "height": null,
            "min_height": null,
            "padding": null,
            "grid_auto_rows": null,
            "grid_gap": null,
            "max_width": null,
            "order": null,
            "_view_module_version": "1.2.0",
            "grid_template_areas": null,
            "object_position": null,
            "object_fit": null,
            "grid_auto_columns": null,
            "margin": null,
            "display": null,
            "left": null
          }
        },
        "1cf9c521aebf46ecb0def88fbdc2893d": {
          "model_module": "@jupyter-widgets/controls",
          "model_name": "HBoxModel",
          "state": {
            "_view_name": "HBoxView",
            "_dom_classes": [],
            "_model_name": "HBoxModel",
            "_view_module": "@jupyter-widgets/controls",
            "_model_module_version": "1.5.0",
            "_view_count": null,
            "_view_module_version": "1.5.0",
            "box_style": "",
            "layout": "IPY_MODEL_e66a3ad174664e2c8827b987a71abe89",
            "_model_module": "@jupyter-widgets/controls",
            "children": [
              "IPY_MODEL_ca934e8500a843bab44a1d097fc6df82",
              "IPY_MODEL_cb3a008cfcf042149ce0b99600f91cf0"
            ]
          }
        },
        "e66a3ad174664e2c8827b987a71abe89": {
          "model_module": "@jupyter-widgets/base",
          "model_name": "LayoutModel",
          "state": {
            "_view_name": "LayoutView",
            "grid_template_rows": null,
            "right": null,
            "justify_content": null,
            "_view_module": "@jupyter-widgets/base",
            "overflow": null,
            "_model_module_version": "1.2.0",
            "_view_count": null,
            "flex_flow": null,
            "width": null,
            "min_width": null,
            "border": null,
            "align_items": null,
            "bottom": null,
            "_model_module": "@jupyter-widgets/base",
            "top": null,
            "grid_column": null,
            "overflow_y": null,
            "overflow_x": null,
            "grid_auto_flow": null,
            "grid_area": null,
            "grid_template_columns": null,
            "flex": null,
            "_model_name": "LayoutModel",
            "justify_items": null,
            "grid_row": null,
            "max_height": null,
            "align_content": null,
            "visibility": null,
            "align_self": null,
            "height": null,
            "min_height": null,
            "padding": null,
            "grid_auto_rows": null,
            "grid_gap": null,
            "max_width": null,
            "order": null,
            "_view_module_version": "1.2.0",
            "grid_template_areas": null,
            "object_position": null,
            "object_fit": null,
            "grid_auto_columns": null,
            "margin": null,
            "display": null,
            "left": null
          }
        },
        "ca934e8500a843bab44a1d097fc6df82": {
          "model_module": "@jupyter-widgets/controls",
          "model_name": "FloatProgressModel",
          "state": {
            "_view_name": "ProgressView",
            "style": "IPY_MODEL_3fc0bd3ccbcd4290a498693744030e51",
            "_dom_classes": [],
            "description": "Downloading: 100%",
            "_model_name": "FloatProgressModel",
            "bar_style": "success",
            "max": 85,
            "_view_module": "@jupyter-widgets/controls",
            "_model_module_version": "1.5.0",
            "value": 85,
            "_view_count": null,
            "_view_module_version": "1.5.0",
            "orientation": "horizontal",
            "min": 0,
            "description_tooltip": null,
            "_model_module": "@jupyter-widgets/controls",
            "layout": "IPY_MODEL_36b80bc48d15453cb5240f2156817840"
          }
        },
        "cb3a008cfcf042149ce0b99600f91cf0": {
          "model_module": "@jupyter-widgets/controls",
          "model_name": "HTMLModel",
          "state": {
            "_view_name": "HTMLView",
            "style": "IPY_MODEL_62ffb91ac0024ec88045f77e4a969b5f",
            "_dom_classes": [],
            "description": "",
            "_model_name": "HTMLModel",
            "placeholder": "​",
            "_view_module": "@jupyter-widgets/controls",
            "_model_module_version": "1.5.0",
            "value": " 85.0/85.0 [00:00&lt;00:00, 111B/s]",
            "_view_count": null,
            "_view_module_version": "1.5.0",
            "description_tooltip": null,
            "_model_module": "@jupyter-widgets/controls",
            "layout": "IPY_MODEL_89851ac39df8422db983a55b02a68a92"
          }
        },
        "3fc0bd3ccbcd4290a498693744030e51": {
          "model_module": "@jupyter-widgets/controls",
          "model_name": "ProgressStyleModel",
          "state": {
            "_view_name": "StyleView",
            "_model_name": "ProgressStyleModel",
            "description_width": "initial",
            "_view_module": "@jupyter-widgets/base",
            "_model_module_version": "1.5.0",
            "_view_count": null,
            "_view_module_version": "1.2.0",
            "bar_color": null,
            "_model_module": "@jupyter-widgets/controls"
          }
        },
        "36b80bc48d15453cb5240f2156817840": {
          "model_module": "@jupyter-widgets/base",
          "model_name": "LayoutModel",
          "state": {
            "_view_name": "LayoutView",
            "grid_template_rows": null,
            "right": null,
            "justify_content": null,
            "_view_module": "@jupyter-widgets/base",
            "overflow": null,
            "_model_module_version": "1.2.0",
            "_view_count": null,
            "flex_flow": null,
            "width": null,
            "min_width": null,
            "border": null,
            "align_items": null,
            "bottom": null,
            "_model_module": "@jupyter-widgets/base",
            "top": null,
            "grid_column": null,
            "overflow_y": null,
            "overflow_x": null,
            "grid_auto_flow": null,
            "grid_area": null,
            "grid_template_columns": null,
            "flex": null,
            "_model_name": "LayoutModel",
            "justify_items": null,
            "grid_row": null,
            "max_height": null,
            "align_content": null,
            "visibility": null,
            "align_self": null,
            "height": null,
            "min_height": null,
            "padding": null,
            "grid_auto_rows": null,
            "grid_gap": null,
            "max_width": null,
            "order": null,
            "_view_module_version": "1.2.0",
            "grid_template_areas": null,
            "object_position": null,
            "object_fit": null,
            "grid_auto_columns": null,
            "margin": null,
            "display": null,
            "left": null
          }
        },
        "62ffb91ac0024ec88045f77e4a969b5f": {
          "model_module": "@jupyter-widgets/controls",
          "model_name": "DescriptionStyleModel",
          "state": {
            "_view_name": "StyleView",
            "_model_name": "DescriptionStyleModel",
            "description_width": "",
            "_view_module": "@jupyter-widgets/base",
            "_model_module_version": "1.5.0",
            "_view_count": null,
            "_view_module_version": "1.2.0",
            "_model_module": "@jupyter-widgets/controls"
          }
        },
        "89851ac39df8422db983a55b02a68a92": {
          "model_module": "@jupyter-widgets/base",
          "model_name": "LayoutModel",
          "state": {
            "_view_name": "LayoutView",
            "grid_template_rows": null,
            "right": null,
            "justify_content": null,
            "_view_module": "@jupyter-widgets/base",
            "overflow": null,
            "_model_module_version": "1.2.0",
            "_view_count": null,
            "flex_flow": null,
            "width": null,
            "min_width": null,
            "border": null,
            "align_items": null,
            "bottom": null,
            "_model_module": "@jupyter-widgets/base",
            "top": null,
            "grid_column": null,
            "overflow_y": null,
            "overflow_x": null,
            "grid_auto_flow": null,
            "grid_area": null,
            "grid_template_columns": null,
            "flex": null,
            "_model_name": "LayoutModel",
            "justify_items": null,
            "grid_row": null,
            "max_height": null,
            "align_content": null,
            "visibility": null,
            "align_self": null,
            "height": null,
            "min_height": null,
            "padding": null,
            "grid_auto_rows": null,
            "grid_gap": null,
            "max_width": null,
            "order": null,
            "_view_module_version": "1.2.0",
            "grid_template_areas": null,
            "object_position": null,
            "object_fit": null,
            "grid_auto_columns": null,
            "margin": null,
            "display": null,
            "left": null
          }
        },
        "900e8187ddb0444f99d691f7c4c7021c": {
          "model_module": "@jupyter-widgets/controls",
          "model_name": "HBoxModel",
          "state": {
            "_view_name": "HBoxView",
            "_dom_classes": [],
            "_model_name": "HBoxModel",
            "_view_module": "@jupyter-widgets/controls",
            "_model_module_version": "1.5.0",
            "_view_count": null,
            "_view_module_version": "1.5.0",
            "box_style": "",
            "layout": "IPY_MODEL_b8ba0f96d19f4a89ad8b685aab9afec3",
            "_model_module": "@jupyter-widgets/controls",
            "children": [
              "IPY_MODEL_4fc72e3cb020414f99f560fbbce0f34e",
              "IPY_MODEL_fe27b3824208454b885476fbe3d4b105"
            ]
          }
        },
        "b8ba0f96d19f4a89ad8b685aab9afec3": {
          "model_module": "@jupyter-widgets/base",
          "model_name": "LayoutModel",
          "state": {
            "_view_name": "LayoutView",
            "grid_template_rows": null,
            "right": null,
            "justify_content": null,
            "_view_module": "@jupyter-widgets/base",
            "overflow": null,
            "_model_module_version": "1.2.0",
            "_view_count": null,
            "flex_flow": null,
            "width": null,
            "min_width": null,
            "border": null,
            "align_items": null,
            "bottom": null,
            "_model_module": "@jupyter-widgets/base",
            "top": null,
            "grid_column": null,
            "overflow_y": null,
            "overflow_x": null,
            "grid_auto_flow": null,
            "grid_area": null,
            "grid_template_columns": null,
            "flex": null,
            "_model_name": "LayoutModel",
            "justify_items": null,
            "grid_row": null,
            "max_height": null,
            "align_content": null,
            "visibility": null,
            "align_self": null,
            "height": null,
            "min_height": null,
            "padding": null,
            "grid_auto_rows": null,
            "grid_gap": null,
            "max_width": null,
            "order": null,
            "_view_module_version": "1.2.0",
            "grid_template_areas": null,
            "object_position": null,
            "object_fit": null,
            "grid_auto_columns": null,
            "margin": null,
            "display": null,
            "left": null
          }
        },
        "4fc72e3cb020414f99f560fbbce0f34e": {
          "model_module": "@jupyter-widgets/controls",
          "model_name": "FloatProgressModel",
          "state": {
            "_view_name": "ProgressView",
            "style": "IPY_MODEL_9e32fa5b2b7141029cdf5943ea5a7745",
            "_dom_classes": [],
            "description": "",
            "_model_name": "FloatProgressModel",
            "bar_style": "info",
            "max": 1,
            "_view_module": "@jupyter-widgets/controls",
            "_model_module_version": "1.5.0",
            "value": 1,
            "_view_count": null,
            "_view_module_version": "1.5.0",
            "orientation": "horizontal",
            "min": 0,
            "description_tooltip": null,
            "_model_module": "@jupyter-widgets/controls",
            "layout": "IPY_MODEL_9e612d04b8ad45d9a38014802f50b33b"
          }
        },
        "fe27b3824208454b885476fbe3d4b105": {
          "model_module": "@jupyter-widgets/controls",
          "model_name": "HTMLModel",
          "state": {
            "_view_name": "HTMLView",
            "style": "IPY_MODEL_bc54f6aeb2da4354b45fb4b176b05a0c",
            "_dom_classes": [],
            "description": "",
            "_model_name": "HTMLModel",
            "placeholder": "​",
            "_view_module": "@jupyter-widgets/controls",
            "_model_module_version": "1.5.0",
            "value": " 1/? [00:00&lt;00:00, 16.92 tables/s]",
            "_view_count": null,
            "_view_module_version": "1.5.0",
            "description_tooltip": null,
            "_model_module": "@jupyter-widgets/controls",
            "layout": "IPY_MODEL_5051358ce4ba4930bba4f939d27ecb4e"
          }
        },
        "9e32fa5b2b7141029cdf5943ea5a7745": {
          "model_module": "@jupyter-widgets/controls",
          "model_name": "ProgressStyleModel",
          "state": {
            "_view_name": "StyleView",
            "_model_name": "ProgressStyleModel",
            "description_width": "initial",
            "_view_module": "@jupyter-widgets/base",
            "_model_module_version": "1.5.0",
            "_view_count": null,
            "_view_module_version": "1.2.0",
            "bar_color": null,
            "_model_module": "@jupyter-widgets/controls"
          }
        },
        "9e612d04b8ad45d9a38014802f50b33b": {
          "model_module": "@jupyter-widgets/base",
          "model_name": "LayoutModel",
          "state": {
            "_view_name": "LayoutView",
            "grid_template_rows": null,
            "right": null,
            "justify_content": null,
            "_view_module": "@jupyter-widgets/base",
            "overflow": null,
            "_model_module_version": "1.2.0",
            "_view_count": null,
            "flex_flow": null,
            "width": null,
            "min_width": null,
            "border": null,
            "align_items": null,
            "bottom": null,
            "_model_module": "@jupyter-widgets/base",
            "top": null,
            "grid_column": null,
            "overflow_y": null,
            "overflow_x": null,
            "grid_auto_flow": null,
            "grid_area": null,
            "grid_template_columns": null,
            "flex": null,
            "_model_name": "LayoutModel",
            "justify_items": null,
            "grid_row": null,
            "max_height": null,
            "align_content": null,
            "visibility": null,
            "align_self": null,
            "height": null,
            "min_height": null,
            "padding": null,
            "grid_auto_rows": null,
            "grid_gap": null,
            "max_width": null,
            "order": null,
            "_view_module_version": "1.2.0",
            "grid_template_areas": null,
            "object_position": null,
            "object_fit": null,
            "grid_auto_columns": null,
            "margin": null,
            "display": null,
            "left": null
          }
        },
        "bc54f6aeb2da4354b45fb4b176b05a0c": {
          "model_module": "@jupyter-widgets/controls",
          "model_name": "DescriptionStyleModel",
          "state": {
            "_view_name": "StyleView",
            "_model_name": "DescriptionStyleModel",
            "description_width": "",
            "_view_module": "@jupyter-widgets/base",
            "_model_module_version": "1.5.0",
            "_view_count": null,
            "_view_module_version": "1.2.0",
            "_model_module": "@jupyter-widgets/controls"
          }
        },
        "5051358ce4ba4930bba4f939d27ecb4e": {
          "model_module": "@jupyter-widgets/base",
          "model_name": "LayoutModel",
          "state": {
            "_view_name": "LayoutView",
            "grid_template_rows": null,
            "right": null,
            "justify_content": null,
            "_view_module": "@jupyter-widgets/base",
            "overflow": null,
            "_model_module_version": "1.2.0",
            "_view_count": null,
            "flex_flow": null,
            "width": null,
            "min_width": null,
            "border": null,
            "align_items": null,
            "bottom": null,
            "_model_module": "@jupyter-widgets/base",
            "top": null,
            "grid_column": null,
            "overflow_y": null,
            "overflow_x": null,
            "grid_auto_flow": null,
            "grid_area": null,
            "grid_template_columns": null,
            "flex": null,
            "_model_name": "LayoutModel",
            "justify_items": null,
            "grid_row": null,
            "max_height": null,
            "align_content": null,
            "visibility": null,
            "align_self": null,
            "height": null,
            "min_height": null,
            "padding": null,
            "grid_auto_rows": null,
            "grid_gap": null,
            "max_width": null,
            "order": null,
            "_view_module_version": "1.2.0",
            "grid_template_areas": null,
            "object_position": null,
            "object_fit": null,
            "grid_auto_columns": null,
            "margin": null,
            "display": null,
            "left": null
          }
        },
        "84cf60df019346b8a549c86f117fe5f5": {
          "model_module": "@jupyter-widgets/controls",
          "model_name": "HBoxModel",
          "state": {
            "_view_name": "HBoxView",
            "_dom_classes": [],
            "_model_name": "HBoxModel",
            "_view_module": "@jupyter-widgets/controls",
            "_model_module_version": "1.5.0",
            "_view_count": null,
            "_view_module_version": "1.5.0",
            "box_style": "",
            "layout": "IPY_MODEL_ed803e09fd4b40919c15b0365079aefa",
            "_model_module": "@jupyter-widgets/controls",
            "children": [
              "IPY_MODEL_3bc5184797d44c0e8d0ce5411398c9b6",
              "IPY_MODEL_843b69526f044a9abe8bb795eddae066"
            ]
          }
        },
        "ed803e09fd4b40919c15b0365079aefa": {
          "model_module": "@jupyter-widgets/base",
          "model_name": "LayoutModel",
          "state": {
            "_view_name": "LayoutView",
            "grid_template_rows": null,
            "right": null,
            "justify_content": null,
            "_view_module": "@jupyter-widgets/base",
            "overflow": null,
            "_model_module_version": "1.2.0",
            "_view_count": null,
            "flex_flow": null,
            "width": null,
            "min_width": null,
            "border": null,
            "align_items": null,
            "bottom": null,
            "_model_module": "@jupyter-widgets/base",
            "top": null,
            "grid_column": null,
            "overflow_y": null,
            "overflow_x": null,
            "grid_auto_flow": null,
            "grid_area": null,
            "grid_template_columns": null,
            "flex": null,
            "_model_name": "LayoutModel",
            "justify_items": null,
            "grid_row": null,
            "max_height": null,
            "align_content": null,
            "visibility": null,
            "align_self": null,
            "height": null,
            "min_height": null,
            "padding": null,
            "grid_auto_rows": null,
            "grid_gap": null,
            "max_width": null,
            "order": null,
            "_view_module_version": "1.2.0",
            "grid_template_areas": null,
            "object_position": null,
            "object_fit": null,
            "grid_auto_columns": null,
            "margin": null,
            "display": null,
            "left": null
          }
        },
        "3bc5184797d44c0e8d0ce5411398c9b6": {
          "model_module": "@jupyter-widgets/controls",
          "model_name": "FloatProgressModel",
          "state": {
            "_view_name": "ProgressView",
            "style": "IPY_MODEL_bc2d01166d6a442c80730d6dc4743be2",
            "_dom_classes": [],
            "description": "100%",
            "_model_name": "FloatProgressModel",
            "bar_style": "success",
            "max": 400,
            "_view_module": "@jupyter-widgets/controls",
            "_model_module_version": "1.5.0",
            "value": 400,
            "_view_count": null,
            "_view_module_version": "1.5.0",
            "orientation": "horizontal",
            "min": 0,
            "description_tooltip": null,
            "_model_module": "@jupyter-widgets/controls",
            "layout": "IPY_MODEL_8199b1d2473e4ace9f47c888d1ff11b8"
          }
        },
        "843b69526f044a9abe8bb795eddae066": {
          "model_module": "@jupyter-widgets/controls",
          "model_name": "HTMLModel",
          "state": {
            "_view_name": "HTMLView",
            "style": "IPY_MODEL_3422f5b14bd8445886e5f8ca95d81661",
            "_dom_classes": [],
            "description": "",
            "_model_name": "HTMLModel",
            "placeholder": "​",
            "_view_module": "@jupyter-widgets/controls",
            "_model_module_version": "1.5.0",
            "value": " 400/400 [05:14&lt;00:00,  1.27ex/s]",
            "_view_count": null,
            "_view_module_version": "1.5.0",
            "description_tooltip": null,
            "_model_module": "@jupyter-widgets/controls",
            "layout": "IPY_MODEL_4092974402354583aaca53b0cb9e35c0"
          }
        },
        "bc2d01166d6a442c80730d6dc4743be2": {
          "model_module": "@jupyter-widgets/controls",
          "model_name": "ProgressStyleModel",
          "state": {
            "_view_name": "StyleView",
            "_model_name": "ProgressStyleModel",
            "description_width": "initial",
            "_view_module": "@jupyter-widgets/base",
            "_model_module_version": "1.5.0",
            "_view_count": null,
            "_view_module_version": "1.2.0",
            "bar_color": null,
            "_model_module": "@jupyter-widgets/controls"
          }
        },
        "8199b1d2473e4ace9f47c888d1ff11b8": {
          "model_module": "@jupyter-widgets/base",
          "model_name": "LayoutModel",
          "state": {
            "_view_name": "LayoutView",
            "grid_template_rows": null,
            "right": null,
            "justify_content": null,
            "_view_module": "@jupyter-widgets/base",
            "overflow": null,
            "_model_module_version": "1.2.0",
            "_view_count": null,
            "flex_flow": null,
            "width": null,
            "min_width": null,
            "border": null,
            "align_items": null,
            "bottom": null,
            "_model_module": "@jupyter-widgets/base",
            "top": null,
            "grid_column": null,
            "overflow_y": null,
            "overflow_x": null,
            "grid_auto_flow": null,
            "grid_area": null,
            "grid_template_columns": null,
            "flex": null,
            "_model_name": "LayoutModel",
            "justify_items": null,
            "grid_row": null,
            "max_height": null,
            "align_content": null,
            "visibility": null,
            "align_self": null,
            "height": null,
            "min_height": null,
            "padding": null,
            "grid_auto_rows": null,
            "grid_gap": null,
            "max_width": null,
            "order": null,
            "_view_module_version": "1.2.0",
            "grid_template_areas": null,
            "object_position": null,
            "object_fit": null,
            "grid_auto_columns": null,
            "margin": null,
            "display": null,
            "left": null
          }
        },
        "3422f5b14bd8445886e5f8ca95d81661": {
          "model_module": "@jupyter-widgets/controls",
          "model_name": "DescriptionStyleModel",
          "state": {
            "_view_name": "StyleView",
            "_model_name": "DescriptionStyleModel",
            "description_width": "",
            "_view_module": "@jupyter-widgets/base",
            "_model_module_version": "1.5.0",
            "_view_count": null,
            "_view_module_version": "1.2.0",
            "_model_module": "@jupyter-widgets/controls"
          }
        },
        "4092974402354583aaca53b0cb9e35c0": {
          "model_module": "@jupyter-widgets/base",
          "model_name": "LayoutModel",
          "state": {
            "_view_name": "LayoutView",
            "grid_template_rows": null,
            "right": null,
            "justify_content": null,
            "_view_module": "@jupyter-widgets/base",
            "overflow": null,
            "_model_module_version": "1.2.0",
            "_view_count": null,
            "flex_flow": null,
            "width": null,
            "min_width": null,
            "border": null,
            "align_items": null,
            "bottom": null,
            "_model_module": "@jupyter-widgets/base",
            "top": null,
            "grid_column": null,
            "overflow_y": null,
            "overflow_x": null,
            "grid_auto_flow": null,
            "grid_area": null,
            "grid_template_columns": null,
            "flex": null,
            "_model_name": "LayoutModel",
            "justify_items": null,
            "grid_row": null,
            "max_height": null,
            "align_content": null,
            "visibility": null,
            "align_self": null,
            "height": null,
            "min_height": null,
            "padding": null,
            "grid_auto_rows": null,
            "grid_gap": null,
            "max_width": null,
            "order": null,
            "_view_module_version": "1.2.0",
            "grid_template_areas": null,
            "object_position": null,
            "object_fit": null,
            "grid_auto_columns": null,
            "margin": null,
            "display": null,
            "left": null
          }
        },
        "8837814d009f44c2b6c0fb910076ca70": {
          "model_module": "@jupyter-widgets/controls",
          "model_name": "HBoxModel",
          "state": {
            "_view_name": "HBoxView",
            "_dom_classes": [],
            "_model_name": "HBoxModel",
            "_view_module": "@jupyter-widgets/controls",
            "_model_module_version": "1.5.0",
            "_view_count": null,
            "_view_module_version": "1.5.0",
            "box_style": "",
            "layout": "IPY_MODEL_853fc273a3134570a11e7f943d16b063",
            "_model_module": "@jupyter-widgets/controls",
            "children": [
              "IPY_MODEL_a86b5278d3a8435784c7625035b566c6",
              "IPY_MODEL_c336edf48edd420ba011357c9f5d471d"
            ]
          }
        },
        "853fc273a3134570a11e7f943d16b063": {
          "model_module": "@jupyter-widgets/base",
          "model_name": "LayoutModel",
          "state": {
            "_view_name": "LayoutView",
            "grid_template_rows": null,
            "right": null,
            "justify_content": null,
            "_view_module": "@jupyter-widgets/base",
            "overflow": null,
            "_model_module_version": "1.2.0",
            "_view_count": null,
            "flex_flow": null,
            "width": null,
            "min_width": null,
            "border": null,
            "align_items": null,
            "bottom": null,
            "_model_module": "@jupyter-widgets/base",
            "top": null,
            "grid_column": null,
            "overflow_y": null,
            "overflow_x": null,
            "grid_auto_flow": null,
            "grid_area": null,
            "grid_template_columns": null,
            "flex": null,
            "_model_name": "LayoutModel",
            "justify_items": null,
            "grid_row": null,
            "max_height": null,
            "align_content": null,
            "visibility": null,
            "align_self": null,
            "height": null,
            "min_height": null,
            "padding": null,
            "grid_auto_rows": null,
            "grid_gap": null,
            "max_width": null,
            "order": null,
            "_view_module_version": "1.2.0",
            "grid_template_areas": null,
            "object_position": null,
            "object_fit": null,
            "grid_auto_columns": null,
            "margin": null,
            "display": null,
            "left": null
          }
        },
        "a86b5278d3a8435784c7625035b566c6": {
          "model_module": "@jupyter-widgets/controls",
          "model_name": "FloatProgressModel",
          "state": {
            "_view_name": "ProgressView",
            "style": "IPY_MODEL_49b9617f45dc453d840cb033fb16c73c",
            "_dom_classes": [],
            "description": "100%",
            "_model_name": "FloatProgressModel",
            "bar_style": "success",
            "max": 50,
            "_view_module": "@jupyter-widgets/controls",
            "_model_module_version": "1.5.0",
            "value": 50,
            "_view_count": null,
            "_view_module_version": "1.5.0",
            "orientation": "horizontal",
            "min": 0,
            "description_tooltip": null,
            "_model_module": "@jupyter-widgets/controls",
            "layout": "IPY_MODEL_7c067d2c38dc48468d983584a96a5e1d"
          }
        },
        "c336edf48edd420ba011357c9f5d471d": {
          "model_module": "@jupyter-widgets/controls",
          "model_name": "HTMLModel",
          "state": {
            "_view_name": "HTMLView",
            "style": "IPY_MODEL_ef2da98c1bac4567b1a49ddb152229ba",
            "_dom_classes": [],
            "description": "",
            "_model_name": "HTMLModel",
            "placeholder": "​",
            "_view_module": "@jupyter-widgets/controls",
            "_model_module_version": "1.5.0",
            "value": " 50/50 [01:01&lt;00:00,  1.22s/ba]",
            "_view_count": null,
            "_view_module_version": "1.5.0",
            "description_tooltip": null,
            "_model_module": "@jupyter-widgets/controls",
            "layout": "IPY_MODEL_4e8e82fdad344486b7933be549addea5"
          }
        },
        "49b9617f45dc453d840cb033fb16c73c": {
          "model_module": "@jupyter-widgets/controls",
          "model_name": "ProgressStyleModel",
          "state": {
            "_view_name": "StyleView",
            "_model_name": "ProgressStyleModel",
            "description_width": "initial",
            "_view_module": "@jupyter-widgets/base",
            "_model_module_version": "1.5.0",
            "_view_count": null,
            "_view_module_version": "1.2.0",
            "bar_color": null,
            "_model_module": "@jupyter-widgets/controls"
          }
        },
        "7c067d2c38dc48468d983584a96a5e1d": {
          "model_module": "@jupyter-widgets/base",
          "model_name": "LayoutModel",
          "state": {
            "_view_name": "LayoutView",
            "grid_template_rows": null,
            "right": null,
            "justify_content": null,
            "_view_module": "@jupyter-widgets/base",
            "overflow": null,
            "_model_module_version": "1.2.0",
            "_view_count": null,
            "flex_flow": null,
            "width": null,
            "min_width": null,
            "border": null,
            "align_items": null,
            "bottom": null,
            "_model_module": "@jupyter-widgets/base",
            "top": null,
            "grid_column": null,
            "overflow_y": null,
            "overflow_x": null,
            "grid_auto_flow": null,
            "grid_area": null,
            "grid_template_columns": null,
            "flex": null,
            "_model_name": "LayoutModel",
            "justify_items": null,
            "grid_row": null,
            "max_height": null,
            "align_content": null,
            "visibility": null,
            "align_self": null,
            "height": null,
            "min_height": null,
            "padding": null,
            "grid_auto_rows": null,
            "grid_gap": null,
            "max_width": null,
            "order": null,
            "_view_module_version": "1.2.0",
            "grid_template_areas": null,
            "object_position": null,
            "object_fit": null,
            "grid_auto_columns": null,
            "margin": null,
            "display": null,
            "left": null
          }
        },
        "ef2da98c1bac4567b1a49ddb152229ba": {
          "model_module": "@jupyter-widgets/controls",
          "model_name": "DescriptionStyleModel",
          "state": {
            "_view_name": "StyleView",
            "_model_name": "DescriptionStyleModel",
            "description_width": "",
            "_view_module": "@jupyter-widgets/base",
            "_model_module_version": "1.5.0",
            "_view_count": null,
            "_view_module_version": "1.2.0",
            "_model_module": "@jupyter-widgets/controls"
          }
        },
        "4e8e82fdad344486b7933be549addea5": {
          "model_module": "@jupyter-widgets/base",
          "model_name": "LayoutModel",
          "state": {
            "_view_name": "LayoutView",
            "grid_template_rows": null,
            "right": null,
            "justify_content": null,
            "_view_module": "@jupyter-widgets/base",
            "overflow": null,
            "_model_module_version": "1.2.0",
            "_view_count": null,
            "flex_flow": null,
            "width": null,
            "min_width": null,
            "border": null,
            "align_items": null,
            "bottom": null,
            "_model_module": "@jupyter-widgets/base",
            "top": null,
            "grid_column": null,
            "overflow_y": null,
            "overflow_x": null,
            "grid_auto_flow": null,
            "grid_area": null,
            "grid_template_columns": null,
            "flex": null,
            "_model_name": "LayoutModel",
            "justify_items": null,
            "grid_row": null,
            "max_height": null,
            "align_content": null,
            "visibility": null,
            "align_self": null,
            "height": null,
            "min_height": null,
            "padding": null,
            "grid_auto_rows": null,
            "grid_gap": null,
            "max_width": null,
            "order": null,
            "_view_module_version": "1.2.0",
            "grid_template_areas": null,
            "object_position": null,
            "object_fit": null,
            "grid_auto_columns": null,
            "margin": null,
            "display": null,
            "left": null
          }
        },
        "1cb1742de1364753a86f97311ad4cf19": {
          "model_module": "@jupyter-widgets/controls",
          "model_name": "HBoxModel",
          "state": {
            "_view_name": "HBoxView",
            "_dom_classes": [],
            "_model_name": "HBoxModel",
            "_view_module": "@jupyter-widgets/controls",
            "_model_module_version": "1.5.0",
            "_view_count": null,
            "_view_module_version": "1.5.0",
            "box_style": "",
            "layout": "IPY_MODEL_4f711bdd70124deb9e390024f1f8ab0a",
            "_model_module": "@jupyter-widgets/controls",
            "children": [
              "IPY_MODEL_4842adb0df1541be8b8d8d80a4a28892",
              "IPY_MODEL_ebc4add9197748688752b0b906924cb7"
            ]
          }
        },
        "4f711bdd70124deb9e390024f1f8ab0a": {
          "model_module": "@jupyter-widgets/base",
          "model_name": "LayoutModel",
          "state": {
            "_view_name": "LayoutView",
            "grid_template_rows": null,
            "right": null,
            "justify_content": null,
            "_view_module": "@jupyter-widgets/base",
            "overflow": null,
            "_model_module_version": "1.2.0",
            "_view_count": null,
            "flex_flow": null,
            "width": null,
            "min_width": null,
            "border": null,
            "align_items": null,
            "bottom": null,
            "_model_module": "@jupyter-widgets/base",
            "top": null,
            "grid_column": null,
            "overflow_y": null,
            "overflow_x": null,
            "grid_auto_flow": null,
            "grid_area": null,
            "grid_template_columns": null,
            "flex": null,
            "_model_name": "LayoutModel",
            "justify_items": null,
            "grid_row": null,
            "max_height": null,
            "align_content": null,
            "visibility": null,
            "align_self": null,
            "height": null,
            "min_height": null,
            "padding": null,
            "grid_auto_rows": null,
            "grid_gap": null,
            "max_width": null,
            "order": null,
            "_view_module_version": "1.2.0",
            "grid_template_areas": null,
            "object_position": null,
            "object_fit": null,
            "grid_auto_columns": null,
            "margin": null,
            "display": null,
            "left": null
          }
        },
        "4842adb0df1541be8b8d8d80a4a28892": {
          "model_module": "@jupyter-widgets/controls",
          "model_name": "FloatProgressModel",
          "state": {
            "_view_name": "ProgressView",
            "style": "IPY_MODEL_7f34df3362f54052908eeca7b454e12c",
            "_dom_classes": [],
            "description": "",
            "_model_name": "FloatProgressModel",
            "bar_style": "info",
            "max": 1,
            "_view_module": "@jupyter-widgets/controls",
            "_model_module_version": "1.5.0",
            "value": 1,
            "_view_count": null,
            "_view_module_version": "1.5.0",
            "orientation": "horizontal",
            "min": 0,
            "description_tooltip": null,
            "_model_module": "@jupyter-widgets/controls",
            "layout": "IPY_MODEL_b9c7ad3689dc48488a7dd0bd48f21d90"
          }
        },
        "ebc4add9197748688752b0b906924cb7": {
          "model_module": "@jupyter-widgets/controls",
          "model_name": "HTMLModel",
          "state": {
            "_view_name": "HTMLView",
            "style": "IPY_MODEL_2c785b5e2fb94fa3b12205693eebce08",
            "_dom_classes": [],
            "description": "",
            "_model_name": "HTMLModel",
            "placeholder": "​",
            "_view_module": "@jupyter-widgets/controls",
            "_model_module_version": "1.5.0",
            "value": " 1/? [00:00&lt;00:00, 22.83 tables/s]",
            "_view_count": null,
            "_view_module_version": "1.5.0",
            "description_tooltip": null,
            "_model_module": "@jupyter-widgets/controls",
            "layout": "IPY_MODEL_9ffe88c6d0e644d7996b8e002d03f125"
          }
        },
        "7f34df3362f54052908eeca7b454e12c": {
          "model_module": "@jupyter-widgets/controls",
          "model_name": "ProgressStyleModel",
          "state": {
            "_view_name": "StyleView",
            "_model_name": "ProgressStyleModel",
            "description_width": "initial",
            "_view_module": "@jupyter-widgets/base",
            "_model_module_version": "1.5.0",
            "_view_count": null,
            "_view_module_version": "1.2.0",
            "bar_color": null,
            "_model_module": "@jupyter-widgets/controls"
          }
        },
        "b9c7ad3689dc48488a7dd0bd48f21d90": {
          "model_module": "@jupyter-widgets/base",
          "model_name": "LayoutModel",
          "state": {
            "_view_name": "LayoutView",
            "grid_template_rows": null,
            "right": null,
            "justify_content": null,
            "_view_module": "@jupyter-widgets/base",
            "overflow": null,
            "_model_module_version": "1.2.0",
            "_view_count": null,
            "flex_flow": null,
            "width": null,
            "min_width": null,
            "border": null,
            "align_items": null,
            "bottom": null,
            "_model_module": "@jupyter-widgets/base",
            "top": null,
            "grid_column": null,
            "overflow_y": null,
            "overflow_x": null,
            "grid_auto_flow": null,
            "grid_area": null,
            "grid_template_columns": null,
            "flex": null,
            "_model_name": "LayoutModel",
            "justify_items": null,
            "grid_row": null,
            "max_height": null,
            "align_content": null,
            "visibility": null,
            "align_self": null,
            "height": null,
            "min_height": null,
            "padding": null,
            "grid_auto_rows": null,
            "grid_gap": null,
            "max_width": null,
            "order": null,
            "_view_module_version": "1.2.0",
            "grid_template_areas": null,
            "object_position": null,
            "object_fit": null,
            "grid_auto_columns": null,
            "margin": null,
            "display": null,
            "left": null
          }
        },
        "2c785b5e2fb94fa3b12205693eebce08": {
          "model_module": "@jupyter-widgets/controls",
          "model_name": "DescriptionStyleModel",
          "state": {
            "_view_name": "StyleView",
            "_model_name": "DescriptionStyleModel",
            "description_width": "",
            "_view_module": "@jupyter-widgets/base",
            "_model_module_version": "1.5.0",
            "_view_count": null,
            "_view_module_version": "1.2.0",
            "_model_module": "@jupyter-widgets/controls"
          }
        },
        "9ffe88c6d0e644d7996b8e002d03f125": {
          "model_module": "@jupyter-widgets/base",
          "model_name": "LayoutModel",
          "state": {
            "_view_name": "LayoutView",
            "grid_template_rows": null,
            "right": null,
            "justify_content": null,
            "_view_module": "@jupyter-widgets/base",
            "overflow": null,
            "_model_module_version": "1.2.0",
            "_view_count": null,
            "flex_flow": null,
            "width": null,
            "min_width": null,
            "border": null,
            "align_items": null,
            "bottom": null,
            "_model_module": "@jupyter-widgets/base",
            "top": null,
            "grid_column": null,
            "overflow_y": null,
            "overflow_x": null,
            "grid_auto_flow": null,
            "grid_area": null,
            "grid_template_columns": null,
            "flex": null,
            "_model_name": "LayoutModel",
            "justify_items": null,
            "grid_row": null,
            "max_height": null,
            "align_content": null,
            "visibility": null,
            "align_self": null,
            "height": null,
            "min_height": null,
            "padding": null,
            "grid_auto_rows": null,
            "grid_gap": null,
            "max_width": null,
            "order": null,
            "_view_module_version": "1.2.0",
            "grid_template_areas": null,
            "object_position": null,
            "object_fit": null,
            "grid_auto_columns": null,
            "margin": null,
            "display": null,
            "left": null
          }
        }
      }
    }
  },
  "cells": [
    {
      "cell_type": "code",
      "metadata": {
        "id": "WTLbT1wBKlju",
        "colab": {
          "base_uri": "https://localhost:8080/"
        },
        "outputId": "eba4fcc1-1645-4b06-a14f-1a30cb37d15c"
      },
      "source": [
        "cd drive/MyDrive/gujarati-dataset/"
      ],
      "execution_count": 6,
      "outputs": [
        {
          "output_type": "stream",
          "text": [
            "/content/drive/MyDrive/gujarati-dataset\n"
          ],
          "name": "stdout"
        }
      ]
    },
    {
      "cell_type": "code",
      "metadata": {
        "id": "k_c2G0WjLTYn",
        "colab": {
          "base_uri": "https://localhost:8080/"
        },
        "outputId": "5cbd8a6f-3409-48d3-d391-cec068a69a93"
      },
      "source": [
        "!pip install git+https://github.com/huggingface/datasets.git\n",
        "!pip install git+https://github.com/huggingface/transformers.git\n",
        "!pip install soundfile\n",
        "!pip install jiwer"
      ],
      "execution_count": 7,
      "outputs": [
        {
          "output_type": "stream",
          "text": [
            "Collecting git+https://github.com/huggingface/datasets.git\n",
            "  Cloning https://github.com/huggingface/datasets.git to /tmp/pip-req-build-jdi4ejw6\n",
            "  Running command git clone -q https://github.com/huggingface/datasets.git /tmp/pip-req-build-jdi4ejw6\n",
            "Requirement already satisfied: numpy>=1.17 in /usr/local/lib/python3.7/dist-packages (from datasets==1.5.0.dev0) (1.19.5)\n",
            "Requirement already satisfied: pyarrow>=1.0.0 in /usr/local/lib/python3.7/dist-packages (from datasets==1.5.0.dev0) (3.0.0)\n",
            "Requirement already satisfied: dill in /usr/local/lib/python3.7/dist-packages (from datasets==1.5.0.dev0) (0.3.3)\n",
            "Requirement already satisfied: pandas in /usr/local/lib/python3.7/dist-packages (from datasets==1.5.0.dev0) (1.1.5)\n",
            "Requirement already satisfied: requests>=2.19.0 in /usr/local/lib/python3.7/dist-packages (from datasets==1.5.0.dev0) (2.23.0)\n",
            "Requirement already satisfied: tqdm<4.50.0,>=4.27 in /usr/local/lib/python3.7/dist-packages (from datasets==1.5.0.dev0) (4.41.1)\n",
            "Collecting xxhash\n",
            "\u001b[?25l  Downloading https://files.pythonhosted.org/packages/e7/27/1c0b37c53a7852f1c190ba5039404d27b3ae96a55f48203a74259f8213c9/xxhash-2.0.0-cp37-cp37m-manylinux2010_x86_64.whl (243kB)\n",
            "\u001b[K     |████████████████████████████████| 245kB 8.3MB/s \n",
            "\u001b[?25hRequirement already satisfied: multiprocess in /usr/local/lib/python3.7/dist-packages (from datasets==1.5.0.dev0) (0.70.11.1)\n",
            "Collecting fsspec\n",
            "\u001b[?25l  Downloading https://files.pythonhosted.org/packages/91/0d/a6bfee0ddf47b254286b9bd574e6f50978c69897647ae15b14230711806e/fsspec-0.8.7-py3-none-any.whl (103kB)\n",
            "\u001b[K     |████████████████████████████████| 112kB 16.1MB/s \n",
            "\u001b[?25hCollecting huggingface_hub<0.1.0\n",
            "  Downloading https://files.pythonhosted.org/packages/af/07/bf95f398e6598202d878332280f36e589512174882536eb20d792532a57d/huggingface_hub-0.0.7-py3-none-any.whl\n",
            "Requirement already satisfied: importlib_metadata in /usr/local/lib/python3.7/dist-packages (from datasets==1.5.0.dev0) (3.7.2)\n",
            "Requirement already satisfied: python-dateutil>=2.7.3 in /usr/local/lib/python3.7/dist-packages (from pandas->datasets==1.5.0.dev0) (2.8.1)\n",
            "Requirement already satisfied: pytz>=2017.2 in /usr/local/lib/python3.7/dist-packages (from pandas->datasets==1.5.0.dev0) (2018.9)\n",
            "Requirement already satisfied: urllib3!=1.25.0,!=1.25.1,<1.26,>=1.21.1 in /usr/local/lib/python3.7/dist-packages (from requests>=2.19.0->datasets==1.5.0.dev0) (1.24.3)\n",
            "Requirement already satisfied: idna<3,>=2.5 in /usr/local/lib/python3.7/dist-packages (from requests>=2.19.0->datasets==1.5.0.dev0) (2.10)\n",
            "Requirement already satisfied: certifi>=2017.4.17 in /usr/local/lib/python3.7/dist-packages (from requests>=2.19.0->datasets==1.5.0.dev0) (2020.12.5)\n",
            "Requirement already satisfied: chardet<4,>=3.0.2 in /usr/local/lib/python3.7/dist-packages (from requests>=2.19.0->datasets==1.5.0.dev0) (3.0.4)\n",
            "Requirement already satisfied: filelock in /usr/local/lib/python3.7/dist-packages (from huggingface_hub<0.1.0->datasets==1.5.0.dev0) (3.0.12)\n",
            "Requirement already satisfied: zipp>=0.5 in /usr/local/lib/python3.7/dist-packages (from importlib_metadata->datasets==1.5.0.dev0) (3.4.1)\n",
            "Requirement already satisfied: typing-extensions>=3.6.4; python_version < \"3.8\" in /usr/local/lib/python3.7/dist-packages (from importlib_metadata->datasets==1.5.0.dev0) (3.7.4.3)\n",
            "Requirement already satisfied: six>=1.5 in /usr/local/lib/python3.7/dist-packages (from python-dateutil>=2.7.3->pandas->datasets==1.5.0.dev0) (1.15.0)\n",
            "Building wheels for collected packages: datasets\n",
            "  Building wheel for datasets (setup.py) ... \u001b[?25l\u001b[?25hdone\n",
            "  Created wheel for datasets: filename=datasets-1.5.0.dev0-cp37-none-any.whl size=192875 sha256=591e48afcdea9e5dc76ca33669186e9bed81ee3b73fd48c2d8615e3aca3d4420\n",
            "  Stored in directory: /tmp/pip-ephem-wheel-cache-52iqj35x/wheels/3e/af/ff/d1cdb5d0f9cff6eba2042a16b477ada497e23f1a3b6950b928\n",
            "Successfully built datasets\n",
            "Installing collected packages: xxhash, fsspec, huggingface-hub, datasets\n",
            "Successfully installed datasets-1.5.0.dev0 fsspec-0.8.7 huggingface-hub-0.0.7 xxhash-2.0.0\n",
            "Collecting git+https://github.com/huggingface/transformers.git\n",
            "  Cloning https://github.com/huggingface/transformers.git to /tmp/pip-req-build-7zobhf6x\n",
            "  Running command git clone -q https://github.com/huggingface/transformers.git /tmp/pip-req-build-7zobhf6x\n",
            "  Installing build dependencies ... \u001b[?25l\u001b[?25hdone\n",
            "  Getting requirements to build wheel ... \u001b[?25l\u001b[?25hdone\n",
            "    Preparing wheel metadata ... \u001b[?25l\u001b[?25hdone\n",
            "Requirement already satisfied: filelock in /usr/local/lib/python3.7/dist-packages (from transformers==4.5.0.dev0) (3.0.12)\n",
            "Collecting sacremoses\n",
            "\u001b[?25l  Downloading https://files.pythonhosted.org/packages/7d/34/09d19aff26edcc8eb2a01bed8e98f13a1537005d31e95233fd48216eed10/sacremoses-0.0.43.tar.gz (883kB)\n",
            "\u001b[K     |████████████████████████████████| 890kB 8.2MB/s \n",
            "\u001b[?25hCollecting tokenizers<0.11,>=0.10.1\n",
            "\u001b[?25l  Downloading https://files.pythonhosted.org/packages/71/23/2ddc317b2121117bf34dd00f5b0de194158f2a44ee2bf5e47c7166878a97/tokenizers-0.10.1-cp37-cp37m-manylinux2010_x86_64.whl (3.2MB)\n",
            "\u001b[K     |████████████████████████████████| 3.2MB 27.4MB/s \n",
            "\u001b[?25hRequirement already satisfied: tqdm>=4.27 in /usr/local/lib/python3.7/dist-packages (from transformers==4.5.0.dev0) (4.41.1)\n",
            "Requirement already satisfied: regex!=2019.12.17 in /usr/local/lib/python3.7/dist-packages (from transformers==4.5.0.dev0) (2019.12.20)\n",
            "Requirement already satisfied: packaging in /usr/local/lib/python3.7/dist-packages (from transformers==4.5.0.dev0) (20.9)\n",
            "Requirement already satisfied: numpy>=1.17 in /usr/local/lib/python3.7/dist-packages (from transformers==4.5.0.dev0) (1.19.5)\n",
            "Requirement already satisfied: importlib-metadata; python_version < \"3.8\" in /usr/local/lib/python3.7/dist-packages (from transformers==4.5.0.dev0) (3.7.2)\n",
            "Requirement already satisfied: requests in /usr/local/lib/python3.7/dist-packages (from transformers==4.5.0.dev0) (2.23.0)\n",
            "Requirement already satisfied: six in /usr/local/lib/python3.7/dist-packages (from sacremoses->transformers==4.5.0.dev0) (1.15.0)\n",
            "Requirement already satisfied: click in /usr/local/lib/python3.7/dist-packages (from sacremoses->transformers==4.5.0.dev0) (7.1.2)\n",
            "Requirement already satisfied: joblib in /usr/local/lib/python3.7/dist-packages (from sacremoses->transformers==4.5.0.dev0) (1.0.1)\n",
            "Requirement already satisfied: pyparsing>=2.0.2 in /usr/local/lib/python3.7/dist-packages (from packaging->transformers==4.5.0.dev0) (2.4.7)\n",
            "Requirement already satisfied: zipp>=0.5 in /usr/local/lib/python3.7/dist-packages (from importlib-metadata; python_version < \"3.8\"->transformers==4.5.0.dev0) (3.4.1)\n",
            "Requirement already satisfied: typing-extensions>=3.6.4; python_version < \"3.8\" in /usr/local/lib/python3.7/dist-packages (from importlib-metadata; python_version < \"3.8\"->transformers==4.5.0.dev0) (3.7.4.3)\n",
            "Requirement already satisfied: certifi>=2017.4.17 in /usr/local/lib/python3.7/dist-packages (from requests->transformers==4.5.0.dev0) (2020.12.5)\n",
            "Requirement already satisfied: chardet<4,>=3.0.2 in /usr/local/lib/python3.7/dist-packages (from requests->transformers==4.5.0.dev0) (3.0.4)\n",
            "Requirement already satisfied: idna<3,>=2.5 in /usr/local/lib/python3.7/dist-packages (from requests->transformers==4.5.0.dev0) (2.10)\n",
            "Requirement already satisfied: urllib3!=1.25.0,!=1.25.1,<1.26,>=1.21.1 in /usr/local/lib/python3.7/dist-packages (from requests->transformers==4.5.0.dev0) (1.24.3)\n",
            "Building wheels for collected packages: transformers\n",
            "  Building wheel for transformers (PEP 517) ... \u001b[?25l\u001b[?25hdone\n",
            "  Created wheel for transformers: filename=transformers-4.5.0.dev0-cp37-none-any.whl size=1986137 sha256=b86e1334813804d85ddac03abd8cc033ea9bf20d9f1848f67719c8a2b28226b6\n",
            "  Stored in directory: /tmp/pip-ephem-wheel-cache-t9cc5ic7/wheels/33/eb/3b/4bf5dd835e865e472d4fc0754f35ac0edb08fe852e8f21655f\n",
            "Successfully built transformers\n",
            "Building wheels for collected packages: sacremoses\n",
            "  Building wheel for sacremoses (setup.py) ... \u001b[?25l\u001b[?25hdone\n",
            "  Created wheel for sacremoses: filename=sacremoses-0.0.43-cp37-none-any.whl size=893262 sha256=d4a283b7d829058df6acef2022eac7b02611098fa43ccfb8ef6dab019cf18a7b\n",
            "  Stored in directory: /root/.cache/pip/wheels/29/3c/fd/7ce5c3f0666dab31a50123635e6fb5e19ceb42ce38d4e58f45\n",
            "Successfully built sacremoses\n",
            "Installing collected packages: sacremoses, tokenizers, transformers\n",
            "Successfully installed sacremoses-0.0.43 tokenizers-0.10.1 transformers-4.5.0.dev0\n",
            "Requirement already satisfied: soundfile in /usr/local/lib/python3.7/dist-packages (0.10.3.post1)\n",
            "Requirement already satisfied: cffi>=1.0 in /usr/local/lib/python3.7/dist-packages (from soundfile) (1.14.5)\n",
            "Requirement already satisfied: pycparser in /usr/local/lib/python3.7/dist-packages (from cffi>=1.0->soundfile) (2.20)\n",
            "Collecting jiwer\n",
            "  Downloading https://files.pythonhosted.org/packages/8c/cc/fb9d3132cba1f6d393b7d5a9398d9d4c8fc033bc54668cf87e9b197a6d7a/jiwer-2.2.0-py3-none-any.whl\n",
            "Collecting python-Levenshtein\n",
            "\u001b[?25l  Downloading https://files.pythonhosted.org/packages/2a/dc/97f2b63ef0fa1fd78dcb7195aca577804f6b2b51e712516cc0e902a9a201/python-Levenshtein-0.12.2.tar.gz (50kB)\n",
            "\u001b[K     |████████████████████████████████| 51kB 4.3MB/s \n",
            "\u001b[?25hRequirement already satisfied: numpy in /usr/local/lib/python3.7/dist-packages (from jiwer) (1.19.5)\n",
            "Requirement already satisfied: setuptools in /usr/local/lib/python3.7/dist-packages (from python-Levenshtein->jiwer) (54.1.2)\n",
            "Building wheels for collected packages: python-Levenshtein\n",
            "  Building wheel for python-Levenshtein (setup.py) ... \u001b[?25l\u001b[?25hdone\n",
            "  Created wheel for python-Levenshtein: filename=python_Levenshtein-0.12.2-cp37-cp37m-linux_x86_64.whl size=149816 sha256=3d9e59d89d2c65828efaaabda52ffda9eb505409d10b2f3709b08b132c10c25a\n",
            "  Stored in directory: /root/.cache/pip/wheels/b3/26/73/4b48503bac73f01cf18e52cd250947049a7f339e940c5df8fc\n",
            "Successfully built python-Levenshtein\n",
            "Installing collected packages: python-Levenshtein, jiwer\n",
            "Successfully installed jiwer-2.2.0 python-Levenshtein-0.12.2\n"
          ],
          "name": "stdout"
        }
      ]
    },
    {
      "cell_type": "code",
      "metadata": {
        "id": "Yu7YXl8mLb1H",
        "colab": {
          "base_uri": "https://localhost:8080/"
        },
        "outputId": "1602867b-bcaf-4f07-dd37-42a482176c1d"
      },
      "source": [
        "gpu_info = !nvidia-smi\n",
        "gpu_info = '\\n'.join(gpu_info)\n",
        "if gpu_info.find('failed') >= 0:\n",
        "  print('Select the Runtime > \"Change runtime type\" menu to enable a GPU accelerator, ')\n",
        "  print('and then re-execute this cell.')\n",
        "else:\n",
        "  print(gpu_info)"
      ],
      "execution_count": 8,
      "outputs": [
        {
          "output_type": "stream",
          "text": [
            "Sun Mar 28 10:59:01 2021       \n",
            "+-----------------------------------------------------------------------------+\n",
            "| NVIDIA-SMI 460.56       Driver Version: 460.32.03    CUDA Version: 11.2     |\n",
            "|-------------------------------+----------------------+----------------------+\n",
            "| GPU  Name        Persistence-M| Bus-Id        Disp.A | Volatile Uncorr. ECC |\n",
            "| Fan  Temp  Perf  Pwr:Usage/Cap|         Memory-Usage | GPU-Util  Compute M. |\n",
            "|                               |                      |               MIG M. |\n",
            "|===============================+======================+======================|\n",
            "|   0  Tesla P100-PCIE...  Off  | 00000000:00:04.0 Off |                    0 |\n",
            "| N/A   40C    P0    28W / 250W |      0MiB / 16280MiB |      0%      Default |\n",
            "|                               |                      |                  N/A |\n",
            "+-------------------------------+----------------------+----------------------+\n",
            "                                                                               \n",
            "+-----------------------------------------------------------------------------+\n",
            "| Processes:                                                                  |\n",
            "|  GPU   GI   CI        PID   Type   Process name                  GPU Memory |\n",
            "|        ID   ID                                                   Usage      |\n",
            "|=============================================================================|\n",
            "|  No running processes found                                                 |\n",
            "+-----------------------------------------------------------------------------+\n"
          ],
          "name": "stdout"
        }
      ]
    },
    {
      "cell_type": "code",
      "metadata": {
        "colab": {
          "base_uri": "https://localhost:8080/",
          "height": 89,
          "referenced_widgets": [
            "0e7c3f051b754b48a6ba55e0d5a46c41",
            "214ee5dd5e1c477aac6172f0ced87ccd",
            "800184d2dbdf46108fbb2f349280a4f0",
            "b0cd9d55677f4314a3b835aaf644752e",
            "79651f59497b47229e2a6b4d59f1ccb8",
            "937e8a5106f84967b02181da53613681",
            "5eb8e9c708c54b49a0b7d00c093b1aa6",
            "eac7613ac04047b38b5dd7965aa10b35",
            "fe76ab117d0a4f0c9a1e20f585ce3e56",
            "7d24798c3d9848d6a768435ed884f765",
            "4b459604be814b54b08e4e3dd5232354",
            "290267c2524542888b0e9d4564dfcd9b",
            "b411bdf9292540dcbf84f6f36e658b63",
            "ea03ca81c95844468513336e9e49dbe8",
            "2bd77625ac744c009e85aed4e0c13255",
            "b1a8364e21fb41bc907193c08257aa92"
          ]
        },
        "id": "6-LTkz80LsdX",
        "outputId": "7114931d-44c1-414b-f3d1-20987d0768a8"
      },
      "source": [
        "from datasets import load_dataset, load_metric\n",
        "common_voice_train,common_voice_test = load_dataset('csv', data_files={'train': 'train.csv','test': 'test.csv'},error_bad_lines=False,encoding='utf-8',split=['train', 'test'])"
      ],
      "execution_count": 9,
      "outputs": [
        {
          "output_type": "stream",
          "text": [
            "Using custom data configuration default-d5d810daf4d9e6c9\n"
          ],
          "name": "stderr"
        },
        {
          "output_type": "stream",
          "text": [
            "Downloading and preparing dataset csv/default (download: Unknown size, generated: Unknown size, post-processed: Unknown size, total: Unknown size) to /root/.cache/huggingface/datasets/csv/default-d5d810daf4d9e6c9/0.0.0/2dc6629a9ff6b5697d82c25b73731dd440507a69cbce8b425db50b751e8fcfd0...\n"
          ],
          "name": "stdout"
        },
        {
          "output_type": "display_data",
          "data": {
            "application/vnd.jupyter.widget-view+json": {
              "model_id": "0e7c3f051b754b48a6ba55e0d5a46c41",
              "version_minor": 0,
              "version_major": 2
            },
            "text/plain": [
              "HBox(children=(FloatProgress(value=1.0, bar_style='info', max=1.0), HTML(value='')))"
            ]
          },
          "metadata": {
            "tags": []
          }
        },
        {
          "output_type": "stream",
          "text": [
            "\r"
          ],
          "name": "stdout"
        },
        {
          "output_type": "display_data",
          "data": {
            "application/vnd.jupyter.widget-view+json": {
              "model_id": "fe76ab117d0a4f0c9a1e20f585ce3e56",
              "version_minor": 0,
              "version_major": 2
            },
            "text/plain": [
              "HBox(children=(FloatProgress(value=1.0, bar_style='info', max=1.0), HTML(value='')))"
            ]
          },
          "metadata": {
            "tags": []
          }
        },
        {
          "output_type": "stream",
          "text": [
            "\rDataset csv downloaded and prepared to /root/.cache/huggingface/datasets/csv/default-d5d810daf4d9e6c9/0.0.0/2dc6629a9ff6b5697d82c25b73731dd440507a69cbce8b425db50b751e8fcfd0. Subsequent calls will reuse this data.\n"
          ],
          "name": "stdout"
        }
      ]
    },
    {
      "cell_type": "code",
      "metadata": {
        "colab": {
          "base_uri": "https://localhost:8080/"
        },
        "id": "MDx9pUMyLyZu",
        "outputId": "03b6a1da-df77-4753-9a0f-831a4e30a3ca"
      },
      "source": [
        "common_voice_test"
      ],
      "execution_count": 10,
      "outputs": [
        {
          "output_type": "execute_result",
          "data": {
            "text/plain": [
              "Dataset({\n",
              "    features: ['path', 'sentence'],\n",
              "    num_rows: 462\n",
              "})"
            ]
          },
          "metadata": {
            "tags": []
          },
          "execution_count": 10
        }
      ]
    },
    {
      "cell_type": "code",
      "metadata": {
        "colab": {
          "base_uri": "https://localhost:8080/"
        },
        "id": "F0TPGXHuLzAS",
        "outputId": "920a7011-d76a-4b12-9520-984ac18af072"
      },
      "source": [
        "common_voice_train"
      ],
      "execution_count": 11,
      "outputs": [
        {
          "output_type": "execute_result",
          "data": {
            "text/plain": [
              "Dataset({\n",
              "    features: ['path', 'sentence'],\n",
              "    num_rows: 3410\n",
              "})"
            ]
          },
          "metadata": {
            "tags": []
          },
          "execution_count": 11
        }
      ]
    },
    {
      "cell_type": "code",
      "metadata": {
        "colab": {
          "base_uri": "https://localhost:8080/",
          "height": 355
        },
        "id": "PC3aJ4KdL4F5",
        "outputId": "6c21c65a-d264-44ff-870a-dadc69e95224"
      },
      "source": [
        "from datasets import ClassLabel\n",
        "import random\n",
        "import pandas as pd\n",
        "from IPython.display import display, HTML\n",
        "\n",
        "def show_random_elements(dataset, num_examples=10):\n",
        "    assert num_examples <= len(dataset), \"Can't pick more elements than there are in the dataset.\"\n",
        "    picks = []\n",
        "    for _ in range(num_examples):\n",
        "        pick = random.randint(0, len(dataset)-1)\n",
        "        while pick in picks:\n",
        "            pick = random.randint(0, len(dataset)-1)\n",
        "        picks.append(pick)\n",
        "\n",
        "    df = pd.DataFrame(dataset[picks])\n",
        "    display(HTML(df.to_html()))\n",
        "\n",
        "show_random_elements(common_voice_train.remove_columns([\"path\"]))"
      ],
      "execution_count": 12,
      "outputs": [
        {
          "output_type": "display_data",
          "data": {
            "text/html": [
              "<table border=\"1\" class=\"dataframe\">\n",
              "  <thead>\n",
              "    <tr style=\"text-align: right;\">\n",
              "      <th></th>\n",
              "      <th>sentence</th>\n",
              "    </tr>\n",
              "  </thead>\n",
              "  <tbody>\n",
              "    <tr>\n",
              "      <th>0</th>\n",
              "      <td>અંધારવાડીદુર ગામમાં ખાસ કરીને આદિવાસી લોકો વસે છે.</td>\n",
              "    </tr>\n",
              "    <tr>\n",
              "      <th>1</th>\n",
              "      <td>જેમાં અંગ્રેજી આધારિત ક્રિઓલ ભાષા બોલનારાથી માંડીને આધુનિક અંગ્રેજી સ્વરૂપ ધરાવનારી ભાષા બોલનારા લોકોનો સમાવેશ થાય છે.</td>\n",
              "    </tr>\n",
              "    <tr>\n",
              "      <th>2</th>\n",
              "      <td>આની વચ્ચે ઉજ્જૈનમાં વિદ્રોહ ફાટી નિકળ્યો એટલે નિર્વાસિત અશોક્ને પરત બોલાવવામાં આવ્યો.</td>\n",
              "    </tr>\n",
              "    <tr>\n",
              "      <th>3</th>\n",
              "      <td>અભાપુરા ગામના લોકોનો મુખ્ય વ્યવસાય ખેતી છે.</td>\n",
              "    </tr>\n",
              "    <tr>\n",
              "      <th>4</th>\n",
              "      <td>એક દિવસ તેને સ્વપ્ન આવ્યુ કે તેનો પુત્ર ખૂબ મોટો સમ્રાટ બનશે.</td>\n",
              "    </tr>\n",
              "    <tr>\n",
              "      <th>5</th>\n",
              "      <td>આ લિપિ અમેરીકાની માયાલિપિનું એક વિકસિત સ્વરૂપ છે</td>\n",
              "    </tr>\n",
              "    <tr>\n",
              "      <th>6</th>\n",
              "      <td>પરંપરાગત રીતે પાયો નાખવાને બદલે તારની જાળી અને સિમેન્ટ નો ઉપયોગ કરીને તળિયું બનાવવામાં આવ્યું.</td>\n",
              "    </tr>\n",
              "    <tr>\n",
              "      <th>7</th>\n",
              "      <td>વળાંક પર, બહાર નીકળવાનો બીજો માર્ગ લો</td>\n",
              "    </tr>\n",
              "    <tr>\n",
              "      <th>8</th>\n",
              "      <td>અરેઠી ગામમાં ખાસ કરીને આદિવાસી લોકો વસે છે.</td>\n",
              "    </tr>\n",
              "    <tr>\n",
              "      <th>9</th>\n",
              "      <td>આઇઝેક ન્યૂટન્સ પેપર્સ એન્ડ લેટર્સ ઓન નેચરલ ફિલોસોફી એન્ડ રિલેટેડ ડોક્યુમેન્ટ્સ</td>\n",
              "    </tr>\n",
              "  </tbody>\n",
              "</table>"
            ],
            "text/plain": [
              "<IPython.core.display.HTML object>"
            ]
          },
          "metadata": {
            "tags": []
          }
        }
      ]
    },
    {
      "cell_type": "code",
      "metadata": {
        "id": "pYC6shn8Q41p"
      },
      "source": [
        "import re\n",
        "chars_to_ignore_regex = '[\\,\\?\\.\\!\\-\\;\\:\\\"\\‘\\’]'\n",
        "\n",
        "def remove_special_characters(batch):\n",
        "    batch[\"sentence\"] = re.sub(chars_to_ignore_regex, '', batch[\"sentence\"]).lower()\n",
        "    return batch"
      ],
      "execution_count": 13,
      "outputs": []
    },
    {
      "cell_type": "code",
      "metadata": {
        "colab": {
          "base_uri": "https://localhost:8080/",
          "height": 116,
          "referenced_widgets": [
            "8579341fa94946999bbfb24e224c31d0",
            "64f55abb3f934551ab7be3eb01daa57c",
            "01f112052f0c4bceab83515d9a8f67ec",
            "351cddff89b747b888d33943711fec41",
            "5a995b18862a46d0ae43d71c98b8b523",
            "d8a9919f2f734507b91d91e40770b3f3",
            "b3c1384d9f164fa68f6dcb87e78147f1",
            "0e3108bd2ad5406480c7d459f93898f7",
            "888c56e1063248338be9e452a7a01d99",
            "531cfcbbc47a49cbb61cf84efea4bfa1",
            "f1ff9c8e80ee4ce09721b9d105f57f48",
            "0d3b9f2b174e4aaa856bb621ff1701a2",
            "3a0c9bfeca3b4b40a6f7a74271863347",
            "c69f60ef74e443059bdeca6616fce542",
            "e01fe6b860e24fbbbba6d37e6e0e02f1",
            "cbdb84082a384cd6b27c2d56270cc8db"
          ]
        },
        "id": "8N2ry_G0Raie",
        "outputId": "94096502-3b77-4fc0-c55e-3e600f06a739"
      },
      "source": [
        "common_voice_train = common_voice_train.map(remove_special_characters)\n",
        "common_voice_test = common_voice_test.map(remove_special_characters)"
      ],
      "execution_count": 14,
      "outputs": [
        {
          "output_type": "display_data",
          "data": {
            "application/vnd.jupyter.widget-view+json": {
              "model_id": "8579341fa94946999bbfb24e224c31d0",
              "version_minor": 0,
              "version_major": 2
            },
            "text/plain": [
              "HBox(children=(FloatProgress(value=0.0, max=3410.0), HTML(value='')))"
            ]
          },
          "metadata": {
            "tags": []
          }
        },
        {
          "output_type": "stream",
          "text": [
            "\n"
          ],
          "name": "stdout"
        },
        {
          "output_type": "display_data",
          "data": {
            "application/vnd.jupyter.widget-view+json": {
              "model_id": "888c56e1063248338be9e452a7a01d99",
              "version_minor": 0,
              "version_major": 2
            },
            "text/plain": [
              "HBox(children=(FloatProgress(value=0.0, max=462.0), HTML(value='')))"
            ]
          },
          "metadata": {
            "tags": []
          }
        },
        {
          "output_type": "stream",
          "text": [
            "\n"
          ],
          "name": "stdout"
        }
      ]
    },
    {
      "cell_type": "code",
      "metadata": {
        "colab": {
          "base_uri": "https://localhost:8080/",
          "height": 355
        },
        "id": "5BcFZbaQR4FI",
        "outputId": "a02400c8-66f2-41f2-ad30-c663f84924c1"
      },
      "source": [
        "show_random_elements(common_voice_train.remove_columns([\"path\"]))"
      ],
      "execution_count": 15,
      "outputs": [
        {
          "output_type": "display_data",
          "data": {
            "text/html": [
              "<table border=\"1\" class=\"dataframe\">\n",
              "  <thead>\n",
              "    <tr style=\"text-align: right;\">\n",
              "      <th></th>\n",
              "      <th>sentence</th>\n",
              "    </tr>\n",
              "  </thead>\n",
              "  <tbody>\n",
              "    <tr>\n",
              "      <th>0</th>\n",
              "      <td>અખંડ આનંદ માસિક પ્રોઢવાચક વર્ગને સાત્વિક વાંચન પૂરું પાડે છે</td>\n",
              "    </tr>\n",
              "    <tr>\n",
              "      <th>1</th>\n",
              "      <td>છેવટે એક્પણ શસ્ત્ર ન રહેતાં દુશાસનનો પુત્ર ગદા વડે તેનું મસ્તક કચડી નાખે છે</td>\n",
              "    </tr>\n",
              "    <tr>\n",
              "      <th>2</th>\n",
              "      <td>અનેક નવા કલાકારોએ અતિવાસ્તવવાદી બેનરોનો પોતાના માટે ચોક્કસપણે ઉપયોગ લીધો છે</td>\n",
              "    </tr>\n",
              "    <tr>\n",
              "      <th>3</th>\n",
              "      <td>પણ કૃષ્ણએ અર્જુનની પડખે રહી તેની રક્ષા કરવાનું નક્કી કર્યું</td>\n",
              "    </tr>\n",
              "    <tr>\n",
              "      <th>4</th>\n",
              "      <td>એક પર્યાયમાં હોવું કે બીજામાં એ કર્મોની વિચિત્રતા છે</td>\n",
              "    </tr>\n",
              "    <tr>\n",
              "      <th>5</th>\n",
              "      <td>પરિસ્થિતિની ગંભીરતા સમજીને તેઓ એક છેડા તરફ પોતાની રિકોઈલલેસ તોપ જીપ પર લઈને ગયા</td>\n",
              "    </tr>\n",
              "    <tr>\n",
              "      <th>6</th>\n",
              "      <td>આકાશવાણી થઈ અને તેમાં અર્જુન અને કૃષ્ણને વિજયી ઠરાવાયા અને ઈંદ્રને ચાલ્યા જવા જણાવ્યું</td>\n",
              "    </tr>\n",
              "    <tr>\n",
              "      <th>7</th>\n",
              "      <td>એટલે તે ક્ષેત્ર વિદ્રોહ માટે ઉપયોગી હતું</td>\n",
              "    </tr>\n",
              "    <tr>\n",
              "      <th>8</th>\n",
              "      <td>પણ તે જંગલમાં તક્ષક નામના નાગરાજ રહેતા હતાં તે ઈંદ્રના મિત્ર હતાં</td>\n",
              "    </tr>\n",
              "    <tr>\n",
              "      <th>9</th>\n",
              "      <td>અતુલ વાસન ભારત દેશના આંતરરાષ્ટ્રીય ક્રિકેટ રમતા ખેલાડી છે</td>\n",
              "    </tr>\n",
              "  </tbody>\n",
              "</table>"
            ],
            "text/plain": [
              "<IPython.core.display.HTML object>"
            ]
          },
          "metadata": {
            "tags": []
          }
        }
      ]
    },
    {
      "cell_type": "code",
      "metadata": {
        "colab": {
          "base_uri": "https://localhost:8080/",
          "height": 116,
          "referenced_widgets": [
            "85cd388ddf5a4455b09eae043e4f323a",
            "366873bad98348b58efe96ed39a9ce5d",
            "22f9bbc86ecd456ca144700b3cbd8972",
            "58437d2aa6b54c81b8e05a2007ec5ab8",
            "72baad22d29247cc8dc5092844f0ca67",
            "55f6e039bf984e0f8ae065087935fbff",
            "1ed250578cd14b8e96335b9a6bf7e2be",
            "a065fe6e24a04c74b8f7756c7b7e1aa0",
            "1032edc8f84a4447a908eaa138a59f4f",
            "213fcebed8ee4aa88def1cb57fb3e1b1",
            "ac2d1ebcaabc4b8981e59bfde81d13ed",
            "09be5d0aeae74a7bb92bdc10a2557727",
            "2f6f8ee8d43347818f174a70c2575740",
            "792221068fa44973ae714faa66abb9df",
            "e102ae5ecd464ef08b977c4c40615918",
            "3891478d7acf422394d90acbed6ee54e"
          ]
        },
        "id": "RljkjgeYSDEn",
        "outputId": "9dd36467-8168-456f-b1f0-199c7d113af1"
      },
      "source": [
        "def extract_all_chars(batch):\n",
        "  all_text = \" \".join(batch[\"sentence\"])\n",
        "  vocab = list(set(all_text))\n",
        "  return {\"vocab\": [vocab], \"all_text\": [all_text]}\n",
        "\n",
        "\n",
        "vocab_train = common_voice_train.map(extract_all_chars, batched=True, batch_size=-1, keep_in_memory=True, remove_columns=common_voice_train.column_names)\n",
        "vocab_test = common_voice_test.map(extract_all_chars, batched=True, batch_size=-1, keep_in_memory=True, remove_columns=common_voice_test.column_names)"
      ],
      "execution_count": 16,
      "outputs": [
        {
          "output_type": "display_data",
          "data": {
            "application/vnd.jupyter.widget-view+json": {
              "model_id": "85cd388ddf5a4455b09eae043e4f323a",
              "version_minor": 0,
              "version_major": 2
            },
            "text/plain": [
              "HBox(children=(FloatProgress(value=0.0, max=1.0), HTML(value='')))"
            ]
          },
          "metadata": {
            "tags": []
          }
        },
        {
          "output_type": "stream",
          "text": [
            "\n"
          ],
          "name": "stdout"
        },
        {
          "output_type": "display_data",
          "data": {
            "application/vnd.jupyter.widget-view+json": {
              "model_id": "1032edc8f84a4447a908eaa138a59f4f",
              "version_minor": 0,
              "version_major": 2
            },
            "text/plain": [
              "HBox(children=(FloatProgress(value=0.0, max=1.0), HTML(value='')))"
            ]
          },
          "metadata": {
            "tags": []
          }
        },
        {
          "output_type": "stream",
          "text": [
            "\n"
          ],
          "name": "stdout"
        }
      ]
    },
    {
      "cell_type": "code",
      "metadata": {
        "colab": {
          "base_uri": "https://localhost:8080/"
        },
        "id": "8-d2YxPZTQIN",
        "outputId": "9a4fc062-85be-4175-96cf-35f3b6ab4292"
      },
      "source": [
        "vocab_train"
      ],
      "execution_count": 17,
      "outputs": [
        {
          "output_type": "execute_result",
          "data": {
            "text/plain": [
              "Dataset({\n",
              "    features: ['all_text', 'vocab'],\n",
              "    num_rows: 1\n",
              "})"
            ]
          },
          "metadata": {
            "tags": []
          },
          "execution_count": 17
        }
      ]
    },
    {
      "cell_type": "code",
      "metadata": {
        "id": "XfGd2gEdSw4s"
      },
      "source": [
        "vocab_list = list(set(vocab_train[\"vocab\"][0]) | set(vocab_test[\"vocab\"][0]))"
      ],
      "execution_count": 18,
      "outputs": []
    },
    {
      "cell_type": "code",
      "metadata": {
        "colab": {
          "base_uri": "https://localhost:8080/"
        },
        "id": "LTWIYB39TvwF",
        "outputId": "0af76a9f-fcec-46a0-926c-d5d1c928ab5f"
      },
      "source": [
        "vocab_list"
      ],
      "execution_count": 19,
      "outputs": [
        {
          "output_type": "execute_result",
          "data": {
            "text/plain": [
              "['ય',\n",
              " 'ભ',\n",
              " 'િ',\n",
              " 'ળ',\n",
              " 'ૢ',\n",
              " 'ક',\n",
              " '૩',\n",
              " 'ઋ',\n",
              " 'ઉ',\n",
              " 'ં',\n",
              " 'ઁ',\n",
              " 'દ',\n",
              " 'ગ',\n",
              " '૨',\n",
              " 'અ',\n",
              " 'ઘ',\n",
              " 'ા',\n",
              " 'થ',\n",
              " 'ટ',\n",
              " 'વ',\n",
              " 'ૃ',\n",
              " 'ઠ',\n",
              " 'ઝ',\n",
              " 'ડ',\n",
              " 'ૈ',\n",
              " 'ૌ',\n",
              " 'છ',\n",
              " 'ન',\n",
              " 'ૂ',\n",
              " 'જ',\n",
              " 'ો',\n",
              " 'ે',\n",
              " 'ષ',\n",
              " '૧',\n",
              " 'લ',\n",
              " 'ઇ',\n",
              " 'l',\n",
              " 'u',\n",
              " 'ણ',\n",
              " 'ઢ',\n",
              " 'શ',\n",
              " 'ઊ',\n",
              " '\\u200c',\n",
              " 'ૅ',\n",
              " 't',\n",
              " 'ઑ',\n",
              " 'હ',\n",
              " 'બ',\n",
              " '_',\n",
              " '૯',\n",
              " 'આ',\n",
              " 'ુ',\n",
              " \"'\",\n",
              " 'ૠ',\n",
              " 'ઞ',\n",
              " 'ચ',\n",
              " 'ર',\n",
              " 'ૉ',\n",
              " 'ઐ',\n",
              " 'ઈ',\n",
              " 'ફ',\n",
              " 'ધ',\n",
              " 'ત',\n",
              " 'ી',\n",
              " 'ખ',\n",
              " 'સ',\n",
              " '૦',\n",
              " '2',\n",
              " 'પ',\n",
              " '\\u200d',\n",
              " '૬',\n",
              " 'મ',\n",
              " 'ઓ',\n",
              " 'g',\n",
              " '૮',\n",
              " '0',\n",
              " '૭',\n",
              " '્',\n",
              " 'e',\n",
              " '૫',\n",
              " 'ઃ',\n",
              " 'ઔ',\n",
              " '઼',\n",
              " 'r',\n",
              " 'એ',\n",
              " ' ']"
            ]
          },
          "metadata": {
            "tags": []
          },
          "execution_count": 19
        }
      ]
    },
    {
      "cell_type": "code",
      "metadata": {
        "colab": {
          "base_uri": "https://localhost:8080/"
        },
        "id": "aeJQ_OYnTx3K",
        "outputId": "4119202f-1655-4d11-83af-925d95dbd28f"
      },
      "source": [
        "vocab_dict = {v: k for k, v in enumerate(vocab_list)}\n",
        "vocab_dict"
      ],
      "execution_count": 20,
      "outputs": [
        {
          "output_type": "execute_result",
          "data": {
            "text/plain": [
              "{' ': 85,\n",
              " \"'\": 52,\n",
              " '0': 75,\n",
              " '2': 67,\n",
              " '_': 48,\n",
              " 'e': 78,\n",
              " 'g': 73,\n",
              " 'l': 36,\n",
              " 'r': 83,\n",
              " 't': 44,\n",
              " 'u': 37,\n",
              " 'ઁ': 10,\n",
              " 'ં': 9,\n",
              " 'ઃ': 80,\n",
              " 'અ': 14,\n",
              " 'આ': 50,\n",
              " 'ઇ': 35,\n",
              " 'ઈ': 59,\n",
              " 'ઉ': 8,\n",
              " 'ઊ': 41,\n",
              " 'ઋ': 7,\n",
              " 'એ': 84,\n",
              " 'ઐ': 58,\n",
              " 'ઑ': 45,\n",
              " 'ઓ': 72,\n",
              " 'ઔ': 81,\n",
              " 'ક': 5,\n",
              " 'ખ': 64,\n",
              " 'ગ': 12,\n",
              " 'ઘ': 15,\n",
              " 'ચ': 55,\n",
              " 'છ': 26,\n",
              " 'જ': 29,\n",
              " 'ઝ': 22,\n",
              " 'ઞ': 54,\n",
              " 'ટ': 18,\n",
              " 'ઠ': 21,\n",
              " 'ડ': 23,\n",
              " 'ઢ': 39,\n",
              " 'ણ': 38,\n",
              " 'ત': 62,\n",
              " 'થ': 17,\n",
              " 'દ': 11,\n",
              " 'ધ': 61,\n",
              " 'ન': 27,\n",
              " 'પ': 68,\n",
              " 'ફ': 60,\n",
              " 'બ': 47,\n",
              " 'ભ': 1,\n",
              " 'મ': 71,\n",
              " 'ય': 0,\n",
              " 'ર': 56,\n",
              " 'લ': 34,\n",
              " 'ળ': 3,\n",
              " 'વ': 19,\n",
              " 'શ': 40,\n",
              " 'ષ': 32,\n",
              " 'સ': 65,\n",
              " 'હ': 46,\n",
              " '઼': 82,\n",
              " 'ા': 16,\n",
              " 'િ': 2,\n",
              " 'ી': 63,\n",
              " 'ુ': 51,\n",
              " 'ૂ': 28,\n",
              " 'ૃ': 20,\n",
              " 'ૅ': 43,\n",
              " 'ે': 31,\n",
              " 'ૈ': 24,\n",
              " 'ૉ': 57,\n",
              " 'ો': 30,\n",
              " 'ૌ': 25,\n",
              " '્': 77,\n",
              " 'ૠ': 53,\n",
              " 'ૢ': 4,\n",
              " '૦': 66,\n",
              " '૧': 33,\n",
              " '૨': 13,\n",
              " '૩': 6,\n",
              " '૫': 79,\n",
              " '૬': 70,\n",
              " '૭': 76,\n",
              " '૮': 74,\n",
              " '૯': 49,\n",
              " '\\u200c': 42,\n",
              " '\\u200d': 69}"
            ]
          },
          "metadata": {
            "tags": []
          },
          "execution_count": 20
        }
      ]
    },
    {
      "cell_type": "code",
      "metadata": {
        "id": "0_8c_S5-UHqi"
      },
      "source": [
        "vocab_dict[\"|\"] = vocab_dict[\" \"]\n",
        "del vocab_dict[\" \"]"
      ],
      "execution_count": 21,
      "outputs": []
    },
    {
      "cell_type": "code",
      "metadata": {
        "colab": {
          "base_uri": "https://localhost:8080/"
        },
        "id": "7sOrjCn_UNeB",
        "outputId": "e7eecca9-98c1-42ed-a56a-83d1b0d98a3b"
      },
      "source": [
        "vocab_dict[\"[UNK]\"] = len(vocab_dict)\n",
        "vocab_dict[\"[PAD]\"] = len(vocab_dict)\n",
        "vocab_dict"
      ],
      "execution_count": 22,
      "outputs": [
        {
          "output_type": "execute_result",
          "data": {
            "text/plain": [
              "{\"'\": 52,\n",
              " '0': 75,\n",
              " '2': 67,\n",
              " '[PAD]': 87,\n",
              " '[UNK]': 86,\n",
              " '_': 48,\n",
              " 'e': 78,\n",
              " 'g': 73,\n",
              " 'l': 36,\n",
              " 'r': 83,\n",
              " 't': 44,\n",
              " 'u': 37,\n",
              " '|': 85,\n",
              " 'ઁ': 10,\n",
              " 'ં': 9,\n",
              " 'ઃ': 80,\n",
              " 'અ': 14,\n",
              " 'આ': 50,\n",
              " 'ઇ': 35,\n",
              " 'ઈ': 59,\n",
              " 'ઉ': 8,\n",
              " 'ઊ': 41,\n",
              " 'ઋ': 7,\n",
              " 'એ': 84,\n",
              " 'ઐ': 58,\n",
              " 'ઑ': 45,\n",
              " 'ઓ': 72,\n",
              " 'ઔ': 81,\n",
              " 'ક': 5,\n",
              " 'ખ': 64,\n",
              " 'ગ': 12,\n",
              " 'ઘ': 15,\n",
              " 'ચ': 55,\n",
              " 'છ': 26,\n",
              " 'જ': 29,\n",
              " 'ઝ': 22,\n",
              " 'ઞ': 54,\n",
              " 'ટ': 18,\n",
              " 'ઠ': 21,\n",
              " 'ડ': 23,\n",
              " 'ઢ': 39,\n",
              " 'ણ': 38,\n",
              " 'ત': 62,\n",
              " 'થ': 17,\n",
              " 'દ': 11,\n",
              " 'ધ': 61,\n",
              " 'ન': 27,\n",
              " 'પ': 68,\n",
              " 'ફ': 60,\n",
              " 'બ': 47,\n",
              " 'ભ': 1,\n",
              " 'મ': 71,\n",
              " 'ય': 0,\n",
              " 'ર': 56,\n",
              " 'લ': 34,\n",
              " 'ળ': 3,\n",
              " 'વ': 19,\n",
              " 'શ': 40,\n",
              " 'ષ': 32,\n",
              " 'સ': 65,\n",
              " 'હ': 46,\n",
              " '઼': 82,\n",
              " 'ા': 16,\n",
              " 'િ': 2,\n",
              " 'ી': 63,\n",
              " 'ુ': 51,\n",
              " 'ૂ': 28,\n",
              " 'ૃ': 20,\n",
              " 'ૅ': 43,\n",
              " 'ે': 31,\n",
              " 'ૈ': 24,\n",
              " 'ૉ': 57,\n",
              " 'ો': 30,\n",
              " 'ૌ': 25,\n",
              " '્': 77,\n",
              " 'ૠ': 53,\n",
              " 'ૢ': 4,\n",
              " '૦': 66,\n",
              " '૧': 33,\n",
              " '૨': 13,\n",
              " '૩': 6,\n",
              " '૫': 79,\n",
              " '૬': 70,\n",
              " '૭': 76,\n",
              " '૮': 74,\n",
              " '૯': 49,\n",
              " '\\u200c': 42,\n",
              " '\\u200d': 69}"
            ]
          },
          "metadata": {
            "tags": []
          },
          "execution_count": 22
        }
      ]
    },
    {
      "cell_type": "code",
      "metadata": {
        "colab": {
          "base_uri": "https://localhost:8080/"
        },
        "id": "BsutTriuURKH",
        "outputId": "1eba22eb-ceb3-4a80-abb2-7c40c476ea4b"
      },
      "source": [
        "len(vocab_dict)"
      ],
      "execution_count": 23,
      "outputs": [
        {
          "output_type": "execute_result",
          "data": {
            "text/plain": [
              "88"
            ]
          },
          "metadata": {
            "tags": []
          },
          "execution_count": 23
        }
      ]
    },
    {
      "cell_type": "code",
      "metadata": {
        "id": "WkLXoC6pU0ps"
      },
      "source": [
        "import json\n",
        "with open('vocab.json', 'w') as vocab_file:\n",
        "    json.dump(vocab_dict, vocab_file)"
      ],
      "execution_count": 24,
      "outputs": []
    },
    {
      "cell_type": "code",
      "metadata": {
        "id": "QiCZ7-M6U3At"
      },
      "source": [
        "from transformers import Wav2Vec2CTCTokenizer\n",
        "\n",
        "tokenizer = Wav2Vec2CTCTokenizer(\"./vocab.json\", unk_token=\"[UNK]\", pad_token=\"[PAD]\", word_delimiter_token=\"|\")"
      ],
      "execution_count": 25,
      "outputs": []
    },
    {
      "cell_type": "code",
      "metadata": {
        "id": "zJsCO3wrVCkH"
      },
      "source": [
        "from transformers import Wav2Vec2FeatureExtractor\n",
        "\n",
        "feature_extractor = Wav2Vec2FeatureExtractor(feature_size=1, sampling_rate=16000, padding_value=0.0, do_normalize=True, return_attention_mask=False)"
      ],
      "execution_count": 26,
      "outputs": []
    },
    {
      "cell_type": "code",
      "metadata": {
        "id": "rwOtRHCXVqts"
      },
      "source": [
        "from transformers import Wav2Vec2Processor\n",
        "\n",
        "processor = Wav2Vec2Processor(feature_extractor=feature_extractor, tokenizer=tokenizer)"
      ],
      "execution_count": 27,
      "outputs": []
    },
    {
      "cell_type": "code",
      "metadata": {
        "id": "XKrT1wemTQ2r"
      },
      "source": [
        "processor.save_pretrained(\"/content/drive/MyDrive/gujarati-dataset/clip/wav2vec2-base-gujarati-demo\")"
      ],
      "execution_count": 28,
      "outputs": []
    },
    {
      "cell_type": "code",
      "metadata": {
        "colab": {
          "base_uri": "https://localhost:8080/"
        },
        "id": "EaYIxqmtV4UD",
        "outputId": "d0b409f0-e3b7-44d9-c2bb-b53012f0e542"
      },
      "source": [
        "print(common_voice_train[0])"
      ],
      "execution_count": 29,
      "outputs": [
        {
          "output_type": "stream",
          "text": [
            "{'path': 'guf_01063_00076624578.wav', 'sentence': 'જીવનના શરૂઆતના ગાળામાં તે સોનીનો વ્યવસાય કરતા હતા'}\n"
          ],
          "name": "stdout"
        }
      ]
    },
    {
      "cell_type": "code",
      "metadata": {
        "colab": {
          "base_uri": "https://localhost:8080/"
        },
        "id": "JY2_LvGfcGdz",
        "outputId": "09002b57-5372-4de6-fda6-5d1cbef48cfd"
      },
      "source": [
        "cd clip/"
      ],
      "execution_count": 30,
      "outputs": [
        {
          "output_type": "stream",
          "text": [
            "/content/drive/MyDrive/gujarati-dataset/clip\n"
          ],
          "name": "stdout"
        }
      ]
    },
    {
      "cell_type": "code",
      "metadata": {
        "id": "Y1Ygi_NZV_lG"
      },
      "source": [
        "import soundfile as sf\n",
        "\n",
        "def speech_file_to_array_fn(batch):\n",
        "    speech_array, sampling_rate = sf.read(batch[\"path\"])\n",
        "    batch[\"speech\"] = speech_array\n",
        "    batch[\"sampling_rate\"] = sampling_rate\n",
        "    batch[\"target_text\"] = batch[\"sentence\"]\n",
        "    return batch"
      ],
      "execution_count": 31,
      "outputs": []
    },
    {
      "cell_type": "code",
      "metadata": {
        "colab": {
          "base_uri": "https://localhost:8080/",
          "height": 67,
          "referenced_widgets": [
            "7b9cfe154ea44918a15d3321cc75073a",
            "890b310985e843e8b9cd014488511abc",
            "9a051eb67dfa4832afe742d7c03e602f",
            "3d1a45f4606e47228b26e38cbf6f8638",
            "2d3853f2e10948a38fb80004f9a96569",
            "782bed23300c4545a83888a1cea4c7dc",
            "e8a7dd4ce485440da1578c8aa6dd7538",
            "73a6f751921b48b98d5b4d71fcd49e6c"
          ]
        },
        "id": "kI1fR6LCWOt8",
        "outputId": "e766c199-f8c9-4382-9f66-4a9d770307cb"
      },
      "source": [
        "common_voice_train = common_voice_train.map(speech_file_to_array_fn, remove_columns=common_voice_train.column_names, num_proc=1)"
      ],
      "execution_count": 32,
      "outputs": [
        {
          "output_type": "display_data",
          "data": {
            "application/vnd.jupyter.widget-view+json": {
              "model_id": "7b9cfe154ea44918a15d3321cc75073a",
              "version_minor": 0,
              "version_major": 2
            },
            "text/plain": [
              "HBox(children=(FloatProgress(value=0.0, max=3410.0), HTML(value='')))"
            ]
          },
          "metadata": {
            "tags": []
          }
        },
        {
          "output_type": "stream",
          "text": [
            "\n"
          ],
          "name": "stdout"
        }
      ]
    },
    {
      "cell_type": "code",
      "metadata": {
        "id": "cIfLeEm_cBmW",
        "colab": {
          "base_uri": "https://localhost:8080/",
          "height": 67,
          "referenced_widgets": [
            "88ab3177ba434d1ea1f2522256fbc407",
            "d84921d633b14a35bafc031516023e02",
            "cc4d41e209034d0598f03d47b49b89c9",
            "3254dd41388c428b887a547016ae218e",
            "ed1d1d475c3340ceb79bfa94c279670a",
            "fb69b0fd3ded4e149df18de59f9a78e2",
            "3b01100325ac47ddad59050e375b44fc",
            "580bb50e9c9e4cd385aeb252450d97d8"
          ]
        },
        "outputId": "744ad077-fd72-4520-c33c-fc6c16842f6d"
      },
      "source": [
        "common_voice_test = common_voice_test.map(speech_file_to_array_fn, remove_columns=common_voice_test.column_names, num_proc=1)"
      ],
      "execution_count": 33,
      "outputs": [
        {
          "output_type": "display_data",
          "data": {
            "application/vnd.jupyter.widget-view+json": {
              "model_id": "88ab3177ba434d1ea1f2522256fbc407",
              "version_minor": 0,
              "version_major": 2
            },
            "text/plain": [
              "HBox(children=(FloatProgress(value=0.0, max=462.0), HTML(value='')))"
            ]
          },
          "metadata": {
            "tags": []
          }
        },
        {
          "output_type": "stream",
          "text": [
            "\n"
          ],
          "name": "stdout"
        }
      ]
    },
    {
      "cell_type": "code",
      "metadata": {
        "id": "sASMbBoGsGkQ"
      },
      "source": [
        "import librosa\n",
        "import numpy as np\n",
        "\n",
        "def resample(batch):\n",
        "    batch[\"speech\"] = librosa.resample(np.asarray(batch[\"speech\"]), 48_000, 16_000)\n",
        "    batch[\"sampling_rate\"] = 16_000\n",
        "    return batch"
      ],
      "execution_count": 34,
      "outputs": []
    },
    {
      "cell_type": "code",
      "metadata": {
        "colab": {
          "base_uri": "https://localhost:8080/",
          "height": 116,
          "referenced_widgets": [
            "5fa38a47ca2f4188bce8f5af7675fc52",
            "a44d272851b44074b7254767bf5548db",
            "eb2eb00dd4464e8c8271aa0eb3e82ded",
            "7b2053eb3aa54d04ab6eba49d40b54f5",
            "c3b649354cae45f4a1d2b3f66a4eec7e",
            "c58e370c89dd4334834941c075bef184",
            "2db89b87a8224f73a25fd2e1c27a1f8b",
            "4a9c94ddf70440c893a6f2e022936069",
            "bb7cc81b69ab4392b7360b0a1ef12c52",
            "3500f08194bb48efa988c67cafb9bebc",
            "bb6df7e532a44ab39dbe61f9d8f0a7df",
            "c1ad594a5bbf41d0a92ba1d0f92a8134",
            "28ac18e023c14e42b0c0af018bdf3a85",
            "0404205548b54db1be3398fa014adde9",
            "8f0bbc395e7441549f640b1c1603e87d",
            "f6cbd296847f4acfbb24d64109a19157"
          ]
        },
        "id": "KrpNeNL8sHop",
        "outputId": "24aedb9c-5c65-4969-ec2a-9687c34722f6"
      },
      "source": [
        "common_voice_train = common_voice_train.map(resample, num_proc=1)\n",
        "common_voice_test = common_voice_test.map(resample, num_proc=1)"
      ],
      "execution_count": 35,
      "outputs": [
        {
          "output_type": "display_data",
          "data": {
            "application/vnd.jupyter.widget-view+json": {
              "model_id": "5fa38a47ca2f4188bce8f5af7675fc52",
              "version_minor": 0,
              "version_major": 2
            },
            "text/plain": [
              "HBox(children=(FloatProgress(value=0.0, max=3410.0), HTML(value='')))"
            ]
          },
          "metadata": {
            "tags": []
          }
        },
        {
          "output_type": "stream",
          "text": [
            "\n"
          ],
          "name": "stdout"
        },
        {
          "output_type": "display_data",
          "data": {
            "application/vnd.jupyter.widget-view+json": {
              "model_id": "bb7cc81b69ab4392b7360b0a1ef12c52",
              "version_minor": 0,
              "version_major": 2
            },
            "text/plain": [
              "HBox(children=(FloatProgress(value=0.0, max=462.0), HTML(value='')))"
            ]
          },
          "metadata": {
            "tags": []
          }
        },
        {
          "output_type": "stream",
          "text": [
            "\n"
          ],
          "name": "stdout"
        }
      ]
    },
    {
      "cell_type": "code",
      "metadata": {
        "id": "5PsFu-i6fflo",
        "colab": {
          "base_uri": "https://localhost:8080/",
          "height": 75
        },
        "outputId": "168808b7-7ffe-4b96-d7ab-81b369e67fdc"
      },
      "source": [
        "import IPython.display as ipd\n",
        "import numpy as np\n",
        "import random\n",
        "\n",
        "rand_int = random.randint(0, len(common_voice_train))\n",
        "\n",
        "ipd.Audio(data=np.asarray(common_voice_train[rand_int][\"speech\"]), autoplay=True, rate=16000)"
      ],
      "execution_count": 36,
      "outputs": [
        {
          "output_type": "execute_result",
          "data": {
            "text/html": [
              "\n",
              "                <audio controls=\"controls\" autoplay=\"autoplay\">\n",
              "                    <source src=\"data:audio/wav;base64,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\" type=\"audio/wav\" />\n",
              "                    Your browser does not support the audio element.\n",
              "                </audio>\n",
              "              "
            ],
            "text/plain": [
              "<IPython.lib.display.Audio object>"
            ]
          },
          "metadata": {
            "tags": []
          },
          "execution_count": 36
        }
      ]
    },
    {
      "cell_type": "code",
      "metadata": {
        "colab": {
          "base_uri": "https://localhost:8080/"
        },
        "id": "fX-ywuHxp2s6",
        "outputId": "9a53a45e-3629-42b4-fda6-2f826927bdaf"
      },
      "source": [
        "rand_int = random.randint(0, len(common_voice_train))\n",
        "\n",
        "print(\"Target text:\", common_voice_train[rand_int][\"target_text\"])\n",
        "print(\"Input array shape:\", np.asarray(common_voice_train[rand_int][\"speech\"]).shape)\n",
        "print(\"Sampling rate:\", common_voice_train[rand_int][\"sampling_rate\"])"
      ],
      "execution_count": 37,
      "outputs": [
        {
          "output_type": "stream",
          "text": [
            "Target text: અર્જુન બીજે દિવસે કૌરવ સેનાને ચીરતો હજારો લાખો લડવૈયાને એકજ દિવસમાં મારી નાખે છે\n",
            "Input array shape: (118784,)\n",
            "Sampling rate: 16000\n"
          ],
          "name": "stdout"
        }
      ]
    },
    {
      "cell_type": "code",
      "metadata": {
        "id": "b4w1TS9tqf7A"
      },
      "source": [
        "def prepare_dataset(batch):\n",
        "    # check that all files have the correct sampling rate\n",
        "    assert (\n",
        "        len(set(batch[\"sampling_rate\"])) == 1\n",
        "    ), f\"Make sure all inputs have the same sampling rate of {processor.feature_extractor.sampling_rate}.\"\n",
        "\n",
        "    batch[\"input_values\"] = processor(batch[\"speech\"], sampling_rate=batch[\"sampling_rate\"][0]).input_values\n",
        "\n",
        "    with processor.as_target_processor():\n",
        "        batch[\"labels\"] = processor(batch[\"target_text\"]).input_ids\n",
        "    return batch\n",
        "\n"
      ],
      "execution_count": 38,
      "outputs": []
    },
    {
      "cell_type": "code",
      "metadata": {
        "colab": {
          "base_uri": "https://localhost:8080/",
          "height": 744,
          "referenced_widgets": [
            "609beb0a8b804d88b7e4eb72821ff1e9",
            "1613722548e448f89472aef382ad1d39",
            "e46425a2fe2b4a44892ccf1f48eb050f",
            "5b301adf81e54c6eae6d5c7e5c7a8654",
            "65c159b69d464615b359db0b5bfc3f75",
            "c06755f8b0e94d7b8b7f6255e60c8f5c",
            "f2c034134ac545e8a25859fec12b8081",
            "310c4a3aa81f45d1b1e64bb48ff2402a",
            "1707dde503f54605ad7cffd1805cfbe8",
            "978503622fa64996a998956a995f49b4",
            "9ac8ce20ec3747bdab3ca8573acee793",
            "ebe2af219c214ce79d8fc24748863e5d",
            "ec33e9c29cac494790142aaa175424d5",
            "c71c9d6f0df5465ca7d2d744f461e376",
            "90c3a262ab464845a01624260bc73a4a",
            "65cf3bf7f2224e76b38f60912ec74d50",
            "440456953aae4f61baa359e6bf174a1f",
            "8762a0eeeed744e0bb03446caf8ffa58",
            "99cd5540084f458ab1f16cb3a489d18a",
            "94a6184f64214dbe859a9f6384c4af4a",
            "1ccb291a470f4c688da3d99d5f08d3a8",
            "4e0d974752a04e1ca85768e1d45a65eb",
            "1f0e9bcac6e24c0698f635d4d378b90a",
            "f97109f00b1143a8b787926b78ab4547",
            "821281442c1c4fd096afadb100948fa8",
            "1883db2f1d5446e1af64124905007037",
            "0fa6e53200874bf888d7090ff5825f1b",
            "25225b66ce7e42e98af6e9498210acb0",
            "229f8e4e6da74a9cb5e4209ce94fdd01",
            "95c78d466ef7404eae108d6fb565f4e1",
            "b156acca80c7441391cee4fdf58c1a4f",
            "d868b0cbc7514900af6ccce1af2a21f0",
            "1de291500559476f9814c7158bed83c9",
            "b96331255a974b43a1744c6e12feb9ef",
            "55fdb9c207f340159386e531e42b27a2",
            "ab4fa5e321f0451ea5fd14bd32032a45",
            "dd23704fe04b4572908e024ccc8b34c8",
            "4137e2e588854cc092fc66e72f1a991c",
            "56fb97e34e1d4c0d88df3bb1bfbc0de8",
            "937f42e2be2a4bac8fd3c0ee4c34f77e",
            "69c1c5708c5d450aacf4dda1129051b2",
            "64c5c044e1ca4816a73964b29c9b5368",
            "d2370927d4ad4fbb83666f9a5476ef8f",
            "e7a1fc64132749de93cf41bb6db8c82e",
            "8f759217bcb9427b8fd7f0bbd14dd1f4",
            "08fbae08c8874ee89ec6908957534d88",
            "e7655f85e26540e08e748265b5209196",
            "65f414554fa54ce99c4b50615ae77ce4",
            "a833ee02db7e464eabf5b898dfab3a3e",
            "c78318acb027440396bcf4863d8954aa",
            "e2d39ad510b84006a477a72869d6247f",
            "9f2ba34344a6481f8cfd72a768b4fcb9",
            "e12d00e875bc4a4cac96f5ec892731a2",
            "7fd7565e9e124dbcb67e9ddab6f2c480",
            "c6519ceb475b4e6bbf9d851f8980831e",
            "c55db597a8d6446088e56f330bb2c409",
            "30f47be4375f4ca3b2e32773f9f25735",
            "986d509da83840b9a9bc2cd1a60355eb",
            "d444e1485ee7428688d6f65283139c05",
            "44f005b45bf7444faaa5d64db7ff26d0",
            "8cdb8aa6d97e4108b5300fa3589a0f52",
            "8a274ae8affb41cc892006f8a9eb2f8c",
            "85140aba74474a8daad10c74bcc37aca",
            "11a6c59b86c649719912ed1c9256a7ef"
          ]
        },
        "id": "KVT0LCUSrIAB",
        "outputId": "0948b763-605d-4848-e98d-32f026e406b4"
      },
      "source": [
        "common_voice_train = common_voice_train.map(prepare_dataset, remove_columns=common_voice_train.column_names, batch_size=8, num_proc=4, batched=True)\n",
        "common_voice_test = common_voice_test.map(prepare_dataset, remove_columns=common_voice_test.column_names, batch_size=8, num_proc=4, batched=True)"
      ],
      "execution_count": 39,
      "outputs": [
        {
          "output_type": "stream",
          "text": [
            "    "
          ],
          "name": "stdout"
        },
        {
          "output_type": "display_data",
          "data": {
            "application/vnd.jupyter.widget-view+json": {
              "model_id": "609beb0a8b804d88b7e4eb72821ff1e9",
              "version_minor": 0,
              "version_major": 2
            },
            "text/plain": [
              "HBox(children=(FloatProgress(value=0.0, description='#1', max=107.0, style=ProgressStyle(description_width='in…"
            ]
          },
          "metadata": {
            "tags": []
          }
        },
        {
          "output_type": "display_data",
          "data": {
            "application/vnd.jupyter.widget-view+json": {
              "model_id": "1707dde503f54605ad7cffd1805cfbe8",
              "version_minor": 0,
              "version_major": 2
            },
            "text/plain": [
              "HBox(children=(FloatProgress(value=0.0, description='#0', max=107.0, style=ProgressStyle(description_width='in…"
            ]
          },
          "metadata": {
            "tags": []
          }
        },
        {
          "output_type": "display_data",
          "data": {
            "application/vnd.jupyter.widget-view+json": {
              "model_id": "440456953aae4f61baa359e6bf174a1f",
              "version_minor": 0,
              "version_major": 2
            },
            "text/plain": [
              "HBox(children=(FloatProgress(value=0.0, description='#3', max=107.0, style=ProgressStyle(description_width='in…"
            ]
          },
          "metadata": {
            "tags": []
          }
        },
        {
          "output_type": "display_data",
          "data": {
            "application/vnd.jupyter.widget-view+json": {
              "model_id": "821281442c1c4fd096afadb100948fa8",
              "version_minor": 0,
              "version_major": 2
            },
            "text/plain": [
              "HBox(children=(FloatProgress(value=0.0, description='#2', max=107.0, style=ProgressStyle(description_width='in…"
            ]
          },
          "metadata": {
            "tags": []
          }
        },
        {
          "output_type": "stream",
          "text": [
            "/usr/local/lib/python3.7/dist-packages/numpy/core/_asarray.py:83: VisibleDeprecationWarning: Creating an ndarray from ragged nested sequences (which is a list-or-tuple of lists-or-tuples-or ndarrays with different lengths or shapes) is deprecated. If you meant to do this, you must specify 'dtype=object' when creating the ndarray\n",
            "  return array(a, dtype, copy=False, order=order)\n",
            "/usr/local/lib/python3.7/dist-packages/numpy/core/_asarray.py:83: VisibleDeprecationWarning: Creating an ndarray from ragged nested sequences (which is a list-or-tuple of lists-or-tuples-or ndarrays with different lengths or shapes) is deprecated. If you meant to do this, you must specify 'dtype=object' when creating the ndarray\n",
            "  return array(a, dtype, copy=False, order=order)\n",
            "/usr/local/lib/python3.7/dist-packages/numpy/core/_asarray.py:83: VisibleDeprecationWarning: Creating an ndarray from ragged nested sequences (which is a list-or-tuple of lists-or-tuples-or ndarrays with different lengths or shapes) is deprecated. If you meant to do this, you must specify 'dtype=object' when creating the ndarray\n",
            "  return array(a, dtype, copy=False, order=order)\n",
            "/usr/local/lib/python3.7/dist-packages/numpy/core/_asarray.py:83: VisibleDeprecationWarning: Creating an ndarray from ragged nested sequences (which is a list-or-tuple of lists-or-tuples-or ndarrays with different lengths or shapes) is deprecated. If you meant to do this, you must specify 'dtype=object' when creating the ndarray\n",
            "  return array(a, dtype, copy=False, order=order)\n"
          ],
          "name": "stderr"
        },
        {
          "output_type": "stream",
          "text": [
            "\n",
            "\n",
            "\n",
            "\n",
            "    "
          ],
          "name": "stdout"
        },
        {
          "output_type": "display_data",
          "data": {
            "application/vnd.jupyter.widget-view+json": {
              "model_id": "1de291500559476f9814c7158bed83c9",
              "version_minor": 0,
              "version_major": 2
            },
            "text/plain": [
              "HBox(children=(FloatProgress(value=0.0, description='#1', max=15.0, style=ProgressStyle(description_width='ini…"
            ]
          },
          "metadata": {
            "tags": []
          }
        },
        {
          "output_type": "display_data",
          "data": {
            "application/vnd.jupyter.widget-view+json": {
              "model_id": "69c1c5708c5d450aacf4dda1129051b2",
              "version_minor": 0,
              "version_major": 2
            },
            "text/plain": [
              "HBox(children=(FloatProgress(value=0.0, description='#2', max=15.0, style=ProgressStyle(description_width='ini…"
            ]
          },
          "metadata": {
            "tags": []
          }
        },
        {
          "output_type": "display_data",
          "data": {
            "application/vnd.jupyter.widget-view+json": {
              "model_id": "a833ee02db7e464eabf5b898dfab3a3e",
              "version_minor": 0,
              "version_major": 2
            },
            "text/plain": [
              "HBox(children=(FloatProgress(value=0.0, description='#0', max=15.0, style=ProgressStyle(description_width='ini…"
            ]
          },
          "metadata": {
            "tags": []
          }
        },
        {
          "output_type": "display_data",
          "data": {
            "application/vnd.jupyter.widget-view+json": {
              "model_id": "30f47be4375f4ca3b2e32773f9f25735",
              "version_minor": 0,
              "version_major": 2
            },
            "text/plain": [
              "HBox(children=(FloatProgress(value=0.0, description='#3', max=15.0, style=ProgressStyle(description_width='ini…"
            ]
          },
          "metadata": {
            "tags": []
          }
        },
        {
          "output_type": "stream",
          "text": [
            "/usr/local/lib/python3.7/dist-packages/numpy/core/_asarray.py:83: VisibleDeprecationWarning: Creating an ndarray from ragged nested sequences (which is a list-or-tuple of lists-or-tuples-or ndarrays with different lengths or shapes) is deprecated. If you meant to do this, you must specify 'dtype=object' when creating the ndarray\n",
            "  return array(a, dtype, copy=False, order=order)\n",
            "/usr/local/lib/python3.7/dist-packages/numpy/core/_asarray.py:83: VisibleDeprecationWarning: Creating an ndarray from ragged nested sequences (which is a list-or-tuple of lists-or-tuples-or ndarrays with different lengths or shapes) is deprecated. If you meant to do this, you must specify 'dtype=object' when creating the ndarray\n",
            "  return array(a, dtype, copy=False, order=order)\n",
            "/usr/local/lib/python3.7/dist-packages/numpy/core/_asarray.py:83: VisibleDeprecationWarning: Creating an ndarray from ragged nested sequences (which is a list-or-tuple of lists-or-tuples-or ndarrays with different lengths or shapes) is deprecated. If you meant to do this, you must specify 'dtype=object' when creating the ndarray\n",
            "  return array(a, dtype, copy=False, order=order)\n",
            "/usr/local/lib/python3.7/dist-packages/numpy/core/_asarray.py:83: VisibleDeprecationWarning: Creating an ndarray from ragged nested sequences (which is a list-or-tuple of lists-or-tuples-or ndarrays with different lengths or shapes) is deprecated. If you meant to do this, you must specify 'dtype=object' when creating the ndarray\n",
            "  return array(a, dtype, copy=False, order=order)\n"
          ],
          "name": "stderr"
        },
        {
          "output_type": "stream",
          "text": [
            "\n",
            "\n",
            "\n",
            "\n"
          ],
          "name": "stdout"
        }
      ]
    },
    {
      "cell_type": "code",
      "metadata": {
        "colab": {
          "base_uri": "https://localhost:8080/",
          "height": 17
        },
        "id": "gdo01A6Ddcg1",
        "outputId": "a75a5060-bc87-4452-f0f7-aa78cd52365d"
      },
      "source": [
        "from google.colab import files\n",
        "common_voice_train.to_csv('commom_voice_train.csv')\n",
        "common_voice_test.to_csv('commom_voice_test.csv')\n",
        "files.download('commom_voice_train.csv')\n",
        "files.download('commom_voice_test.csv')"
      ],
      "execution_count": 40,
      "outputs": [
        {
          "output_type": "display_data",
          "data": {
            "application/javascript": [
              "\n",
              "    async function download(id, filename, size) {\n",
              "      if (!google.colab.kernel.accessAllowed) {\n",
              "        return;\n",
              "      }\n",
              "      const div = document.createElement('div');\n",
              "      const label = document.createElement('label');\n",
              "      label.textContent = `Downloading \"${filename}\": `;\n",
              "      div.appendChild(label);\n",
              "      const progress = document.createElement('progress');\n",
              "      progress.max = size;\n",
              "      div.appendChild(progress);\n",
              "      document.body.appendChild(div);\n",
              "\n",
              "      const buffers = [];\n",
              "      let downloaded = 0;\n",
              "\n",
              "      const channel = await google.colab.kernel.comms.open(id);\n",
              "      // Send a message to notify the kernel that we're ready.\n",
              "      channel.send({})\n",
              "\n",
              "      for await (const message of channel.messages) {\n",
              "        // Send a message to notify the kernel that we're ready.\n",
              "        channel.send({})\n",
              "        if (message.buffers) {\n",
              "          for (const buffer of message.buffers) {\n",
              "            buffers.push(buffer);\n",
              "            downloaded += buffer.byteLength;\n",
              "            progress.value = downloaded;\n",
              "          }\n",
              "        }\n",
              "      }\n",
              "      const blob = new Blob(buffers, {type: 'application/binary'});\n",
              "      const a = document.createElement('a');\n",
              "      a.href = window.URL.createObjectURL(blob);\n",
              "      a.download = filename;\n",
              "      div.appendChild(a);\n",
              "      a.click();\n",
              "      div.remove();\n",
              "    }\n",
              "  "
            ],
            "text/plain": [
              "<IPython.core.display.Javascript object>"
            ]
          },
          "metadata": {
            "tags": []
          }
        },
        {
          "output_type": "display_data",
          "data": {
            "application/javascript": [
              "download(\"download_b60105b9-b19c-4a98-a8d8-449754637f99\", \"commom_voice_train.csv\", 953221)"
            ],
            "text/plain": [
              "<IPython.core.display.Javascript object>"
            ]
          },
          "metadata": {
            "tags": []
          }
        },
        {
          "output_type": "display_data",
          "data": {
            "application/javascript": [
              "\n",
              "    async function download(id, filename, size) {\n",
              "      if (!google.colab.kernel.accessAllowed) {\n",
              "        return;\n",
              "      }\n",
              "      const div = document.createElement('div');\n",
              "      const label = document.createElement('label');\n",
              "      label.textContent = `Downloading \"${filename}\": `;\n",
              "      div.appendChild(label);\n",
              "      const progress = document.createElement('progress');\n",
              "      progress.max = size;\n",
              "      div.appendChild(progress);\n",
              "      document.body.appendChild(div);\n",
              "\n",
              "      const buffers = [];\n",
              "      let downloaded = 0;\n",
              "\n",
              "      const channel = await google.colab.kernel.comms.open(id);\n",
              "      // Send a message to notify the kernel that we're ready.\n",
              "      channel.send({})\n",
              "\n",
              "      for await (const message of channel.messages) {\n",
              "        // Send a message to notify the kernel that we're ready.\n",
              "        channel.send({})\n",
              "        if (message.buffers) {\n",
              "          for (const buffer of message.buffers) {\n",
              "            buffers.push(buffer);\n",
              "            downloaded += buffer.byteLength;\n",
              "            progress.value = downloaded;\n",
              "          }\n",
              "        }\n",
              "      }\n",
              "      const blob = new Blob(buffers, {type: 'application/binary'});\n",
              "      const a = document.createElement('a');\n",
              "      a.href = window.URL.createObjectURL(blob);\n",
              "      a.download = filename;\n",
              "      div.appendChild(a);\n",
              "      a.click();\n",
              "      div.remove();\n",
              "    }\n",
              "  "
            ],
            "text/plain": [
              "<IPython.core.display.Javascript object>"
            ]
          },
          "metadata": {
            "tags": []
          }
        },
        {
          "output_type": "display_data",
          "data": {
            "application/javascript": [
              "download(\"download_4c57b330-a881-4425-bf51-96743bc5cb0a\", \"commom_voice_test.csv\", 130658)"
            ],
            "text/plain": [
              "<IPython.core.display.Javascript object>"
            ]
          },
          "metadata": {
            "tags": []
          }
        }
      ]
    },
    {
      "cell_type": "code",
      "metadata": {
        "id": "3Opq54NTrwkH"
      },
      "source": [
        "import torch\n",
        "\n",
        "from dataclasses import dataclass, field\n",
        "from typing import Any, Dict, List, Optional, Union\n",
        "\n",
        "@dataclass\n",
        "class DataCollatorCTCWithPadding:\n",
        "    \"\"\"\n",
        "    Data collator that will dynamically pad the inputs received.\n",
        "    Args:\n",
        "        processor (:class:`~transformers.Wav2Vec2Processor`)\n",
        "            The processor used for proccessing the data.\n",
        "        padding (:obj:`bool`, :obj:`str` or :class:`~transformers.tokenization_utils_base.PaddingStrategy`, `optional`, defaults to :obj:`True`):\n",
        "            Select a strategy to pad the returned sequences (according to the model's padding side and padding index)\n",
        "            among:\n",
        "            * :obj:`True` or :obj:`'longest'`: Pad to the longest sequence in the batch (or no padding if only a single\n",
        "              sequence if provided).\n",
        "            * :obj:`'max_length'`: Pad to a maximum length specified with the argument :obj:`max_length` or to the\n",
        "              maximum acceptable input length for the model if that argument is not provided.\n",
        "            * :obj:`False` or :obj:`'do_not_pad'` (default): No padding (i.e., can output a batch with sequences of\n",
        "              different lengths).\n",
        "        max_length (:obj:`int`, `optional`):\n",
        "            Maximum length of the ``input_values`` of the returned list and optionally padding length (see above).\n",
        "        max_length_labels (:obj:`int`, `optional`):\n",
        "            Maximum length of the ``labels`` returned list and optionally padding length (see above).\n",
        "        pad_to_multiple_of (:obj:`int`, `optional`):\n",
        "            If set will pad the sequence to a multiple of the provided value.\n",
        "            This is especially useful to enable the use of Tensor Cores on NVIDIA hardware with compute capability >=\n",
        "            7.5 (Volta).\n",
        "    \"\"\"\n",
        "\n",
        "    processor: Wav2Vec2Processor\n",
        "    padding: Union[bool, str] = True\n",
        "    max_length: Optional[int] = None\n",
        "    max_length_labels: Optional[int] = None\n",
        "    pad_to_multiple_of: Optional[int] = None\n",
        "    pad_to_multiple_of_labels: Optional[int] = None\n",
        "\n",
        "    def __call__(self, features: List[Dict[str, Union[List[int], torch.Tensor]]]) -> Dict[str, torch.Tensor]:\n",
        "        # split inputs and labels since they have to be of different lenghts and need\n",
        "        # different padding methods\n",
        "        input_features = [{\"input_values\": feature[\"input_values\"]} for feature in features]\n",
        "        label_features = [{\"input_ids\": feature[\"labels\"]} for feature in features]\n",
        "\n",
        "        batch = self.processor.pad(\n",
        "            input_features,\n",
        "            padding=self.padding,\n",
        "            max_length=self.max_length,\n",
        "            pad_to_multiple_of=self.pad_to_multiple_of,\n",
        "            return_tensors=\"pt\",\n",
        "        )\n",
        "        with self.processor.as_target_processor():\n",
        "            labels_batch = self.processor.pad(\n",
        "                label_features,\n",
        "                padding=self.padding,\n",
        "                max_length=self.max_length_labels,\n",
        "                pad_to_multiple_of=self.pad_to_multiple_of_labels,\n",
        "                return_tensors=\"pt\",\n",
        "            )\n",
        "\n",
        "        # replace padding with -100 to ignore loss correctly\n",
        "        labels = labels_batch[\"input_ids\"].masked_fill(labels_batch.attention_mask.ne(1), -100)\n",
        "\n",
        "        batch[\"labels\"] = labels\n",
        "\n",
        "        return batch"
      ],
      "execution_count": 41,
      "outputs": []
    },
    {
      "cell_type": "code",
      "metadata": {
        "id": "x_v3qxwLyUmN"
      },
      "source": [
        "data_collator = DataCollatorCTCWithPadding(processor=processor, padding=True)"
      ],
      "execution_count": 42,
      "outputs": []
    },
    {
      "cell_type": "code",
      "metadata": {
        "colab": {
          "base_uri": "https://localhost:8080/",
          "height": 67,
          "referenced_widgets": [
            "83417d2cda1f4b7b90c46681d3224f98",
            "6bed12d59ff44504ba641c48f67c4169",
            "bc890492fffc4cea974c842eb0a9fc94",
            "7bae51f4e3ab4ad3ad208005ffc4a35c",
            "a6e5bf198dac4c06896d3c4a4b4cfd01",
            "ab1bc006374a4fe38225359d37e48d6d",
            "c6700a0c273c41a0856a95fc68da19c8",
            "00c9fc25cb4743178ba33e829452070a"
          ]
        },
        "id": "dTK5RsLDyZVn",
        "outputId": "e22e64af-0b2e-42b5-987b-bb8663042d94"
      },
      "source": [
        "wer_metric = load_metric(\"wer\")"
      ],
      "execution_count": 43,
      "outputs": [
        {
          "output_type": "display_data",
          "data": {
            "application/vnd.jupyter.widget-view+json": {
              "model_id": "83417d2cda1f4b7b90c46681d3224f98",
              "version_minor": 0,
              "version_major": 2
            },
            "text/plain": [
              "HBox(children=(FloatProgress(value=0.0, description='Downloading', max=1764.0, style=ProgressStyle(description…"
            ]
          },
          "metadata": {
            "tags": []
          }
        },
        {
          "output_type": "stream",
          "text": [
            "\n"
          ],
          "name": "stdout"
        }
      ]
    },
    {
      "cell_type": "code",
      "metadata": {
        "id": "76FvGPCdydlA"
      },
      "source": [
        "def compute_metrics(pred):\n",
        "    pred_logits = pred.predictions\n",
        "    pred_ids = np.argmax(pred_logits, axis=-1)\n",
        "\n",
        "    pred.label_ids[pred.label_ids == -100] = processor.tokenizer.pad_token_id\n",
        "\n",
        "    pred_str = processor.batch_decode(pred_ids)\n",
        "    # we do not want to group tokens when computing the metrics\n",
        "    label_str = processor.batch_decode(pred.label_ids, group_tokens=False)\n",
        "\n",
        "    wer = wer_metric.compute(predictions=pred_str, references=label_str)\n",
        "\n",
        "    return {\"wer\": wer}"
      ],
      "execution_count": 44,
      "outputs": []
    },
    {
      "cell_type": "code",
      "metadata": {
        "colab": {
          "base_uri": "https://localhost:8080/",
          "height": 171,
          "referenced_widgets": [
            "5cd8f189a4094e8fbc50f00deb3fbbd8",
            "d69e8dc050004634896782602d62eab7",
            "dde813fc853940109b69a134e4008638",
            "d5c2993b1c0144299d6e2338f7324c94",
            "eaad1e8d37a34785adb3ca3936b20ac9",
            "131261909b074fa9b42c1d60a0b9e857",
            "73f6e8f6cc5b4aeca1d5b9f2009e7272",
            "3aebac0e4b604aeeb765c759fbc76b7c",
            "d7bb66f4fae043dd8679c6960cff8259",
            "e9312d2d3be141e0b0046db60b6f3da8",
            "d85b16c42fb0417eb2602e2b87a76d38",
            "4efe90b88d23491bba029a7c7b2c1e77",
            "41c6eb55c2c94a3887f4a5ef0ac2ed9f",
            "0d47b7e3593f4e08bf1d7cb9521f4c88",
            "7c5b20f7883d4dfa8415f753ddeaf931",
            "8059c65e05f141a1a82d4d6103ed810a"
          ]
        },
        "id": "EVB-JySQyhEu",
        "outputId": "c1b2c5fd-3747-4cd0-95c2-6a717b8ea6ca"
      },
      "source": [
        "from transformers import Wav2Vec2ForCTC\n",
        "\n",
        "model = Wav2Vec2ForCTC.from_pretrained(\n",
        "    \"facebook/wav2vec2-large-xlsr-53\", \n",
        "    attention_dropout=0.1,\n",
        "    hidden_dropout=0.1,\n",
        "    feat_proj_dropout=0.0,\n",
        "    mask_time_prob=0.05,\n",
        "    layerdrop=0.1,\n",
        "    gradient_checkpointing=True, \n",
        "    ctc_loss_reduction=\"mean\", \n",
        "    pad_token_id=processor.tokenizer.pad_token_id,\n",
        "    vocab_size=len(processor.tokenizer)\n",
        ")"
      ],
      "execution_count": 45,
      "outputs": [
        {
          "output_type": "display_data",
          "data": {
            "application/vnd.jupyter.widget-view+json": {
              "model_id": "5cd8f189a4094e8fbc50f00deb3fbbd8",
              "version_minor": 0,
              "version_major": 2
            },
            "text/plain": [
              "HBox(children=(FloatProgress(value=0.0, description='Downloading', max=1451.0, style=ProgressStyle(description…"
            ]
          },
          "metadata": {
            "tags": []
          }
        },
        {
          "output_type": "stream",
          "text": [
            "\n"
          ],
          "name": "stdout"
        },
        {
          "output_type": "display_data",
          "data": {
            "application/vnd.jupyter.widget-view+json": {
              "model_id": "d7bb66f4fae043dd8679c6960cff8259",
              "version_minor": 0,
              "version_major": 2
            },
            "text/plain": [
              "HBox(children=(FloatProgress(value=0.0, description='Downloading', max=1261920069.0, style=ProgressStyle(descr…"
            ]
          },
          "metadata": {
            "tags": []
          }
        },
        {
          "output_type": "stream",
          "text": [
            "\n"
          ],
          "name": "stdout"
        },
        {
          "output_type": "stream",
          "text": [
            "Some weights of Wav2Vec2ForCTC were not initialized from the model checkpoint at facebook/wav2vec2-large-xlsr-53 and are newly initialized: ['lm_head.bias', 'lm_head.weight']\n",
            "You should probably TRAIN this model on a down-stream task to be able to use it for predictions and inference.\n"
          ],
          "name": "stderr"
        }
      ]
    },
    {
      "cell_type": "code",
      "metadata": {
        "id": "1XN0sWqxyrNk"
      },
      "source": [
        "model.freeze_feature_extractor()"
      ],
      "execution_count": 46,
      "outputs": []
    },
    {
      "cell_type": "code",
      "metadata": {
        "id": "vI5VxDCvzLss"
      },
      "source": [
        "from transformers import TrainingArguments\n",
        "\n",
        "training_args = TrainingArguments(\n",
        "  # output_dir=\"/content/gdrive/MyDrive/wav2vec2-base-timit-demo\",\n",
        "  output_dir=\"./wav2vec2-base-gujarati-demo\",\n",
        "  group_by_length=True,\n",
        "  per_device_train_batch_size=16,\n",
        "  gradient_accumulation_steps=2,\n",
        "  evaluation_strategy=\"steps\",\n",
        "  num_train_epochs=50,\n",
        "  fp16=True,\n",
        "  save_steps=400,\n",
        "  eval_steps=400,\n",
        "  logging_steps=400,\n",
        "  learning_rate=3e-4,\n",
        "  warmup_steps=500,\n",
        "  save_total_limit=2,\n",
        ")"
      ],
      "execution_count": 47,
      "outputs": []
    },
    {
      "cell_type": "code",
      "metadata": {
        "id": "2Wnw3bnvzUq0"
      },
      "source": [
        "from transformers import Trainer\n",
        "\n",
        "trainer = Trainer(\n",
        "    model=model,\n",
        "    data_collator=data_collator,\n",
        "    args=training_args,\n",
        "    compute_metrics=compute_metrics,\n",
        "    train_dataset=common_voice_train,\n",
        "    eval_dataset=common_voice_test,\n",
        "    tokenizer=processor.feature_extractor,\n",
        ")"
      ],
      "execution_count": 48,
      "outputs": []
    },
    {
      "cell_type": "code",
      "metadata": {
        "id": "f3XJmMJ7zhQ8"
      },
      "source": [
        "#trainer.train()"
      ],
      "execution_count": 49,
      "outputs": []
    },
    {
      "cell_type": "code",
      "metadata": {
        "colab": {
          "base_uri": "https://localhost:8080/",
          "height": 331,
          "referenced_widgets": [
            "660e891dcba647079a6c1d4c82b16ad3",
            "3b838be9ec38499b8b3031fe4b18b7db",
            "5da22ce73d6742d0916c63c8a5405ee9",
            "b7fe7e96369c4c65a8e8e413cc397e0e",
            "dc5d836f0e5643179ba8742946fda986",
            "c6298865e5ca40dd924927d2a0345900",
            "a8b54c41b4d94467abc3614c68661bb5",
            "063390140dd6441fa6b117a0d1ea733e",
            "f881a839f8e04716baeb14968d9ca5b5",
            "2ceeb99ee8874eb29cf25d7b633deb84",
            "d6ff8c9bfa85403fa37a9225c515cb41",
            "fd0895f739d14d6eab4198eef3316070",
            "62ca335f440c4e6bae9a130edb5106cd",
            "3ab9ebf34101419a9f8897461c55abfa",
            "52198d7932c64945951f0ffa11b195ad",
            "b5637b124407411e8bcf6a2b4632be37",
            "ec9f432b74a6409581261405db2db893",
            "4865afa112ad48819fe04eddc724f2f3",
            "db1edab1a85e45d0b84996208aac2f13",
            "fb1fe37635a3452283067a4c4c054ffb",
            "9d1062a241fb4f54a2e0c1c784a32bb2",
            "e057103d89fc4519b37bbf3ff98e66f6",
            "a989f29f73424c7eab1f67638db0e184",
            "7bce0bba62af43fab0070a3c83337beb",
            "271dee062a484b6daf2493f194a4a220",
            "e031c10978b04744816cedf26dcb2e1c",
            "ae500bb258ce477eabc305b042b5a6d0",
            "54558dd5aee94b53a4bc714bca390362",
            "6dc44f88bbfd4141a3f77f3b43300ac1",
            "76c3ff07207b49138e1ba45a468cf1cb",
            "7535de7b44ec41f1b313c35264f2255c",
            "35cd9397daa64bdb9320ad476245ac1b",
            "831fc1cfa5f141939bc647d6c547e25b",
            "ebee297de26f4bdba69349c067c4f0d3",
            "4f63e870b6b349bab34f33e015519e73",
            "4a4a77c6ddf24c56848d4a5b293e948a",
            "4eb535f95f144bceb575f9db47ec7440",
            "96508f5e150341c69f59457a415dce3b",
            "8a53033688094028833a825d13ba6be6",
            "3b177cf9b424485a88800363865f2be2",
            "1cf9c521aebf46ecb0def88fbdc2893d",
            "e66a3ad174664e2c8827b987a71abe89",
            "ca934e8500a843bab44a1d097fc6df82",
            "cb3a008cfcf042149ce0b99600f91cf0",
            "3fc0bd3ccbcd4290a498693744030e51",
            "36b80bc48d15453cb5240f2156817840",
            "62ffb91ac0024ec88045f77e4a969b5f",
            "89851ac39df8422db983a55b02a68a92"
          ]
        },
        "id": "LRGDjU6jzm-K",
        "outputId": "0e00b34b-d3e2-49c4-ca05-c02d22c82806"
      },
      "source": [
        "model = Wav2Vec2ForCTC.from_pretrained(\"jaimin/wav2vec2-base-gujarati-demo\").to(\"cuda\")\n",
        "processor = Wav2Vec2Processor.from_pretrained(\"jaimin/wav2vec2-base-gujarati-demo\")"
      ],
      "execution_count": 50,
      "outputs": [
        {
          "output_type": "display_data",
          "data": {
            "application/vnd.jupyter.widget-view+json": {
              "model_id": "660e891dcba647079a6c1d4c82b16ad3",
              "version_minor": 0,
              "version_major": 2
            },
            "text/plain": [
              "HBox(children=(FloatProgress(value=0.0, description='Downloading', max=1563.0, style=ProgressStyle(description…"
            ]
          },
          "metadata": {
            "tags": []
          }
        },
        {
          "output_type": "stream",
          "text": [
            "\n"
          ],
          "name": "stdout"
        },
        {
          "output_type": "display_data",
          "data": {
            "application/vnd.jupyter.widget-view+json": {
              "model_id": "f881a839f8e04716baeb14968d9ca5b5",
              "version_minor": 0,
              "version_major": 2
            },
            "text/plain": [
              "HBox(children=(FloatProgress(value=0.0, description='Downloading', max=1262290519.0, style=ProgressStyle(descr…"
            ]
          },
          "metadata": {
            "tags": []
          }
        },
        {
          "output_type": "stream",
          "text": [
            "\n"
          ],
          "name": "stdout"
        },
        {
          "output_type": "display_data",
          "data": {
            "application/vnd.jupyter.widget-view+json": {
              "model_id": "ec9f432b74a6409581261405db2db893",
              "version_minor": 0,
              "version_major": 2
            },
            "text/plain": [
              "HBox(children=(FloatProgress(value=0.0, description='Downloading', max=159.0, style=ProgressStyle(description_…"
            ]
          },
          "metadata": {
            "tags": []
          }
        },
        {
          "output_type": "stream",
          "text": [
            "\n"
          ],
          "name": "stdout"
        },
        {
          "output_type": "display_data",
          "data": {
            "application/vnd.jupyter.widget-view+json": {
              "model_id": "271dee062a484b6daf2493f194a4a220",
              "version_minor": 0,
              "version_major": 2
            },
            "text/plain": [
              "HBox(children=(FloatProgress(value=0.0, description='Downloading', max=1156.0, style=ProgressStyle(description…"
            ]
          },
          "metadata": {
            "tags": []
          }
        },
        {
          "output_type": "stream",
          "text": [
            "\n"
          ],
          "name": "stdout"
        },
        {
          "output_type": "display_data",
          "data": {
            "application/vnd.jupyter.widget-view+json": {
              "model_id": "831fc1cfa5f141939bc647d6c547e25b",
              "version_minor": 0,
              "version_major": 2
            },
            "text/plain": [
              "HBox(children=(FloatProgress(value=0.0, description='Downloading', max=138.0, style=ProgressStyle(description_…"
            ]
          },
          "metadata": {
            "tags": []
          }
        },
        {
          "output_type": "stream",
          "text": [
            "\n"
          ],
          "name": "stdout"
        },
        {
          "output_type": "display_data",
          "data": {
            "application/vnd.jupyter.widget-view+json": {
              "model_id": "1cf9c521aebf46ecb0def88fbdc2893d",
              "version_minor": 0,
              "version_major": 2
            },
            "text/plain": [
              "HBox(children=(FloatProgress(value=0.0, description='Downloading', max=85.0, style=ProgressStyle(description_w…"
            ]
          },
          "metadata": {
            "tags": []
          }
        },
        {
          "output_type": "stream",
          "text": [
            "\n"
          ],
          "name": "stdout"
        },
        {
          "output_type": "stream",
          "text": [
            "Special tokens have been added in the vocabulary, make sure the associated word embedding are fine-tuned or trained.\n"
          ],
          "name": "stderr"
        }
      ]
    },
    {
      "cell_type": "code",
      "metadata": {
        "id": "wkNEzG4977YU"
      },
      "source": [
        "from datasets import load_dataset, load_metric\n",
        "import re"
      ],
      "execution_count": 51,
      "outputs": []
    },
    {
      "cell_type": "code",
      "metadata": {
        "id": "-mSjrYFjhh2z"
      },
      "source": [
        "wer = load_metric(\"wer\")"
      ],
      "execution_count": 52,
      "outputs": []
    },
    {
      "cell_type": "code",
      "metadata": {
        "colab": {
          "base_uri": "https://localhost:8080/",
          "height": 89,
          "referenced_widgets": [
            "900e8187ddb0444f99d691f7c4c7021c",
            "b8ba0f96d19f4a89ad8b685aab9afec3",
            "4fc72e3cb020414f99f560fbbce0f34e",
            "fe27b3824208454b885476fbe3d4b105",
            "9e32fa5b2b7141029cdf5943ea5a7745",
            "9e612d04b8ad45d9a38014802f50b33b",
            "bc54f6aeb2da4354b45fb4b176b05a0c",
            "5051358ce4ba4930bba4f939d27ecb4e"
          ]
        },
        "id": "mse0dSNbi5mT",
        "outputId": "255d8681-f514-4dfa-d2c7-f1dd84e99190"
      },
      "source": [
        "common_voice_validation = load_dataset('csv', data_files={'test': 'validation.csv'},error_bad_lines=False,encoding='utf-8',split='test')"
      ],
      "execution_count": 53,
      "outputs": [
        {
          "output_type": "stream",
          "text": [
            "Using custom data configuration default-0e8284e5c4c1d98e\n"
          ],
          "name": "stderr"
        },
        {
          "output_type": "stream",
          "text": [
            "Downloading and preparing dataset csv/default (download: Unknown size, generated: Unknown size, post-processed: Unknown size, total: Unknown size) to /root/.cache/huggingface/datasets/csv/default-0e8284e5c4c1d98e/0.0.0/2dc6629a9ff6b5697d82c25b73731dd440507a69cbce8b425db50b751e8fcfd0...\n"
          ],
          "name": "stdout"
        },
        {
          "output_type": "display_data",
          "data": {
            "application/vnd.jupyter.widget-view+json": {
              "model_id": "900e8187ddb0444f99d691f7c4c7021c",
              "version_minor": 0,
              "version_major": 2
            },
            "text/plain": [
              "HBox(children=(FloatProgress(value=1.0, bar_style='info', max=1.0), HTML(value='')))"
            ]
          },
          "metadata": {
            "tags": []
          }
        },
        {
          "output_type": "stream",
          "text": [
            "\rDataset csv downloaded and prepared to /root/.cache/huggingface/datasets/csv/default-0e8284e5c4c1d98e/0.0.0/2dc6629a9ff6b5697d82c25b73731dd440507a69cbce8b425db50b751e8fcfd0. Subsequent calls will reuse this data.\n"
          ],
          "name": "stdout"
        }
      ]
    },
    {
      "cell_type": "code",
      "metadata": {
        "colab": {
          "base_uri": "https://localhost:8080/"
        },
        "id": "Xh5ukKmMjR6q",
        "outputId": "092a5847-11cf-4a59-e7e6-9fa931c9929f"
      },
      "source": [
        "common_voice_validation"
      ],
      "execution_count": 54,
      "outputs": [
        {
          "output_type": "execute_result",
          "data": {
            "text/plain": [
              "Dataset({\n",
              "    features: ['path', 'sentence'],\n",
              "    num_rows: 400\n",
              "})"
            ]
          },
          "metadata": {
            "tags": []
          },
          "execution_count": 54
        }
      ]
    },
    {
      "cell_type": "code",
      "metadata": {
        "colab": {
          "base_uri": "https://localhost:8080/",
          "height": 367
        },
        "id": "Cguee9hvjz2F",
        "outputId": "4e002c31-d746-4f55-cf5e-22cfb3892a5e"
      },
      "source": [
        "!pip install torchaudio"
      ],
      "execution_count": 55,
      "outputs": [
        {
          "output_type": "stream",
          "text": [
            "Collecting torchaudio\n",
            "  Using cached https://files.pythonhosted.org/packages/aa/55/01ad9244bcd595e39cea5ce30726a7fe02fd963d07daeb136bfe7e23f0a5/torchaudio-0.8.1-cp37-cp37m-manylinux1_x86_64.whl\n",
            "Collecting torch==1.8.1\n",
            "\u001b[?25l  Downloading https://files.pythonhosted.org/packages/56/74/6fc9dee50f7c93d6b7d9644554bdc9692f3023fa5d1de779666e6bf8ae76/torch-1.8.1-cp37-cp37m-manylinux1_x86_64.whl (804.1MB)\n",
            "\u001b[K     |████████████████████████████████| 804.1MB 21kB/s \n",
            "\u001b[?25hRequirement already satisfied: numpy in /usr/local/lib/python3.7/dist-packages (from torch==1.8.1->torchaudio) (1.19.5)\n",
            "Requirement already satisfied: typing-extensions in /usr/local/lib/python3.7/dist-packages (from torch==1.8.1->torchaudio) (3.7.4.3)\n",
            "\u001b[31mERROR: torchvision 0.9.0+cu101 has requirement torch==1.8.0, but you'll have torch 1.8.1 which is incompatible.\u001b[0m\n",
            "\u001b[31mERROR: torchtext 0.9.0 has requirement torch==1.8.0, but you'll have torch 1.8.1 which is incompatible.\u001b[0m\n",
            "Installing collected packages: torch, torchaudio\n",
            "  Found existing installation: torch 1.8.0+cu101\n",
            "    Uninstalling torch-1.8.0+cu101:\n",
            "      Successfully uninstalled torch-1.8.0+cu101\n",
            "Successfully installed torch-1.8.1 torchaudio-0.8.1\n"
          ],
          "name": "stdout"
        },
        {
          "output_type": "display_data",
          "data": {
            "application/vnd.colab-display-data+json": {
              "pip_warning": {
                "packages": [
                  "torch"
                ]
              }
            }
          },
          "metadata": {
            "tags": []
          }
        }
      ]
    },
    {
      "cell_type": "code",
      "metadata": {
        "id": "isGR95gajUGd"
      },
      "source": [
        "import torchaudio\n",
        "chars_to_ignore_regex = '[\\,\\?\\.\\!\\-\\;\\:\\\"\\“]'  # TODO: adapt this list to include all special characters you removed from the data\n",
        "resampler = torchaudio.transforms.Resample(48_000, 16_000)"
      ],
      "execution_count": 56,
      "outputs": []
    },
    {
      "cell_type": "code",
      "metadata": {
        "id": "pb5zM0mNjgCA"
      },
      "source": [
        "# Preprocessing the datasets.\n",
        "# We need to read the aduio files as arrays\n",
        "def speech_file_to_array_fn(batch):\n",
        "\tbatch[\"sentence\"] = re.sub(chars_to_ignore_regex, '', batch[\"sentence\"]).lower()\n",
        "\tspeech_array, sampling_rate = torchaudio.load(batch[\"path\"])\n",
        "\tbatch[\"speech\"] = resampler(speech_array).squeeze().numpy()\n",
        "\treturn batch"
      ],
      "execution_count": 57,
      "outputs": []
    },
    {
      "cell_type": "code",
      "metadata": {
        "colab": {
          "base_uri": "https://localhost:8080/",
          "height": 67,
          "referenced_widgets": [
            "84cf60df019346b8a549c86f117fe5f5",
            "ed803e09fd4b40919c15b0365079aefa",
            "3bc5184797d44c0e8d0ce5411398c9b6",
            "843b69526f044a9abe8bb795eddae066",
            "bc2d01166d6a442c80730d6dc4743be2",
            "8199b1d2473e4ace9f47c888d1ff11b8",
            "3422f5b14bd8445886e5f8ca95d81661",
            "4092974402354583aaca53b0cb9e35c0"
          ]
        },
        "id": "yy4q8KTpko4G",
        "outputId": "351125a8-3904-405a-cfe6-d8fe914f42d9"
      },
      "source": [
        "common_voice_validation = common_voice_validation.map(speech_file_to_array_fn)"
      ],
      "execution_count": 58,
      "outputs": [
        {
          "output_type": "display_data",
          "data": {
            "application/vnd.jupyter.widget-view+json": {
              "model_id": "84cf60df019346b8a549c86f117fe5f5",
              "version_minor": 0,
              "version_major": 2
            },
            "text/plain": [
              "HBox(children=(FloatProgress(value=0.0, max=400.0), HTML(value='')))"
            ]
          },
          "metadata": {
            "tags": []
          }
        },
        {
          "output_type": "stream",
          "text": [
            "\n"
          ],
          "name": "stdout"
        }
      ]
    },
    {
      "cell_type": "code",
      "metadata": {
        "id": "sL2DybjikyyB"
      },
      "source": [
        "# Preprocessing the datasets.\n",
        "# We need to read the aduio files as arrays\n",
        "def evaluate(batch):\n",
        "    inputs = processor(batch[\"speech\"], sampling_rate=16000, return_tensors=\"pt\", padding=True)\n",
        "\n",
        "    with torch.no_grad():\n",
        "        logits = model(inputs.input_values.to(\"cuda\")).logits\n",
        "    \n",
        "    pred_ids = torch.argmax(logits, dim=-1)\n",
        "    batch[\"pred_strings\"] = processor.batch_decode(pred_ids)\n",
        "    return batch"
      ],
      "execution_count": 59,
      "outputs": []
    },
    {
      "cell_type": "code",
      "metadata": {
        "colab": {
          "base_uri": "https://localhost:8080/"
        },
        "id": "HuIZsr3pm4Ld",
        "outputId": "d2279784-0663-46f7-8169-3ab1ad1a5308"
      },
      "source": [
        "common_voice_validation"
      ],
      "execution_count": 60,
      "outputs": [
        {
          "output_type": "execute_result",
          "data": {
            "text/plain": [
              "Dataset({\n",
              "    features: ['path', 'sentence', 'speech'],\n",
              "    num_rows: 400\n",
              "})"
            ]
          },
          "metadata": {
            "tags": []
          },
          "execution_count": 60
        }
      ]
    },
    {
      "cell_type": "code",
      "metadata": {
        "id": "RrV9WG-7jKJW"
      },
      "source": [
        "input_dict = processor(common_voice_validation[\"speech\"][0], sampling_rate=16000,return_tensors=\"pt\", padding=True)\n",
        "\n",
        "logits = model(input_dict.input_values.to(\"cuda\")).logits\n"
      ],
      "execution_count": 61,
      "outputs": []
    },
    {
      "cell_type": "code",
      "metadata": {
        "id": "YCJUfbL_jbzm"
      },
      "source": [
        "pred_ids = torch.argmax(logits, dim=-1)[0]"
      ],
      "execution_count": 62,
      "outputs": []
    },
    {
      "cell_type": "code",
      "metadata": {
        "colab": {
          "base_uri": "https://localhost:8080/"
        },
        "id": "9j-l-CLFjqzO",
        "outputId": "bbca4f39-2c6d-4af8-c560-06ef8583bea2"
      },
      "source": [
        "print(\"Prediction:\")\n",
        "print(processor.decode(pred_ids))\n",
        "\n",
        "print(\"\\nReference:\")\n",
        "print(common_voice_validation[\"sentence\"][0].lower())"
      ],
      "execution_count": 63,
      "outputs": [
        {
          "output_type": "stream",
          "text": [
            "Prediction:\n",
            "તેઓ જુન ઓગણીસો એકોતતર ભારતીય સૈન્ય અકાદમી ખાતે જોડાયા અને બાદમાં સત્તરપૂના હર્સમાં કમિશન પામ્યા\n",
            "\n",
            "Reference:\n",
            "તેઓ જુન ઓગણીસ સો એકોતેર ભારતીય સૈન્ય અકાદમિ ખાતે જોડાયા અને બાદમાં સત્તર પૂના હોર્સમાં કમિશન પામ્યા\n"
          ],
          "name": "stdout"
        }
      ]
    },
    {
      "cell_type": "code",
      "metadata": {
        "colab": {
          "base_uri": "https://localhost:8080/",
          "height": 84,
          "referenced_widgets": [
            "8837814d009f44c2b6c0fb910076ca70",
            "853fc273a3134570a11e7f943d16b063",
            "a86b5278d3a8435784c7625035b566c6",
            "c336edf48edd420ba011357c9f5d471d",
            "49b9617f45dc453d840cb033fb16c73c",
            "7c067d2c38dc48468d983584a96a5e1d",
            "ef2da98c1bac4567b1a49ddb152229ba",
            "4e8e82fdad344486b7933be549addea5"
          ]
        },
        "id": "aZdc0UF2lhdc",
        "outputId": "30c52e87-38c5-4938-f001-f617ef6525eb"
      },
      "source": [
        "result = common_voice_validation.map(evaluate, batched=True, batch_size=8)\n",
        "\n",
        "print(\"WER: {:2f}\".format(100 * wer.compute(predictions=result[\"pred_strings\"], references=result[\"sentence\"])))"
      ],
      "execution_count": 64,
      "outputs": [
        {
          "output_type": "display_data",
          "data": {
            "application/vnd.jupyter.widget-view+json": {
              "model_id": "8837814d009f44c2b6c0fb910076ca70",
              "version_minor": 0,
              "version_major": 2
            },
            "text/plain": [
              "HBox(children=(FloatProgress(value=0.0, max=50.0), HTML(value='')))"
            ]
          },
          "metadata": {
            "tags": []
          }
        },
        {
          "output_type": "stream",
          "text": [
            "\n",
            "WER: 28.921569\n"
          ],
          "name": "stdout"
        }
      ]
    },
    {
      "cell_type": "code",
      "metadata": {
        "colab": {
          "base_uri": "https://localhost:8080/",
          "height": 390
        },
        "id": "kV6HQZYfkxtq",
        "outputId": "858faa44-d4d2-4539-c8c8-b613df8a3ae6"
      },
      "source": [
        "show_random_elements(result.remove_columns([\"path\",\"speech\"]))"
      ],
      "execution_count": 65,
      "outputs": [
        {
          "output_type": "display_data",
          "data": {
            "text/html": [
              "<table border=\"1\" class=\"dataframe\">\n",
              "  <thead>\n",
              "    <tr style=\"text-align: right;\">\n",
              "      <th></th>\n",
              "      <th>pred_strings</th>\n",
              "      <th>sentence</th>\n",
              "    </tr>\n",
              "  </thead>\n",
              "  <tbody>\n",
              "    <tr>\n",
              "      <th>0</th>\n",
              "      <td>એ પછી એ જંગલ કે કબ્રસ્તાનમાં એકાંતવાસ કરતા અને પ્રભુદ્યાનમાં મસ્ત રહેતા</td>\n",
              "      <td>એ પછી એ જંગલ કે કબ્રસ્તાનમાં એકાંતવાસ કરતા અને પ્રભુધ્યાનમાં મસ્ત રહેતા</td>\n",
              "    </tr>\n",
              "    <tr>\n",
              "      <th>1</th>\n",
              "      <td>ધ ઈકોલોજિકલ થયેટર આન્ડ ધ ઈવોલ્શનરી પ્લે</td>\n",
              "      <td>ધ ઇકોલોજિકલ થીએટર એન્ડ ધ ઇવોલ્યુશનરી પ્લે</td>\n",
              "    </tr>\n",
              "    <tr>\n",
              "      <th>2</th>\n",
              "      <td>અલુવાસ ગામના લોકોનો મુખ્ય વ્યવસાય ખેતી છે</td>\n",
              "      <td>અલુવાસ ગામના લોકોનો મુખ્ય વ્યવસાય ખેતી છે</td>\n",
              "    </tr>\n",
              "    <tr>\n",
              "      <th>3</th>\n",
              "      <td>અમદાવાદથી તે ત્રણસો સિત્તર કિલોમીટ અને રાજ્યમાં પરિયટનના વિકાસ માટે સરકાર દ્વારા પસંદ કરાયેલા ચૌદદ દરિયાકિનારામાનો એક દરિયાકિનારો છે</td>\n",
              "      <td>અમદાવાદથી તે ત્રણ સો સિત્તેર કિલોમીટર અને રાજ્યમાં પર્યટનના વિકાસ માટે સરકાર દ્વારા પસંદ કરાયેલા ચૌદ દરિયાકિનારામાંનો એક દરિયાકિનારો છે</td>\n",
              "    </tr>\n",
              "    <tr>\n",
              "      <th>4</th>\n",
              "      <td>પચીથી નવી હલફ્રિડ નાટક મંડળીમાં તિગ્દર્શક</td>\n",
              "      <td>પછીથી નવી આલ્ફ્રેડ નાટક મંડળીમાં દિગ્દર્શક</td>\n",
              "    </tr>\n",
              "    <tr>\n",
              "      <th>5</th>\n",
              "      <td>તેમની પત્ની કુનતીને તેની મુક્તાવસ્થામા દુર્વાસા મૂનિ દ્વારા વરદાન મોળ્યું હતું</td>\n",
              "      <td>તેમની પત્ની કુંતીને તેની મુગ્ધાવસ્થામાં દુર્વાસા મુનિ દ્વારા વરદાન મળ્યું હતું</td>\n",
              "    </tr>\n",
              "    <tr>\n",
              "      <th>6</th>\n",
              "      <td>આ સિવાય મુચંઈવાળી જગ્યાઓ કે જ્યાં વરસાદ વધુ હોય કે સિંચાઈની વ્યવસ્થા હોય ત્યાં અળવીની ખેતી થઈ શકે છે</td>\n",
              "      <td>આ સિવાય ઉંચાઈવાળી જગ્યાઓ કે જ્યાં વરસાદ વધુ હોય કે સિંચાઈની વ્યવસ્થા હોય ત્યાં અળવીની ખેતી થઈ શકે છે</td>\n",
              "    </tr>\n",
              "    <tr>\n",
              "      <th>7</th>\n",
              "      <td>આંકેવાલીયા ગામના લોકોનો મુખ્ય વ્યવસાય ખેતી</td>\n",
              "      <td>આંકેવાલીયા ગામના લોકોનો મુખ્ય વ્યવસાય ખેતી</td>\n",
              "    </tr>\n",
              "    <tr>\n",
              "      <th>8</th>\n",
              "      <td>અંજા જિલ્લાનું મુખ્ય મથક હવાઇ ખાતે આવેલું છે</td>\n",
              "      <td>અંજા જિલ્લાનું મુખ્ય મથક હવાઇ ખાતે આવેલું છે</td>\n",
              "    </tr>\n",
              "    <tr>\n",
              "      <th>9</th>\n",
              "      <td>આંકડાના મૂડના છુરણમાં મરી પીસીને મેળવી અને બેબે રતિ વજનની ગોળીઓ બનાવવી</td>\n",
              "      <td>આંકડાના મૂળના ચૂર્ણમાં મરી પીસીને મેળવી અને બેબે રતી વજનની ગોળીઓ બનાવવી</td>\n",
              "    </tr>\n",
              "  </tbody>\n",
              "</table>"
            ],
            "text/plain": [
              "<IPython.core.display.HTML object>"
            ]
          },
          "metadata": {
            "tags": []
          }
        }
      ]
    },
    {
      "cell_type": "code",
      "metadata": {
        "colab": {
          "base_uri": "https://localhost:8080/"
        },
        "id": "ciZNhTG_mLmH",
        "outputId": "e2ee9ec9-c113-455f-b6aa-c4637de6edb0"
      },
      "source": [
        "input_dict = processor(common_voice_test[\"input_values\"][0], return_tensors=\"pt\", padding=True)\n",
        "\n",
        "logits = model(input_dict.input_values.to(\"cuda\")).logits\n",
        "\n",
        "pred_ids = torch.argmax(logits, dim=-1)[0]"
      ],
      "execution_count": 66,
      "outputs": [
        {
          "output_type": "stream",
          "text": [
            "It is strongly recommended to pass the ``sampling_rate`` argument to this function.Failing to do so can result in silent errors that might be hard to debug.\n"
          ],
          "name": "stderr"
        }
      ]
    },
    {
      "cell_type": "code",
      "metadata": {
        "colab": {
          "base_uri": "https://localhost:8080/",
          "height": 89,
          "referenced_widgets": [
            "1cb1742de1364753a86f97311ad4cf19",
            "4f711bdd70124deb9e390024f1f8ab0a",
            "4842adb0df1541be8b8d8d80a4a28892",
            "ebc4add9197748688752b0b906924cb7",
            "7f34df3362f54052908eeca7b454e12c",
            "b9c7ad3689dc48488a7dd0bd48f21d90",
            "2c785b5e2fb94fa3b12205693eebce08",
            "9ffe88c6d0e644d7996b8e002d03f125"
          ]
        },
        "id": "5rsjFlG1gVdP",
        "outputId": "4f07d5d4-4bc4-418d-fbbc-718e88c4ffcd"
      },
      "source": [
        "common_voice_prediction = load_dataset('csv', data_files={'test': 'test.csv'},error_bad_lines=False,encoding='utf-8',split='test')"
      ],
      "execution_count": 67,
      "outputs": [
        {
          "output_type": "stream",
          "text": [
            "Using custom data configuration default-66011583de78665e\n"
          ],
          "name": "stderr"
        },
        {
          "output_type": "stream",
          "text": [
            "Downloading and preparing dataset csv/default (download: Unknown size, generated: Unknown size, post-processed: Unknown size, total: Unknown size) to /root/.cache/huggingface/datasets/csv/default-66011583de78665e/0.0.0/2dc6629a9ff6b5697d82c25b73731dd440507a69cbce8b425db50b751e8fcfd0...\n"
          ],
          "name": "stdout"
        },
        {
          "output_type": "display_data",
          "data": {
            "application/vnd.jupyter.widget-view+json": {
              "model_id": "1cb1742de1364753a86f97311ad4cf19",
              "version_minor": 0,
              "version_major": 2
            },
            "text/plain": [
              "HBox(children=(FloatProgress(value=1.0, bar_style='info', max=1.0), HTML(value='')))"
            ]
          },
          "metadata": {
            "tags": []
          }
        },
        {
          "output_type": "stream",
          "text": [
            "\rDataset csv downloaded and prepared to /root/.cache/huggingface/datasets/csv/default-66011583de78665e/0.0.0/2dc6629a9ff6b5697d82c25b73731dd440507a69cbce8b425db50b751e8fcfd0. Subsequent calls will reuse this data.\n"
          ],
          "name": "stdout"
        }
      ]
    },
    {
      "cell_type": "code",
      "metadata": {
        "colab": {
          "base_uri": "https://localhost:8080/"
        },
        "id": "O_ySVwp-nN_8",
        "outputId": "8b919dd3-735c-4196-8758-268c536a39c6"
      },
      "source": [
        "print(\"Prediction:\")\n",
        "print(processor.decode(pred_ids))\n",
        "\n",
        "print(\"\\nReference:\")\n",
        "print(common_voice_prediction[\"sentence\"][0].lower())"
      ],
      "execution_count": 68,
      "outputs": [
        {
          "output_type": "stream",
          "text": [
            "Prediction:\n",
            "કેટલાક ઇતિહાસકારોને આ વાર્તા સાચી લાગી પણ તે માત્ર એક માન્યતા છે\n",
            "\n",
            "Reference:\n",
            "કેટલાક ઇતિહાસકારોને આ વાર્તા સાચી લાગી પણ તે માત્ર એક માન્યતા છે.\n"
          ],
          "name": "stdout"
        }
      ]
    },
    {
      "cell_type": "code",
      "metadata": {
        "colab": {
          "base_uri": "https://localhost:8080/"
        },
        "id": "DwM63NBInjGj",
        "outputId": "b9f0c942-a9bc-496c-cace-9e95451a0ccc"
      },
      "source": [
        "input_dict = processor(common_voice_test[\"input_values\"][1], return_tensors=\"pt\", padding=True)\n",
        "\n",
        "logits = model(input_dict.input_values.to(\"cuda\")).logits\n",
        "\n",
        "pred_ids = torch.argmax(logits, dim=-1)[0]"
      ],
      "execution_count": 69,
      "outputs": [
        {
          "output_type": "stream",
          "text": [
            "It is strongly recommended to pass the ``sampling_rate`` argument to this function.Failing to do so can result in silent errors that might be hard to debug.\n"
          ],
          "name": "stderr"
        }
      ]
    },
    {
      "cell_type": "code",
      "metadata": {
        "colab": {
          "base_uri": "https://localhost:8080/"
        },
        "id": "p73dLGXToAt4",
        "outputId": "cf2bf754-6543-42b6-8dd0-da6ad93c5825"
      },
      "source": [
        "print(\"Prediction:\")\n",
        "print(processor.decode(pred_ids))\n",
        "\n",
        "print(\"\\nReference:\")\n",
        "print(common_voice_prediction[\"sentence\"][1].lower())"
      ],
      "execution_count": 70,
      "outputs": [
        {
          "output_type": "stream",
          "text": [
            "Prediction:\n",
            "અણુશસ્ત્રોના અપ્રસારની સંધિના સભ્યો રાષ્ટ્રોની સમીકષા પરિસદની બેઠકોમાં દર પાંચ વર્ષે આ સંધિની સમીક્ષા હાથ ધરવામાં આવે છે\n",
            "\n",
            "Reference:\n",
            "અણુશસ્રોના અપ્રસારની સંધિના સભ્યો રાષ્ટ્રોની સમીક્ષા પરિષદની બેઠકોમાં દર પાંચ વર્ષે આ સંધિની સમીક્ષા હાથ ધરવામાં આવે છે.\n"
          ],
          "name": "stdout"
        }
      ]
    },
    {
      "cell_type": "code",
      "metadata": {
        "id": "VZgjD5U1hpIy"
      },
      "source": [
        ""
      ],
      "execution_count": 70,
      "outputs": []
    }
  ]
}